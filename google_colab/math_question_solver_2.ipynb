{
  "nbformat": 4,
  "nbformat_minor": 0,
  "metadata": {
    "colab": {
      "provenance": [],
      "authorship_tag": "ABX9TyPTkLe2LZfrIewhNopwAj6e",
      "include_colab_link": true
    },
    "kernelspec": {
      "name": "python3",
      "display_name": "Python 3"
    },
    "language_info": {
      "name": "python"
    }
  },
  "cells": [
    {
      "cell_type": "markdown",
      "metadata": {
        "id": "view-in-github",
        "colab_type": "text"
      },
      "source": [
        "<a href=\"https://colab.research.google.com/github/sukhmancs/my_projects/blob/main/google_colab/math_question_solver_2.ipynb\" target=\"_parent\"><img src=\"https://colab.research.google.com/assets/colab-badge.svg\" alt=\"Open In Colab\"/></a>"
      ]
    },
    {
      "cell_type": "code",
      "execution_count": null,
      "metadata": {
        "colab": {
          "base_uri": "https://localhost:8080/",
          "height": 624
        },
        "cellView": "form",
        "id": "NWTqmbTdOIHx",
        "outputId": "ddaa8c21-6ffa-40f9-c5fb-dc0a4fc03b74"
      },
      "outputs": [
        {
          "output_type": "stream",
          "name": "stdout",
          "text": [
            "The default values are: [33.0, 42.0, 49.0, 49.0, 53.0, 55.0, 55.0, 61.0, 63.0, 67.0, 68.0, 68.0, 69.0, 69.0, 72.0, 73.0, 74.0, 78.0, 80.0, 83.0, 88.0, 88.0, 88.0, 90.0, 92.0, 94.0, 94.0, 94.0, 94.0, 96.0, 100.0]\n",
            "\n",
            "Enter data values (separated with spaces or hit enter to keep default values): \n",
            "\n",
            "What type of figure would you like to draw? \n",
            "(1=histogram, 2=pie chart, 3=bar chart, 4=frequency table, 5=stem and leaf plot)\n",
            "\n",
            "3\n",
            "\n",
            "\n"
          ]
        },
        {
          "output_type": "display_data",
          "data": {
            "text/plain": [
              "<Figure size 640x480 with 1 Axes>"
            ],
            "image/png": "[encoded data removed]"
          },
          "metadata": {}
        }
      ],
      "source": [
        "#@title Data Visualization\n",
        "import matplotlib.pyplot as plt\n",
        "import pandas as pd\n",
        "\n",
        "def visualize_data():\n",
        "\n",
        "  data_values = []\n",
        "  data = \"33; 42; 49; 49; 53; 55; 55; 61; 63; 67; 68; 68; 69; 69; 72; 73; 74; 78; 80; 83; 88; 88; 88; 90; 92; 94; 94; 94; 94; 96; 100\"\n",
        "  data = data.replace(\"; \", \" \")\n",
        "  data_value = data.split()\n",
        "  data_values = [float(value) for value in data_value]\n",
        "  print(\"The default values are: {}\\n\".format(data_values))\n",
        "\n",
        "  # Ask user for data values\n",
        "  value = input(\"Enter data values (separated with spaces or hit enter to keep default values): \").split()\n",
        "\n",
        "  if (len(value) != 0):\n",
        "    try:\n",
        "        data_values = [float(v) for v in value]\n",
        "    except ValueError:\n",
        "        print(\"Invalid input, please enter a number.\")\n",
        "\n",
        "  # Ask user for type of figure to draw\n",
        "  figure_type = input(\"\\nWhat type of figure would you like to draw? \\n(1=histogram, 2=pie chart, 3=bar chart, 4=frequency table, 5=stem and leaf plot)\\n\\n\")\n",
        "  print(\"\\n\")\n",
        "  # Draw figure based on user input\n",
        "  if figure_type == \"1\":\n",
        "      plt.hist(data_values)\n",
        "      plt.show()\n",
        "  elif figure_type == \"2\":\n",
        "      plt.pie(data_values)\n",
        "      plt.show()\n",
        "  elif figure_type == \"3\":\n",
        "      plt.bar(range(len(data_values)), data_values)\n",
        "      plt.show()\n",
        "  elif figure_type == \"4\":\n",
        "      freq_table = pd.Series(data_values).value_counts().sort_index()\n",
        "      print(freq_table)\n",
        "  elif figure_type == \"5\":\n",
        "      stem_values, leaf_values = [], []\n",
        "      for value in data_values:\n",
        "          stem = int(value // 10)\n",
        "          leaf = int(value % 10)\n",
        "          stem_values.append(stem)\n",
        "          leaf_values.append(leaf)\n",
        "      df = pd.DataFrame({'Stem': stem_values, 'Leaf': leaf_values})\n",
        "      df = df.groupby('Stem').apply(lambda x: pd.Series(x['Leaf'].tolist())).unstack()\n",
        "      print(df.to_string(index=False, header=False))\n",
        "  else:\n",
        "      print(\"Invalid input, please enter a valid figure type.\")\n",
        "\n",
        "# Call the method\n",
        "visualize_data()"
      ]
    },
    {
      "cell_type": "code",
      "source": [
        "#@title Calculate probabilities\n",
        "\n",
        "import math\n",
        "from scipy.stats import norm\n",
        "\n",
        "def calculate_probability():\n",
        "  \n",
        "  # Ask for values or just keep the default values\n",
        "  mean = input(\"Enter your mean (default to 90): \")\n",
        "  mean = float(mean) if mean else 90\n",
        "\n",
        "  std_dev = input(\"Enter your std_dev (default to 15): \")\n",
        "  std_dev = float(std_dev) if std_dev else 15\n",
        "\n",
        "  n = input(\"Enter your n (default to 25): \")\n",
        "  n = float(n) if n else 25\n",
        "\n",
        "  # Ask for the user for values\n",
        "  values = input(\"Enter the values between you want to calculate the probabilities (seperated with spaces): \").split()  \n",
        "  values = [float(v) for v in values] if values else [85, 92] # ternary operator for default values\n",
        "\n",
        "  std_error = std_dev / math.sqrt(n) # Standard Error\n",
        "  zscore_1 = (values[0] - mean) / std_error # z_scores\n",
        "  zscore_2 = (values[1] - mean) / std_error\n",
        "\n",
        "  prob = round((abs(norm.cdf(zscore_1) - norm.cdf(zscore_2))) * 100) # Probability rounded to nearest percent\n",
        "  print(prob, \"%\")\n",
        "\n",
        "calculate_probability() # Finally call the method"
      ],
      "metadata": {
        "colab": {
          "base_uri": "https://localhost:8080/"
        },
        "cellView": "form",
        "id": "PNgjlj7AdRvi",
        "outputId": "f9a2fe9a-2acb-47b0-d859-0b981b6f9dfc"
      },
      "execution_count": null,
      "outputs": [
        {
          "output_type": "stream",
          "name": "stdout",
          "text": [
            "Enter your mean (default to 90): \n",
            "Enter your std_dev (default to 15): \n",
            "Enter your n (default to 25): \n",
            "Enter the values between you want to calculate the probabilities (seperated with spaces): \n",
            "70 %\n"
          ]
        }
      ]
    },
    {
      "cell_type": "code",
      "source": [
        "#@title Calculate Confidence Interval\n",
        "\n",
        "import math\n",
        "from scipy import stats\n",
        "\n",
        "def calc_confidence_internal():\n",
        "  \n",
        "  # Ask the user for values\n",
        "  sample_mean = input(\"Enter sample mean (default 36): \")\n",
        "  n = input(\"Enter n (default 100): \")\n",
        "  sample_std_dev = input(\"Enter sample standard deviation (default 6): \")\n",
        "  confidence_level_80 = input(\"Enter confidence level (default 80): \")\n",
        "  confidence_level_95 = input(\"Enter confidence level (default 95): \")\n",
        "\n",
        "  # Default values if nothing selected\n",
        "  sample_mean = float(sample_mean) if sample_mean else 36\n",
        "  n = float(n) if n else 100\n",
        "  sample_std_dev = float(sample_std_dev) if sample_std_dev else 6\n",
        "  confidence_level_80 = float(confidence_level_80) if confidence_level_80 else 0.80\n",
        "  confidence_level_95 = float(confidence_level_95) if confidence_level_95 else 0.95\n",
        "\n",
        "  # Calculate the standard error\n",
        "  std_error = sample_std_dev / math.sqrt(n)\n",
        "\n",
        "  # Calculate the z-scores for the confidence levels\n",
        "  z_80 = abs(stats.norm.ppf((1 - confidence_level_80) / 2))\n",
        "  z_95 = abs(stats.norm.ppf((1 - confidence_level_95) / 2))\n",
        "\n",
        "  # Calculate the margin of error for the confidence intervals\n",
        "  margin_error_80 = z_80 * std_error\n",
        "  margin_error_95 = z_95 * std_error\n",
        "\n",
        "  # Calculate the confidence intervals\n",
        "  conf_interval_80 = (sample_mean - margin_error_80, sample_mean + margin_error_80)\n",
        "  conf_interval_95 = (sample_mean - margin_error_95, sample_mean + margin_error_95)\n",
        "\n",
        "  # Print the results\n",
        "  print(\"{:.0f}% confidence interval: ({:.2f}, {:.2f})\".format(confidence_level_80 * 100, conf_interval_80[0], conf_interval_80[1]))\n",
        "  print(\"{:.0f}% confidence interval: ({:.2f}, {:.2f})\".format(confidence_level_95 * 100, conf_interval_95[0], conf_interval_95[1]))\n",
        "\n",
        "calc_confidence_internal()"
      ],
      "metadata": {
        "colab": {
          "base_uri": "https://localhost:8080/"
        },
        "cellView": "form",
        "id": "fl66ZKWm7Pdg",
        "outputId": "c2b2440a-ac99-4bec-a097-a673132a005f"
      },
      "execution_count": null,
      "outputs": [
        {
          "output_type": "stream",
          "name": "stdout",
          "text": [
            "Enter sample mean (default 36): \n",
            "Enter n (default 100): \n",
            "Enter sample standard deviation (default 6): \n",
            "Enter confidence level (default 80): \n",
            "Enter confidence level (default 95): \n",
            "80% confidence interval: (35.23, 36.77)\n",
            "95% confidence interval: (34.82, 37.18)\n"
          ]
        }
      ]
    }
  ]
}