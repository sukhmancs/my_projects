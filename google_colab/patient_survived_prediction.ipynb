{
  "nbformat": 4,
  "nbformat_minor": 0,
  "metadata": {
    "colab": {
      "provenance": [],
      "authorship_tag": "ABX9TyP1Au5NlWbC+Kze0CwmjtmZ",
      "include_colab_link": true
    },
    "kernelspec": {
      "name": "python3",
      "display_name": "Python 3"
    },
    "language_info": {
      "name": "python"
    }
  },
  "cells": [
    {
      "cell_type": "markdown",
      "metadata": {
        "id": "view-in-github",
        "colab_type": "text"
      },
      "source": [
        "<a href=\"https://colab.research.google.com/github/Sukhman723/my_projects/blob/main/google_colab/patient_survived_prediction.ipynb\" target=\"_parent\"><img src=\"https://colab.research.google.com/assets/colab-badge.svg\" alt=\"Open In Colab\"/></a>"
      ]
    },
    {
      "cell_type": "code",
      "metadata": {
        "id": "P0ahDrYqxxVt"
      },
      "source": [
        "# linear regressor\n",
        "# write cost function(or lost function)\n",
        "# compute partial gradient of cost function (minimize cost function)"
      ],
      "execution_count": 77,
      "outputs": []
    },
    {
      "cell_type": "code",
      "metadata": {
        "id": "qIBDB2iy13lQ"
      },
      "source": [
        "import pandas as pd"
      ],
      "execution_count": 78,
      "outputs": []
    },
    {
      "cell_type": "markdown",
      "metadata": {
        "id": "K4pUOvWgag0p"
      },
      "source": [
        "#Training data"
      ]
    },
    {
      "cell_type": "code",
      "metadata": {
        "id": "kxQ-xszc1I7c"
      },
      "source": [
        "my_data = {'Diabetes': [1,3,3,4,5,1],\n",
        "           'Cancer': [1,3,2,2,5,4],\n",
        "           'recovered':[0,1,1,0,1,0]}\n",
        "my_data = pd.DataFrame(my_data)\n",
        "\n",
        "# split data\n",
        "y_train = my_data['recovered']\n",
        "X_train = my_data.drop('recovered',axis=1)"
      ],
      "execution_count": 79,
      "outputs": []
    },
    {
      "cell_type": "markdown",
      "metadata": {
        "id": "aW8EqzPhaoB0"
      },
      "source": [
        "# Testing data"
      ]
    },
    {
      "cell_type": "code",
      "metadata": {
        "id": "bYDxJcKF4Ikz"
      },
      "source": [
        "test_data = pd.DataFrame({'Diabetes': [2,1,1,2,3,5],\n",
        "           'Cancer': [4,1,2,3,2,3],\n",
        "           'recovered':[1,1,0,1,0,1]})\n",
        "y_test = test_data['recovered']\n",
        "X_test = test_data.drop('recovered',axis=1)"
      ],
      "execution_count": 80,
      "outputs": []
    },
    {
      "cell_type": "code",
      "metadata": {
        "colab": {
          "base_uri": "https://localhost:8080/",
          "height": 112
        },
        "id": "2AjjF6Ll5Now",
        "outputId": "3fb11246-647f-4b1e-bae7-f08a051b6886"
      },
      "source": [
        "X_test[:2]"
      ],
      "execution_count": 81,
      "outputs": [
        {
          "output_type": "execute_result",
          "data": {
            "text/plain": [
              "   Diabetes  Cancer\n",
              "0         2       4\n",
              "1         1       1"
            ],
            "text/html": [
              "\n",
              "  <div id=\"df-203c997a-74df-4496-9ab2-4019d35fd972\">\n",
              "    <div class=\"colab-df-container\">\n",
              "      <div>\n",
              "<style scoped>\n",
              "    .dataframe tbody tr th:only-of-type {\n",
              "        vertical-align: middle;\n",
              "    }\n",
              "\n",
              "    .dataframe tbody tr th {\n",
              "        vertical-align: top;\n",
              "    }\n",
              "\n",
              "    .dataframe thead th {\n",
              "        text-align: right;\n",
              "    }\n",
              "</style>\n",
              "<table border=\"1\" class=\"dataframe\">\n",
              "  <thead>\n",
              "    <tr style=\"text-align: right;\">\n",
              "      <th></th>\n",
              "      <th>Diabetes</th>\n",
              "      <th>Cancer</th>\n",
              "    </tr>\n",
              "  </thead>\n",
              "  <tbody>\n",
              "    <tr>\n",
              "      <th>0</th>\n",
              "      <td>2</td>\n",
              "      <td>4</td>\n",
              "    </tr>\n",
              "    <tr>\n",
              "      <th>1</th>\n",
              "      <td>1</td>\n",
              "      <td>1</td>\n",
              "    </tr>\n",
              "  </tbody>\n",
              "</table>\n",
              "</div>\n",
              "      <button class=\"colab-df-convert\" onclick=\"convertToInteractive('df-203c997a-74df-4496-9ab2-4019d35fd972')\"\n",
              "              title=\"Convert this dataframe to an interactive table.\"\n",
              "              style=\"display:none;\">\n",
              "        \n",
              "  <svg xmlns=\"http://www.w3.org/2000/svg\" height=\"24px\"viewBox=\"0 0 24 24\"\n",
              "       width=\"24px\">\n",
              "    <path d=\"M0 0h24v24H0V0z\" fill=\"none\"/>\n",
              "    <path d=\"M18.56 5.44l.94 2.06.94-2.06 2.06-.94-2.06-.94-.94-2.06-.94 2.06-2.06.94zm-11 1L8.5 8.5l.94-2.06 2.06-.94-2.06-.94L8.5 2.5l-.94 2.06-2.06.94zm10 10l.94 2.06.94-2.06 2.06-.94-2.06-.94-.94-2.06-.94 2.06-2.06.94z\"/><path d=\"M17.41 7.96l-1.37-1.37c-.4-.4-.92-.59-1.43-.59-.52 0-1.04.2-1.43.59L10.3 9.45l-7.72 7.72c-.78.78-.78 2.05 0 2.83L4 21.41c.39.39.9.59 1.41.59.51 0 1.02-.2 1.41-.59l7.78-7.78 2.81-2.81c.8-.78.8-2.07 0-2.86zM5.41 20L4 18.59l7.72-7.72 1.47 1.35L5.41 20z\"/>\n",
              "  </svg>\n",
              "      </button>\n",
              "      \n",
              "  <style>\n",
              "    .colab-df-container {\n",
              "      display:flex;\n",
              "      flex-wrap:wrap;\n",
              "      gap: 12px;\n",
              "    }\n",
              "\n",
              "    .colab-df-convert {\n",
              "      background-color: #E8F0FE;\n",
              "      border: none;\n",
              "      border-radius: 50%;\n",
              "      cursor: pointer;\n",
              "      display: none;\n",
              "      fill: #1967D2;\n",
              "      height: 32px;\n",
              "      padding: 0 0 0 0;\n",
              "      width: 32px;\n",
              "    }\n",
              "\n",
              "    .colab-df-convert:hover {\n",
              "      background-color: #E2EBFA;\n",
              "      box-shadow: 0px 1px 2px rgba(60, 64, 67, 0.3), 0px 1px 3px 1px rgba(60, 64, 67, 0.15);\n",
              "      fill: #174EA6;\n",
              "    }\n",
              "\n",
              "    [theme=dark] .colab-df-convert {\n",
              "      background-color: #3B4455;\n",
              "      fill: #D2E3FC;\n",
              "    }\n",
              "\n",
              "    [theme=dark] .colab-df-convert:hover {\n",
              "      background-color: #434B5C;\n",
              "      box-shadow: 0px 1px 3px 1px rgba(0, 0, 0, 0.15);\n",
              "      filter: drop-shadow(0px 1px 2px rgba(0, 0, 0, 0.3));\n",
              "      fill: #FFFFFF;\n",
              "    }\n",
              "  </style>\n",
              "\n",
              "      <script>\n",
              "        const buttonEl =\n",
              "          document.querySelector('#df-203c997a-74df-4496-9ab2-4019d35fd972 button.colab-df-convert');\n",
              "        buttonEl.style.display =\n",
              "          google.colab.kernel.accessAllowed ? 'block' : 'none';\n",
              "\n",
              "        async function convertToInteractive(key) {\n",
              "          const element = document.querySelector('#df-203c997a-74df-4496-9ab2-4019d35fd972');\n",
              "          const dataTable =\n",
              "            await google.colab.kernel.invokeFunction('convertToInteractive',\n",
              "                                                     [key], {});\n",
              "          if (!dataTable) return;\n",
              "\n",
              "          const docLinkHtml = 'Like what you see? Visit the ' +\n",
              "            '<a target=\"_blank\" href=https://colab.research.google.com/notebooks/data_table.ipynb>data table notebook</a>'\n",
              "            + ' to learn more about interactive tables.';\n",
              "          element.innerHTML = '';\n",
              "          dataTable['output_type'] = 'display_data';\n",
              "          await google.colab.output.renderOutput(dataTable, element);\n",
              "          const docLink = document.createElement('div');\n",
              "          docLink.innerHTML = docLinkHtml;\n",
              "          element.appendChild(docLink);\n",
              "        }\n",
              "      </script>\n",
              "    </div>\n",
              "  </div>\n",
              "  "
            ]
          },
          "metadata": {},
          "execution_count": 81
        }
      ]
    },
    {
      "cell_type": "markdown",
      "source": [
        "#Define and pridict using Losgistic regression"
      ],
      "metadata": {
        "id": "qdeV7vCZXifE"
      }
    },
    {
      "cell_type": "code",
      "metadata": {
        "colab": {
          "base_uri": "https://localhost:8080/"
        },
        "id": "pea6l8Ux1ABx",
        "outputId": "45eac7f9-54aa-44c0-8ea3-b2a59f621c99"
      },
      "source": [
        "# import Logistic regression model to predict\n",
        "from sklearn.linear_model import LogisticRegression\n",
        "\n",
        "my_model = LogisticRegression()\n",
        "my_model.fit(X_train, y_train)"
      ],
      "execution_count": 82,
      "outputs": [
        {
          "output_type": "execute_result",
          "data": {
            "text/plain": [
              "LogisticRegression()"
            ]
          },
          "metadata": {},
          "execution_count": 82
        }
      ]
    },
    {
      "cell_type": "code",
      "metadata": {
        "id": "ZbSskES_4_Ko"
      },
      "source": [
        "y_predict = my_model.predict(X_test)"
      ],
      "execution_count": 83,
      "outputs": []
    },
    {
      "cell_type": "code",
      "source": [
        "for i in range(len(y_predict)):\n",
        "  result = \"Survived\" if y_predict[i] == 1 else \"Not Survived\"\n",
        "  actual = \"Survived\" if y_test[i] == 1 else \"Not Survived\"\n",
        "  print(f\"Prediction: {result:>13} \\tActual: {actual:>13}\")"
      ],
      "metadata": {
        "colab": {
          "base_uri": "https://localhost:8080/"
        },
        "id": "jIBlipVJbGp6",
        "outputId": "414124e9-99a9-41e8-824d-34568426ec26"
      },
      "execution_count": 136,
      "outputs": [
        {
          "output_type": "stream",
          "name": "stdout",
          "text": [
            "Prediction:  Not Survived \tActual:      Survived\n",
            "Prediction:  Not Survived \tActual:      Survived\n",
            "Prediction:  Not Survived \tActual:  Not Survived\n",
            "Prediction:  Not Survived \tActual:      Survived\n",
            "Prediction:  Not Survived \tActual:  Not Survived\n",
            "Prediction:      Survived \tActual:      Survived\n"
          ]
        }
      ]
    },
    {
      "cell_type": "code",
      "metadata": {
        "colab": {
          "base_uri": "https://localhost:8080/"
        },
        "id": "rwfr-tI05YhB",
        "outputId": "edae3259-dbaf-487f-c2c8-39d748253978"
      },
      "source": [
        "# calculate log_loss between actual values and predicted values\n",
        "from sklearn.metrics import log_loss\n",
        "log_loss = log_loss(y_predict, y_test)\n",
        "print('Linear regression mae :', 0.484390009606148)\n",
        "print('Logistic regression log_loss: ', log_loss)"
      ],
      "execution_count": 85,
      "outputs": [
        {
          "output_type": "stream",
          "name": "stdout",
          "text": [
            "Linear regression mae : 0.484390009606148\n",
            "Logistic regression log_loss:  17.26978799617044\n"
          ]
        }
      ]
    },
    {
      "cell_type": "code",
      "metadata": {
        "id": "QOW_7Xr284xq"
      },
      "source": [
        "# implement log-loss function/ logistic cost function\n",
        "from math import log\n",
        "cost = 0.0\n",
        "m = len(X_test)\n",
        "for i in range(len(X_test)):\n",
        "  cost += y_test[i] * log(1e-15 + y_predict[i]) + (1 - y_test[i]) * log(1) - y_predict[i]\n",
        "mean_cost = -1/m * cost"
      ],
      "execution_count": 86,
      "outputs": []
    },
    {
      "cell_type": "code",
      "metadata": {
        "colab": {
          "base_uri": "https://localhost:8080/"
        },
        "id": "2G_SbQv--9eg",
        "outputId": "2619a0b5-4e82-4472-fb65-1789a8045324"
      },
      "source": [
        "print('cost:', cost)\n",
        "print('Logistic Reg log_loss:', log_loss)\n",
        "print('mean_cost:', mean_cost)"
      ],
      "execution_count": 87,
      "outputs": [
        {
          "output_type": "stream",
          "name": "stdout",
          "text": [
            "cost: -104.61632918473205\n",
            "Logistic Reg log_loss: 17.26978799617044\n",
            "mean_cost: 17.436054864122006\n"
          ]
        }
      ]
    },
    {
      "cell_type": "markdown",
      "source": [
        "# Find partial derivative"
      ],
      "metadata": {
        "id": "CL6SWN4Ua6Mn"
      }
    },
    {
      "cell_type": "code",
      "metadata": {
        "id": "1PS5Gzw-FKS_"
      },
      "source": [
        "# placeholder of finding partial_derivatives of different features\n",
        "def partial_derivative(i,m):\n",
        "  #return (predictions - actual)*feature\n",
        "  partial_derivative += (y_predict[i] - y_test[i]) * X_train[i]\n",
        "  return partial_derivative * 1/m"
      ],
      "execution_count": 88,
      "outputs": []
    },
    {
      "cell_type": "code",
      "source": [
        "X_train.shape[1]"
      ],
      "metadata": {
        "colab": {
          "base_uri": "https://localhost:8080/"
        },
        "id": "prWyR23aZRve",
        "outputId": "244a4893-00d2-40ae-cd0f-66590f6f0dbc"
      },
      "execution_count": 89,
      "outputs": [
        {
          "output_type": "execute_result",
          "data": {
            "text/plain": [
              "2"
            ]
          },
          "metadata": {},
          "execution_count": 89
        }
      ]
    },
    {
      "cell_type": "code",
      "source": [
        "n_features = range(X_train.shape[1])\n",
        "n_examples = range(len(X_train))"
      ],
      "metadata": {
        "id": "FkSmLbQHZCpo"
      },
      "execution_count": 90,
      "outputs": []
    },
    {
      "cell_type": "code",
      "metadata": {
        "id": "0HwtH0vPstbl",
        "colab": {
          "base_uri": "https://localhost:8080/"
        },
        "outputId": "1648d642-6ba5-474b-fae8-ecce8aacfd64"
      },
      "source": [
        "def partial_derivative(i,m=len(X_test)):\n",
        "  \n",
        "  #return (predictions - actual)*feature\n",
        "  for j in n_features:\n",
        "    for i in n_examples:\n",
        "      partiald_init=0.0\n",
        "      partiald_init += (y_predict[i] - y_test[i]) * X_test.values[i]\n",
        "  return 1/m * partiald_init\n",
        "\n",
        "partial_derivative(4)"
      ],
      "execution_count": 91,
      "outputs": [
        {
          "output_type": "execute_result",
          "data": {
            "text/plain": [
              "array([0., 0.])"
            ]
          },
          "metadata": {},
          "execution_count": 91
        }
      ]
    },
    {
      "cell_type": "code",
      "metadata": {
        "id": "W8uLoHhU9st5"
      },
      "source": [
        "def partial_derivative_diabetes(m=len(X_test)):\n",
        "  #return (predictions - actual)*feature\n",
        "  for j in X_test.columns:\n",
        "    for i in range(len(X_test)):\n",
        "      partiald_init=0.0\n",
        "      partiald_init += (y_predict[i] - y_test[i]) * X_test.Diabetes[i]\n",
        "  #print(\"partial derivative for Diabetes is:\", 1/m * partiald_init)\n",
        "  return 1/m * partiald_init"
      ],
      "execution_count": 92,
      "outputs": []
    },
    {
      "cell_type": "code",
      "metadata": {
        "colab": {
          "base_uri": "https://localhost:8080/"
        },
        "id": "eMjb_6xs_igr",
        "outputId": "97283d16-4f26-4b32-a34e-f455f7a8eff1"
      },
      "source": [
        "partial_derivative_diabetes()"
      ],
      "execution_count": 93,
      "outputs": [
        {
          "output_type": "execute_result",
          "data": {
            "text/plain": [
              "0.0"
            ]
          },
          "metadata": {},
          "execution_count": 93
        }
      ]
    },
    {
      "cell_type": "code",
      "metadata": {
        "colab": {
          "base_uri": "https://localhost:8080/"
        },
        "id": "lh03xDreA5lr",
        "outputId": "ccc7a2d4-dc3d-4541-a720-a3f58beea0dd"
      },
      "source": [
        "def partial_derivative_cancer(m=len(X_test)):\n",
        "  #return (predictions - actual)*feature\n",
        "  for i in range(len(X_test)):\n",
        "    partiald_init=0.0\n",
        "    partiald_init += (y_predict[i] - y_test[i]) * X_test.Cancer[i]\n",
        "  #print(\"partial derivative for cancer is:\", 1/m * partiald_init)\n",
        "  return 1/m * partiald_init\n",
        "\n",
        "\n",
        "partial_derivative_cancer()"
      ],
      "execution_count": 94,
      "outputs": [
        {
          "output_type": "execute_result",
          "data": {
            "text/plain": [
              "0.0"
            ]
          },
          "metadata": {},
          "execution_count": 94
        }
      ]
    },
    {
      "cell_type": "code",
      "metadata": {
        "colab": {
          "base_uri": "https://localhost:8080/"
        },
        "id": "UaZrmzF49SlZ",
        "outputId": "e45db564-78c0-40b3-9944-70261057f36b"
      },
      "source": [
        "for j in X_test.columns:\n",
        "  print(j)"
      ],
      "execution_count": 95,
      "outputs": [
        {
          "output_type": "stream",
          "name": "stdout",
          "text": [
            "Diabetes\n",
            "Cancer\n"
          ]
        }
      ]
    },
    {
      "cell_type": "markdown",
      "metadata": {
        "id": "5OfxoVy2pjyV"
      },
      "source": [
        "each element in particular feature column is using the same theta (or weight). for example, we have feature columns x1, x2. We calculated theta (weight) for x1 then all the x1 elements will use the same theta. "
      ]
    },
    {
      "cell_type": "code",
      "metadata": {
        "id": "xGDoA2vzB7N3"
      },
      "source": [
        "weights = []\n",
        "for j in range(len(X_test.columns)): # where n is number of feature columns\n",
        "   theta = 1\n",
        "   iterations = 0\n",
        "   n_iterations = 5\n",
        "   gradient = partial_derivative_diabetes()\n",
        "   while iterations <= n_iterations:\n",
        "     theta = theta - 0.01 * gradient\n",
        "     iterations = iterations + 1\n",
        "   weights.append(theta)"
      ],
      "execution_count": 96,
      "outputs": []
    },
    {
      "cell_type": "code",
      "metadata": {
        "colab": {
          "base_uri": "https://localhost:8080/"
        },
        "id": "I5oMajBjEHt5",
        "outputId": "434cb258-5a03-4398-9cde-d3c62d286eaf"
      },
      "source": [
        "print(weights)"
      ],
      "execution_count": 97,
      "outputs": [
        {
          "output_type": "stream",
          "name": "stdout",
          "text": [
            "[1.0, 1.0]\n"
          ]
        }
      ]
    }
  ]
}