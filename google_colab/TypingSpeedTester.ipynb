{
  "nbformat": 4,
  "nbformat_minor": 0,
  "metadata": {
    "colab": {
      "provenance": [],
      "authorship_tag": "ABX9TyNkZpL6DaCm7+l2GD4C6VfF",
      "include_colab_link": true
    },
    "kernelspec": {
      "name": "python3",
      "display_name": "Python 3"
    },
    "language_info": {
      "name": "python"
    }
  },
  "cells": [
    {
      "cell_type": "markdown",
      "metadata": {
        "id": "view-in-github",
        "colab_type": "text"
      },
      "source": [
        "<a href=\"https://colab.research.google.com/github/Sukhman723/my_projects/blob/main/google_colab/TypingSpeedTester.ipynb\" target=\"_parent\"><img src=\"https://colab.research.google.com/assets/colab-badge.svg\" alt=\"Open In Colab\"/></a>"
      ]
    },
    {
      "cell_type": "code",
      "execution_count": null,
      "metadata": {
        "colab": {
          "base_uri": "https://localhost:8080/"
        },
        "id": "3-4N8PUi9jhX",
        "outputId": "84c1ee5a-e739-4e6c-a518-4e84afcdcf2c"
      },
      "outputs": [
        {
          "output_type": "stream",
          "name": "stdout",
          "text": [
            "Type the following text: The quick brown fox jumps over the lazy dog.\n",
            "this is my name not your ok so please make suer that  u \n",
            "Your typing speed is 1132462080.00 words per minute.\n"
          ]
        }
      ],
      "source": [
        "import time\n",
        "\n",
        "def measure_typing_speed():\n",
        "    # Get a sample text for the user to type\n",
        "    sample_text = \"The quick brown fox jumps over the lazy dog.\"\n",
        "\n",
        "    # Get the user's input\n",
        "    typed_text = input(\"Type the following text: \" + sample_text + \"\\n\")\n",
        "\n",
        "     # Start the timer when user stars typing\n",
        "    start_time = time.time()\n",
        "\n",
        "    # Stop the timer\n",
        "    end_time = time.time()\n",
        "\n",
        "    # Calculate the time taken to type the sample text\n",
        "    time_taken = end_time - start_time\n",
        "    time_taken = time_taken/60\n",
        "    # Calculate the typing speed in words per minute\n",
        "    words = len(sample_text.split())\n",
        "    typing_speed = words / time_taken\n",
        "\n",
        "    # Print the typing speed\n",
        "    print(\"Your typing speed is {:.2f} words per minute.\".format(typing_speed))\n",
        "\n",
        "measure_typing_speed()\n"
      ]
    },
    {
      "cell_type": "code",
      "source": [
        "import time\n",
        "\n",
        "start = time.time()\n",
        "# some code you want to measure\n",
        "end = time.time()\n",
        "\n",
        "elapsed = end - start\n",
        "print(elapsed, \"seconds\")\n",
        "print(start, \"\\n\", end)"
      ],
      "metadata": {
        "colab": {
          "base_uri": "https://localhost:8080/"
        },
        "id": "gsKmWNW9-rO4",
        "outputId": "0f004709-18ce-44a9-fba9-c0d4094c225a"
      },
      "execution_count": null,
      "outputs": [
        {
          "output_type": "stream",
          "name": "stdout",
          "text": [
            "3.504753112792969e-05 seconds\n",
            "1674432914.3604977 \n",
            " 1674432914.3605328\n"
          ]
        }
      ]
    }
  ]
}