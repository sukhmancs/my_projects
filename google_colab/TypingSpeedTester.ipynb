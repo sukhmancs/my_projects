{
  "nbformat": 4,
  "nbformat_minor": 0,
  "metadata": {
    "colab": {
      "provenance": [],
      "authorship_tag": "ABX9TyNbQigO1FT/0zb4kjUAf/Wv",
      "include_colab_link": true
    },
    "kernelspec": {
      "name": "python3",
      "display_name": "Python 3"
    },
    "language_info": {
      "name": "python"
    }
  },
  "cells": [
    {
      "cell_type": "markdown",
      "metadata": {
        "id": "view-in-github",
        "colab_type": "text"
      },
      "source": [
        "<a href=\"https://colab.research.google.com/github/Sukhman723/my_projects/blob/main/google_colab/TypingSpeedTester.ipynb\" target=\"_parent\"><img src=\"https://colab.research.google.com/assets/colab-badge.svg\" alt=\"Open In Colab\"/></a>"
      ]
    },
    {
      "cell_type": "markdown",
      "source": [
        "[![Open In Studio Lab](https://studiolab.sagemaker.aws/studiolab.svg)](https://studiolab.sagemaker.aws/import/github.com/Sukhman723/my_projects/blob/main/google_colab/TypingSpeedTester.ipynb)"
      ],
      "metadata": {
        "id": "3E9SgLxGQpUT"
      }
    },
    {
      "cell_type": "code",
      "execution_count": null,
      "metadata": {
        "colab": {
          "base_uri": "https://localhost:8080/"
        },
        "id": "3-4N8PUi9jhX",
        "outputId": "652abc19-3d29-4d1d-ba2e-89f59dc69e71"
      },
      "outputs": [
        {
          "output_type": "stream",
          "name": "stdout",
          "text": [
            "Type the following text: The quick brown fox jumps over the lazy dog.\n",
            "the quick brown fox jumps over the lazy dog\n",
            "Your typing speed is 99.49 words per minute.\n"
          ]
        }
      ],
      "source": [
        "#@title Check your typing speed\n",
        "import time\n",
        "\n",
        "def measure_typing_speed():\n",
        "    # Get a sample text for the user to type\n",
        "    sample_text = \"The quick brown fox jumps over the lazy dog.\"\n",
        "\n",
        "    # Start the timer when user stars typing\n",
        "    start_time = time.time()\n",
        "\n",
        "    # Get the user's input\n",
        "    typed_text = input(\"Type the following text: \" + sample_text + \"\\n\")\n",
        "\n",
        "    # Stop the timer\n",
        "    end_time = time.time()\n",
        "\n",
        "    # Calculate the time taken to type the sample text\n",
        "    time_taken = end_time - start_time\n",
        "    time_taken = time_taken/60\n",
        "    # Calculate the typing speed in words per minute\n",
        "    words = len(sample_text.split())\n",
        "    typing_speed = words / time_taken\n",
        "\n",
        "    # Print the typing speed\n",
        "    print(\"Your typing speed is {:.2f} words per minute.\".format(typing_speed))\n",
        "\n",
        "measure_typing_speed()\n"
      ]
    }
  ]
}