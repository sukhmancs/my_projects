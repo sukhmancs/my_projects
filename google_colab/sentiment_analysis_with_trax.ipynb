{
  "cells": [
    {
      "cell_type": "markdown",
      "metadata": {
        "id": "view-in-github",
        "colab_type": "text"
      },
      "source": [
        "<a href=\"https://colab.research.google.com/github/Sukhman723/my_projects/blob/main/google_colab/sentiment_analysis_with_trax.ipynb\" target=\"_parent\"><img src=\"https://colab.research.google.com/assets/colab-badge.svg\" alt=\"Open In Colab\"/></a>"
      ]
    },
    {
      "cell_type": "code",
      "source": [
        "from google.colab import drive\n",
        "drive.mount('/content/drive')"
      ],
      "metadata": {
        "colab": {
          "base_uri": "https://localhost:8080/"
        },
        "id": "-9J37ylJuw12",
        "outputId": "2a1bff3b-237d-4e52-c07e-f690fe70ac00"
      },
      "id": "-9J37ylJuw12",
      "execution_count": 14,
      "outputs": [
        {
          "output_type": "stream",
          "name": "stdout",
          "text": [
            "Drive already mounted at /content/drive; to attempt to forcibly remount, call drive.mount(\"/content/drive\", force_remount=True).\n"
          ]
        }
      ]
    },
    {
      "cell_type": "markdown",
      "metadata": {
        "id": "opJDPXu9sje3"
      },
      "source": [
        "## Table of Contents\n",
        "- [1 - Import Libraries and try out Trax](#1)\n",
        "- [2 - Importing the Data](#2)\n",
        "    - [2.1 - Loading in the Data](#2-1)\n",
        "    - [2.2 - Building the Vocabulary](#2-2)\n",
        "    - [2.3 - Converting a Tweet to a Tensor](#2-3)\n",
        "    - [2.4 - Creating a Batch Generator](#2-4)\n",
        "- [3 - Defining Classes](#3)\n",
        "    - [3.1 - ReLU Class](#3-1)\n",
        "    - [3.2 - Dense Class](#3.2)\n",
        "    - [3.3 - Model](#3-3)\n",
        "        \n",
        "- [4 - Training](#4)\n",
        "    - [4.1 Training the Model](#4-1)\n",
        "        \n",
        "    - [4.2 - Practice Making a Prediction](#4-2)\n",
        "- [5 - Evaluation](#5)\n",
        "    - [5.1 - Computing the Accuracy on a Batch](#5-1)\n",
        "        \n",
        "    - [5.2 - Testing your Model on Validation Data](#5-2)\n",
        "- [6 - Testing with your Own Input](#6)\n",
        "- [7 - Word Embeddings](#7)"
      ],
      "id": "opJDPXu9sje3"
    },
    {
      "cell_type": "code",
      "source": [
        "cd /content/drive/MyDrive/Code_files_and_data/"
      ],
      "metadata": {
        "colab": {
          "base_uri": "https://localhost:8080/"
        },
        "id": "IQptnNSWuunW",
        "outputId": "dde778b3-75bd-49be-a69e-7d6122933048"
      },
      "id": "IQptnNSWuunW",
      "execution_count": 77,
      "outputs": [
        {
          "output_type": "stream",
          "name": "stdout",
          "text": [
            "/content/drive/MyDrive/Code_files\n"
          ]
        }
      ]
    },
    {
      "cell_type": "markdown",
      "metadata": {
        "id": "IOK4n9JEjCVs"
      },
      "source": [
        "<a name=\"1\"></a>\n",
        "## 1 - Import Libraries and try out Trax\n",
        "\n",
        "- Let's import libraries and look at an example of using the Trax library."
      ],
      "id": "IOK4n9JEjCVs"
    },
    {
      "cell_type": "code",
      "source": [
        "!pip install -q -U trax\n",
        "import trax"
      ],
      "metadata": {
        "id": "VbdGmrkjumHk"
      },
      "id": "VbdGmrkjumHk",
      "execution_count": 16,
      "outputs": []
    },
    {
      "cell_type": "code",
      "execution_count": 76,
      "metadata": {
        "id": "WOTfm2P0jCVt"
      },
      "outputs": [],
      "source": [
        "import os \n",
        "import shutil\n",
        "import random as rnd\n",
        "\n",
        "# import relevant libraries\n",
        "import trax\n",
        "import trax.fastmath.numpy as np\n",
        "from trax import layers as tl\n",
        "from trax import fastmath\n",
        "\n",
        "# import Layer from the utils.py file\n",
        "from utils3 import Layer, load_tweets, process_tweet"
      ],
      "id": "WOTfm2P0jCVt"
    },
    {
      "cell_type": "code",
      "execution_count": 18,
      "metadata": {
        "id": "EyMnUt38jCVw",
        "colab": {
          "base_uri": "https://localhost:8080/",
          "height": 52
        },
        "outputId": "42add9cf-99e5-4a0f-edc0-5aeaa4f91ef8"
      },
      "outputs": [
        {
          "output_type": "display_data",
          "data": {
            "text/plain": [
              "DeviceArray(5., dtype=float32, weak_type=True)"
            ]
          },
          "metadata": {}
        },
        {
          "output_type": "stream",
          "name": "stdout",
          "text": [
            "<class 'jaxlib.xla_extension.DeviceArray'>\n"
          ]
        }
      ],
      "source": [
        "# Create an array using trax.fastmath.numpy\n",
        "a = np.array(5.0)\n",
        "\n",
        "# View the returned array\n",
        "display(a)\n",
        "\n",
        "print(type(a))"
      ],
      "id": "EyMnUt38jCVw"
    },
    {
      "cell_type": "code",
      "execution_count": 19,
      "metadata": {
        "id": "J2RUtDtrjCV0"
      },
      "outputs": [],
      "source": [
        "# Define a function that will use the trax.fastmath.numpy array\n",
        "def f(x):\n",
        "    \n",
        "    # f = x^2\n",
        "    return (x**2)"
      ],
      "id": "J2RUtDtrjCV0"
    },
    {
      "cell_type": "code",
      "execution_count": 20,
      "metadata": {
        "id": "qvUd-xzqjCV4",
        "colab": {
          "base_uri": "https://localhost:8080/"
        },
        "outputId": "58c03de7-f314-4b6d-dc52-6a9ea624afe0"
      },
      "outputs": [
        {
          "output_type": "stream",
          "name": "stdout",
          "text": [
            "f(a) for a=5.0 is 25.0\n"
          ]
        }
      ],
      "source": [
        "# Call the function\n",
        "print(f\"f(a) for a={a} is {f(a)}\")"
      ],
      "id": "qvUd-xzqjCV4"
    },
    {
      "cell_type": "code",
      "execution_count": 21,
      "metadata": {
        "id": "2Im5Hkc9jCV8",
        "colab": {
          "base_uri": "https://localhost:8080/"
        },
        "outputId": "5ea03a9c-8da6-4de1-c7fa-a3f512cf4a03"
      },
      "outputs": [
        {
          "output_type": "execute_result",
          "data": {
            "text/plain": [
              "function"
            ]
          },
          "metadata": {},
          "execution_count": 21
        }
      ],
      "source": [
        "# Directly use trax.fastmath.grad to calculate the gradient (derivative) of the function\n",
        "grad_f = trax.fastmath.grad(fun=f)  # df / dx - Gradient of function f(x) with respect to x\n",
        "\n",
        "# View the type of the retuned object (it's a function)\n",
        "type(grad_f)"
      ],
      "id": "2Im5Hkc9jCV8"
    },
    {
      "cell_type": "code",
      "execution_count": 22,
      "metadata": {
        "id": "0lDIVvx3jCV_",
        "colab": {
          "base_uri": "https://localhost:8080/",
          "height": 34
        },
        "outputId": "34a88070-56ee-4203-bb89-905af882d3b9"
      },
      "outputs": [
        {
          "output_type": "display_data",
          "data": {
            "text/plain": [
              "DeviceArray(10., dtype=float32, weak_type=True)"
            ]
          },
          "metadata": {}
        }
      ],
      "source": [
        "# Call the newly created function and pass in a value for x (the DeviceArray stored in 'a')\n",
        "grad_calculation = grad_f(a)\n",
        "\n",
        "# View the result of calling the grad_f function\n",
        "display(grad_calculation)"
      ],
      "id": "0lDIVvx3jCV_"
    },
    {
      "cell_type": "markdown",
      "metadata": {
        "id": "CZ8RUynQsktn"
      },
      "source": [
        "<a name=\"2\"></a>\n",
        "## 2 - Importing the Data\n",
        "\n",
        "<a name=\"2-1\"></a>\n",
        "### 2.1 - Loading in the Data\n",
        "\n",
        "Import the data set.  \n",
        "- You may recognize this from earlier assignments in the specialization.\n",
        "- Details of process_tweet function are available in utils.py file"
      ],
      "id": "CZ8RUynQsktn"
    },
    {
      "cell_type": "code",
      "execution_count": 23,
      "metadata": {
        "deletable": false,
        "editable": false,
        "id": "h5ClwIOSuLJh"
      },
      "outputs": [],
      "source": [
        "## DO NOT EDIT THIS CELL\n",
        "\n",
        "# Import functions from the utils.py file\n",
        "\n",
        "def train_val_split():\n",
        "    # Load positive and negative tweets\n",
        "    all_positive_tweets, all_negative_tweets = load_tweets()\n",
        "\n",
        "    # View the total number of positive and negative tweets.\n",
        "    print(f\"The number of positive tweets: {len(all_positive_tweets)}\")\n",
        "    print(f\"The number of negative tweets: {len(all_negative_tweets)}\")\n",
        "\n",
        "    # Split positive set into validation and training\n",
        "    val_pos   = all_positive_tweets[4000:] # generating validation set for positive tweets\n",
        "    train_pos  = all_positive_tweets[:4000]# generating training set for positive tweets\n",
        "\n",
        "    # Split negative set into validation and training\n",
        "    val_neg   = all_negative_tweets[4000:] # generating validation set for negative tweets\n",
        "    train_neg  = all_negative_tweets[:4000] # generating training set for nagative tweets\n",
        "    \n",
        "    # Combine training data into one set\n",
        "    train_x = train_pos + train_neg \n",
        "\n",
        "    # Combine validation data into one set\n",
        "    val_x  = val_pos + val_neg\n",
        "\n",
        "    # Set the labels for the training set (1 for positive, 0 for negative)\n",
        "    train_y = np.append(np.ones(len(train_pos)), np.zeros(len(train_neg)))\n",
        "\n",
        "    # Set the labels for the validation set (1 for positive, 0 for negative)\n",
        "    val_y  = np.append(np.ones(len(val_pos)), np.zeros(len(val_neg)))\n",
        "\n",
        "\n",
        "    return train_pos, train_neg, train_x, train_y, val_pos, val_neg, val_x, val_y"
      ],
      "id": "h5ClwIOSuLJh"
    },
    {
      "cell_type": "code",
      "execution_count": 24,
      "metadata": {
        "id": "lQOynZRtsjfD",
        "colab": {
          "base_uri": "https://localhost:8080/"
        },
        "outputId": "918abf1b-7605-43eb-8b67-6e1b3f789662"
      },
      "outputs": [
        {
          "output_type": "stream",
          "name": "stdout",
          "text": [
            "The number of positive tweets: 5000\n",
            "The number of negative tweets: 5000\n",
            "length of train_x 8000\n",
            "length of val_x 2000\n"
          ]
        }
      ],
      "source": [
        "train_pos, train_neg, train_x, train_y, val_pos, val_neg, val_x, val_y = train_val_split()\n",
        "\n",
        "print(f\"length of train_x {len(train_x)}\")\n",
        "print(f\"length of val_x {len(val_x)}\")"
      ],
      "id": "lQOynZRtsjfD"
    },
    {
      "cell_type": "code",
      "execution_count": 25,
      "metadata": {
        "id": "2bRX6aPDjCWH",
        "colab": {
          "base_uri": "https://localhost:8080/"
        },
        "outputId": "c038056e-5300-4de0-e308-d35bc0a925de"
      },
      "outputs": [
        {
          "output_type": "stream",
          "name": "stdout",
          "text": [
            "original tweet at training position 0\n",
            "#FollowFriday @France_Inte @PKuchly57 @Milipol_Paris for being top engaged members in my community this week :)\n",
            "Tweet at training position 0 after processing:\n"
          ]
        },
        {
          "output_type": "execute_result",
          "data": {
            "text/plain": [
              "['followfriday', 'top', 'engag', 'member', 'commun', 'week', ':)']"
            ]
          },
          "metadata": {},
          "execution_count": 25
        }
      ],
      "source": [
        "# Try out function that processes tweets\n",
        "print(\"original tweet at training position 0\")\n",
        "print(train_pos[0])\n",
        "\n",
        "print(\"Tweet at training position 0 after processing:\")\n",
        "process_tweet(train_pos[0])"
      ],
      "id": "2bRX6aPDjCWH"
    },
    {
      "cell_type": "markdown",
      "metadata": {
        "id": "ac4D5WSUAVub"
      },
      "source": [
        "<a name=\"2-2\"></a>\n",
        "### 2.2 - Building the Vocabulary\n",
        "\n",
        "Now build the vocabulary.\n",
        "- Map each word in each tweet to an integer (an \"index\"). \n",
        "- The following code does this for you, but please read it and understand what it's doing.\n",
        "- Note that you will build the vocabulary based on the training data. \n",
        "- To do so, you will assign an index to everyword by iterating over your training set.\n",
        "\n",
        "The vocabulary will also include some special tokens\n",
        "- `__PAD__`: padding\n",
        "- `</e>`: end of line\n",
        "- `__UNK__`: a token representing any word that is not in the vocabulary."
      ],
      "id": "ac4D5WSUAVub"
    },
    {
      "cell_type": "code",
      "execution_count": 26,
      "metadata": {
        "id": "rQaHKs7kAVuc",
        "colab": {
          "base_uri": "https://localhost:8080/",
          "height": 1000
        },
        "outputId": "34eded37-e5fa-47aa-991a-b39499e2aae9"
      },
      "outputs": [
        {
          "output_type": "stream",
          "name": "stdout",
          "text": [
            "Total words in vocab are 9089\n"
          ]
        },
        {
          "output_type": "display_data",
          "data": {
            "text/plain": [
              "{'__PAD__': 0,\n",
              " '__</e>__': 1,\n",
              " '__UNK__': 2,\n",
              " 'followfriday': 3,\n",
              " 'top': 4,\n",
              " 'engag': 5,\n",
              " 'member': 6,\n",
              " 'commun': 7,\n",
              " 'week': 8,\n",
              " ':)': 9,\n",
              " 'hey': 10,\n",
              " 'jame': 11,\n",
              " 'odd': 12,\n",
              " ':/': 13,\n",
              " 'pleas': 14,\n",
              " 'call': 15,\n",
              " 'contact': 16,\n",
              " 'centr': 17,\n",
              " '02392441234': 18,\n",
              " 'abl': 19,\n",
              " 'assist': 20,\n",
              " 'mani': 21,\n",
              " 'thank': 22,\n",
              " 'listen': 23,\n",
              " 'last': 24,\n",
              " 'night': 25,\n",
              " 'bleed': 26,\n",
              " 'amaz': 27,\n",
              " 'track': 28,\n",
              " 'scotland': 29,\n",
              " 'congrat': 30,\n",
              " 'yeaaah': 31,\n",
              " 'yipppi': 32,\n",
              " 'accnt': 33,\n",
              " 'verifi': 34,\n",
              " 'rqst': 35,\n",
              " 'succeed': 36,\n",
              " 'got': 37,\n",
              " 'blue': 38,\n",
              " 'tick': 39,\n",
              " 'mark': 40,\n",
              " 'fb': 41,\n",
              " 'profil': 42,\n",
              " '15': 43,\n",
              " 'day': 44,\n",
              " 'one': 45,\n",
              " 'irresist': 46,\n",
              " 'flipkartfashionfriday': 47,\n",
              " 'like': 48,\n",
              " 'keep': 49,\n",
              " 'love': 50,\n",
              " 'custom': 51,\n",
              " 'wait': 52,\n",
              " 'long': 53,\n",
              " 'hope': 54,\n",
              " 'enjoy': 55,\n",
              " 'happi': 56,\n",
              " 'friday': 57,\n",
              " 'lwwf': 58,\n",
              " 'second': 59,\n",
              " 'thought': 60,\n",
              " '’': 61,\n",
              " 'enough': 62,\n",
              " 'time': 63,\n",
              " 'dd': 64,\n",
              " 'new': 65,\n",
              " 'short': 66,\n",
              " 'enter': 67,\n",
              " 'system': 68,\n",
              " 'sheep': 69,\n",
              " 'must': 70,\n",
              " 'buy': 71,\n",
              " 'jgh': 72,\n",
              " 'go': 73,\n",
              " 'bayan': 74,\n",
              " ':d': 75,\n",
              " 'bye': 76,\n",
              " 'act': 77,\n",
              " 'mischiev': 78,\n",
              " 'etl': 79,\n",
              " 'layer': 80,\n",
              " 'in-hous': 81,\n",
              " 'wareh': 82,\n",
              " 'app': 83,\n",
              " 'katamari': 84,\n",
              " 'well': 85,\n",
              " '…': 86,\n",
              " 'name': 87,\n",
              " 'impli': 88,\n",
              " ':p': 89,\n",
              " 'influenc': 90,\n",
              " 'big': 91,\n",
              " '...': 92,\n",
              " 'juici': 93,\n",
              " 'selfi': 94,\n",
              " 'follow': 95,\n",
              " 'perfect': 96,\n",
              " 'alreadi': 97,\n",
              " 'know': 98,\n",
              " \"what'\": 99,\n",
              " 'great': 100,\n",
              " 'opportun': 101,\n",
              " 'junior': 102,\n",
              " 'triathlet': 103,\n",
              " 'age': 104,\n",
              " '12': 105,\n",
              " '13': 106,\n",
              " 'gatorad': 107,\n",
              " 'seri': 108,\n",
              " 'get': 109,\n",
              " 'entri': 110,\n",
              " 'lay': 111,\n",
              " 'greet': 112,\n",
              " 'card': 113,\n",
              " 'rang': 114,\n",
              " 'print': 115,\n",
              " 'today': 116,\n",
              " 'job': 117,\n",
              " ':-)': 118,\n",
              " \"friend'\": 119,\n",
              " 'lunch': 120,\n",
              " 'yummm': 121,\n",
              " 'nostalgia': 122,\n",
              " 'tb': 123,\n",
              " 'ku': 124,\n",
              " 'id': 125,\n",
              " 'conflict': 126,\n",
              " 'help': 127,\n",
              " \"here'\": 128,\n",
              " 'screenshot': 129,\n",
              " 'work': 130,\n",
              " 'hi': 131,\n",
              " 'liv': 132,\n",
              " 'hello': 133,\n",
              " 'need': 134,\n",
              " 'someth': 135,\n",
              " 'u': 136,\n",
              " 'fm': 137,\n",
              " 'twitter': 138,\n",
              " '—': 139,\n",
              " 'sure': 140,\n",
              " 'thing': 141,\n",
              " 'dm': 142,\n",
              " 'x': 143,\n",
              " \"i'v\": 144,\n",
              " 'heard': 145,\n",
              " 'four': 146,\n",
              " 'season': 147,\n",
              " 'pretti': 148,\n",
              " 'dope': 149,\n",
              " 'penthous': 150,\n",
              " 'obv': 151,\n",
              " 'gobigorgohom': 152,\n",
              " 'fun': 153,\n",
              " \"y'all\": 154,\n",
              " 'yeah': 155,\n",
              " 'suppos': 156,\n",
              " 'lol': 157,\n",
              " 'chat': 158,\n",
              " 'bit': 159,\n",
              " 'youth': 160,\n",
              " '💅🏽': 161,\n",
              " '💋': 162,\n",
              " 'seen': 163,\n",
              " 'year': 164,\n",
              " 'rest': 165,\n",
              " 'goe': 166,\n",
              " 'quickli': 167,\n",
              " 'bed': 168,\n",
              " 'music': 169,\n",
              " 'fix': 170,\n",
              " 'dream': 171,\n",
              " 'spiritu': 172,\n",
              " 'ritual': 173,\n",
              " 'festiv': 174,\n",
              " 'népal': 175,\n",
              " 'begin': 176,\n",
              " 'line-up': 177,\n",
              " 'left': 178,\n",
              " 'see': 179,\n",
              " 'sarah': 180,\n",
              " 'send': 181,\n",
              " 'us': 182,\n",
              " 'email': 183,\n",
              " 'bitsy@bitdefender.com': 184,\n",
              " \"we'll\": 185,\n",
              " 'asap': 186,\n",
              " 'kik': 187,\n",
              " 'hatessuc': 188,\n",
              " '32429': 189,\n",
              " 'kikm': 190,\n",
              " 'lgbt': 191,\n",
              " 'tinder': 192,\n",
              " 'nsfw': 193,\n",
              " 'akua': 194,\n",
              " 'cumshot': 195,\n",
              " 'come': 196,\n",
              " 'hous': 197,\n",
              " 'nsn_supplement': 198,\n",
              " 'effect': 199,\n",
              " 'press': 200,\n",
              " 'releas': 201,\n",
              " 'distribut': 202,\n",
              " 'result': 203,\n",
              " 'link': 204,\n",
              " 'remov': 205,\n",
              " 'pressreleas': 206,\n",
              " 'newsdistribut': 207,\n",
              " 'bam': 208,\n",
              " 'bestfriend': 209,\n",
              " 'lot': 210,\n",
              " 'warsaw': 211,\n",
              " '<3': 212,\n",
              " 'x46': 213,\n",
              " 'everyon': 214,\n",
              " 'watch': 215,\n",
              " 'documentari': 216,\n",
              " 'earthl': 217,\n",
              " 'youtub': 218,\n",
              " 'support': 219,\n",
              " 'buuut': 220,\n",
              " 'oh': 221,\n",
              " 'look': 222,\n",
              " 'forward': 223,\n",
              " 'visit': 224,\n",
              " 'next': 225,\n",
              " 'letsgetmessi': 226,\n",
              " 'jo': 227,\n",
              " 'make': 228,\n",
              " 'feel': 229,\n",
              " 'better': 230,\n",
              " 'never': 231,\n",
              " 'anyon': 232,\n",
              " 'kpop': 233,\n",
              " 'flesh': 234,\n",
              " 'good': 235,\n",
              " 'girl': 236,\n",
              " 'best': 237,\n",
              " 'wish': 238,\n",
              " 'reason': 239,\n",
              " 'epic': 240,\n",
              " 'soundtrack': 241,\n",
              " 'shout': 242,\n",
              " 'ad': 243,\n",
              " 'video': 244,\n",
              " 'playlist': 245,\n",
              " 'would': 246,\n",
              " 'dear': 247,\n",
              " 'jordan': 248,\n",
              " 'okay': 249,\n",
              " 'fake': 250,\n",
              " 'gameplay': 251,\n",
              " ';)': 252,\n",
              " 'haha': 253,\n",
              " 'im': 254,\n",
              " 'kid': 255,\n",
              " 'stuff': 256,\n",
              " 'exactli': 257,\n",
              " 'product': 258,\n",
              " 'line': 259,\n",
              " 'etsi': 260,\n",
              " 'shop': 261,\n",
              " 'check': 262,\n",
              " 'vacat': 263,\n",
              " 'recharg': 264,\n",
              " 'normal': 265,\n",
              " 'charger': 266,\n",
              " 'asleep': 267,\n",
              " 'talk': 268,\n",
              " 'sooo': 269,\n",
              " 'someon': 270,\n",
              " 'text': 271,\n",
              " 'ye': 272,\n",
              " 'bet': 273,\n",
              " \"he'll\": 274,\n",
              " 'fit': 275,\n",
              " 'hear': 276,\n",
              " 'speech': 277,\n",
              " 'piti': 278,\n",
              " 'green': 279,\n",
              " 'garden': 280,\n",
              " 'midnight': 281,\n",
              " 'sun': 282,\n",
              " 'beauti': 283,\n",
              " 'canal': 284,\n",
              " 'dasvidaniya': 285,\n",
              " 'till': 286,\n",
              " 'scout': 287,\n",
              " 'sg': 288,\n",
              " 'futur': 289,\n",
              " 'wlan': 290,\n",
              " 'pro': 291,\n",
              " 'confer': 292,\n",
              " 'asia': 293,\n",
              " 'chang': 294,\n",
              " 'lollipop': 295,\n",
              " '🍭': 296,\n",
              " 'nez': 297,\n",
              " 'agnezmo': 298,\n",
              " 'oley': 299,\n",
              " 'mama': 300,\n",
              " 'stand': 301,\n",
              " 'stronger': 302,\n",
              " 'god': 303,\n",
              " 'misti': 304,\n",
              " 'babi': 305,\n",
              " 'cute': 306,\n",
              " 'woohoo': 307,\n",
              " \"can't\": 308,\n",
              " 'sign': 309,\n",
              " 'yet': 310,\n",
              " 'still': 311,\n",
              " 'think': 312,\n",
              " 'mka': 313,\n",
              " 'liam': 314,\n",
              " 'access': 315,\n",
              " 'welcom': 316,\n",
              " 'stat': 317,\n",
              " 'arriv': 318,\n",
              " '1': 319,\n",
              " 'unfollow': 320,\n",
              " 'via': 321,\n",
              " 'surpris': 322,\n",
              " 'figur': 323,\n",
              " 'happybirthdayemilybett': 324,\n",
              " 'sweet': 325,\n",
              " 'talent': 326,\n",
              " '2': 327,\n",
              " 'plan': 328,\n",
              " 'drain': 329,\n",
              " 'gotta': 330,\n",
              " 'timezon': 331,\n",
              " 'parent': 332,\n",
              " 'proud': 333,\n",
              " 'least': 334,\n",
              " 'mayb': 335,\n",
              " 'sometim': 336,\n",
              " 'grade': 337,\n",
              " 'al': 338,\n",
              " 'grand': 339,\n",
              " 'manila_bro': 340,\n",
              " 'chosen': 341,\n",
              " 'let': 342,\n",
              " 'around': 343,\n",
              " '..': 344,\n",
              " 'side': 345,\n",
              " 'world': 346,\n",
              " 'eh': 347,\n",
              " 'take': 348,\n",
              " 'care': 349,\n",
              " 'final': 350,\n",
              " 'fuck': 351,\n",
              " 'weekend': 352,\n",
              " 'real': 353,\n",
              " 'x45': 354,\n",
              " 'join': 355,\n",
              " 'hushedcallwithfraydo': 356,\n",
              " 'gift': 357,\n",
              " 'yeahhh': 358,\n",
              " 'hushedpinwithsammi': 359,\n",
              " 'event': 360,\n",
              " 'might': 361,\n",
              " 'luv': 362,\n",
              " 'realli': 363,\n",
              " 'appreci': 364,\n",
              " 'share': 365,\n",
              " 'wow': 366,\n",
              " 'tom': 367,\n",
              " 'gym': 368,\n",
              " 'monday': 369,\n",
              " 'invit': 370,\n",
              " 'scope': 371,\n",
              " 'friend': 372,\n",
              " 'nude': 373,\n",
              " 'sleep': 374,\n",
              " 'birthday': 375,\n",
              " 'want': 376,\n",
              " 't-shirt': 377,\n",
              " 'cool': 378,\n",
              " 'haw': 379,\n",
              " 'phela': 380,\n",
              " 'mom': 381,\n",
              " 'obvious': 382,\n",
              " 'princ': 383,\n",
              " 'charm': 384,\n",
              " 'stage': 385,\n",
              " 'luck': 386,\n",
              " 'tyler': 387,\n",
              " 'hipster': 388,\n",
              " 'glass': 389,\n",
              " 'marti': 390,\n",
              " 'glad': 391,\n",
              " 'done': 392,\n",
              " 'afternoon': 393,\n",
              " 'read': 394,\n",
              " 'kahfi': 395,\n",
              " 'finish': 396,\n",
              " 'ohmyg': 397,\n",
              " 'yaya': 398,\n",
              " 'dub': 399,\n",
              " 'stalk': 400,\n",
              " 'ig': 401,\n",
              " 'gondooo': 402,\n",
              " 'moo': 403,\n",
              " 'tologooo': 404,\n",
              " 'becom': 405,\n",
              " 'detail': 406,\n",
              " 'zzz': 407,\n",
              " 'xx': 408,\n",
              " 'physiotherapi': 409,\n",
              " 'hashtag': 410,\n",
              " '💪': 411,\n",
              " 'monica': 412,\n",
              " 'miss': 413,\n",
              " 'sound': 414,\n",
              " 'morn': 415,\n",
              " \"that'\": 416,\n",
              " 'x43': 417,\n",
              " 'definit': 418,\n",
              " 'tri': 419,\n",
              " 'tonight': 420,\n",
              " 'took': 421,\n",
              " 'advic': 422,\n",
              " 'treviso': 423,\n",
              " 'concert': 424,\n",
              " 'citi': 425,\n",
              " 'countri': 426,\n",
              " \"i'll\": 427,\n",
              " 'start': 428,\n",
              " 'fine': 429,\n",
              " 'gorgeou': 430,\n",
              " 'xo': 431,\n",
              " 'oven': 432,\n",
              " 'roast': 433,\n",
              " 'garlic': 434,\n",
              " 'oliv': 435,\n",
              " 'oil': 436,\n",
              " 'dri': 437,\n",
              " 'tomato': 438,\n",
              " 'basil': 439,\n",
              " 'centuri': 440,\n",
              " 'tuna': 441,\n",
              " 'right': 442,\n",
              " 'back': 443,\n",
              " 'atchya': 444,\n",
              " 'even': 445,\n",
              " 'almost': 446,\n",
              " 'chanc': 447,\n",
              " 'cheer': 448,\n",
              " 'po': 449,\n",
              " 'ice': 450,\n",
              " 'cream': 451,\n",
              " 'agre': 452,\n",
              " '100': 453,\n",
              " 'heheheh': 454,\n",
              " 'that': 455,\n",
              " 'point': 456,\n",
              " 'stay': 457,\n",
              " 'home': 458,\n",
              " 'soon': 459,\n",
              " 'promis': 460,\n",
              " 'web': 461,\n",
              " 'whatsapp': 462,\n",
              " 'volta': 463,\n",
              " 'funcionar': 464,\n",
              " 'com': 465,\n",
              " 'iphon': 466,\n",
              " 'jailbroken': 467,\n",
              " 'later': 468,\n",
              " '34': 469,\n",
              " 'min': 470,\n",
              " 'leia': 471,\n",
              " 'appear': 472,\n",
              " 'hologram': 473,\n",
              " 'r2d2': 474,\n",
              " 'w': 475,\n",
              " 'messag': 476,\n",
              " 'obi': 477,\n",
              " 'wan': 478,\n",
              " 'sit': 479,\n",
              " 'luke': 480,\n",
              " 'inter': 481,\n",
              " '3': 482,\n",
              " 'ucl': 483,\n",
              " 'arsen': 484,\n",
              " 'small': 485,\n",
              " 'team': 486,\n",
              " 'pass': 487,\n",
              " '🚂': 488,\n",
              " 'dewsburi': 489,\n",
              " 'railway': 490,\n",
              " 'station': 491,\n",
              " 'dew': 492,\n",
              " 'west': 493,\n",
              " 'yorkshir': 494,\n",
              " '430': 495,\n",
              " 'smh': 496,\n",
              " '9:25': 497,\n",
              " 'live': 498,\n",
              " 'strang': 499,\n",
              " 'imagin': 500,\n",
              " 'megan': 501,\n",
              " 'masaantoday': 502,\n",
              " 'a4': 503,\n",
              " 'shweta': 504,\n",
              " 'tripathi': 505,\n",
              " '5': 506,\n",
              " '20': 507,\n",
              " 'kurta': 508,\n",
              " 'half': 509,\n",
              " 'number': 510,\n",
              " 'wsalelov': 511,\n",
              " 'ah': 512,\n",
              " 'larri': 513,\n",
              " 'anyway': 514,\n",
              " 'kinda': 515,\n",
              " 'goood': 516,\n",
              " 'life': 517,\n",
              " 'enn': 518,\n",
              " 'could': 519,\n",
              " 'warmup': 520,\n",
              " '15th': 521,\n",
              " 'bath': 522,\n",
              " 'dum': 523,\n",
              " 'andar': 524,\n",
              " 'ram': 525,\n",
              " 'sampath': 526,\n",
              " 'sona': 527,\n",
              " 'mohapatra': 528,\n",
              " 'samantha': 529,\n",
              " 'edward': 530,\n",
              " 'mein': 531,\n",
              " 'tulan': 532,\n",
              " 'razi': 533,\n",
              " 'wah': 534,\n",
              " 'josh': 535,\n",
              " 'alway': 536,\n",
              " 'smile': 537,\n",
              " 'pictur': 538,\n",
              " '16.20': 539,\n",
              " 'giveitup': 540,\n",
              " 'given': 541,\n",
              " 'ga': 542,\n",
              " 'subsidi': 543,\n",
              " 'initi': 544,\n",
              " 'propos': 545,\n",
              " 'delight': 546,\n",
              " 'yesterday': 547,\n",
              " 'x42': 548,\n",
              " 'lmaoo': 549,\n",
              " 'song': 550,\n",
              " 'ever': 551,\n",
              " 'shall': 552,\n",
              " 'littl': 553,\n",
              " 'throwback': 554,\n",
              " 'outli': 555,\n",
              " 'island': 556,\n",
              " 'cheung': 557,\n",
              " 'chau': 558,\n",
              " 'mui': 559,\n",
              " 'wo': 560,\n",
              " 'total': 561,\n",
              " 'differ': 562,\n",
              " 'kfckitchentour': 563,\n",
              " 'kitchen': 564,\n",
              " 'clean': 565,\n",
              " \"i'm\": 566,\n",
              " 'cusp': 567,\n",
              " 'test': 568,\n",
              " 'water': 569,\n",
              " 'reward': 570,\n",
              " 'arummzz': 571,\n",
              " \"let'\": 572,\n",
              " 'drive': 573,\n",
              " 'travel': 574,\n",
              " 'yogyakarta': 575,\n",
              " 'jeep': 576,\n",
              " 'indonesia': 577,\n",
              " 'instamood': 578,\n",
              " 'wanna': 579,\n",
              " 'skype': 580,\n",
              " 'may': 581,\n",
              " 'nice': 582,\n",
              " 'friendli': 583,\n",
              " 'pretend': 584,\n",
              " 'film': 585,\n",
              " 'congratul': 586,\n",
              " 'winner': 587,\n",
              " 'cheesydelight': 588,\n",
              " 'contest': 589,\n",
              " 'address': 590,\n",
              " 'guy': 591,\n",
              " 'market': 592,\n",
              " '24/7': 593,\n",
              " '14': 594,\n",
              " 'hour': 595,\n",
              " 'leav': 596,\n",
              " 'without': 597,\n",
              " 'delay': 598,\n",
              " 'actual': 599,\n",
              " 'easi': 600,\n",
              " 'guess': 601,\n",
              " 'train': 602,\n",
              " 'wd': 603,\n",
              " 'shift': 604,\n",
              " 'engin': 605,\n",
              " 'etc': 606,\n",
              " 'sunburn': 607,\n",
              " 'peel': 608,\n",
              " 'blog': 609,\n",
              " 'huge': 610,\n",
              " 'warm': 611,\n",
              " '☆': 612,\n",
              " 'complet': 613,\n",
              " 'triangl': 614,\n",
              " 'northern': 615,\n",
              " 'ireland': 616,\n",
              " 'sight': 617,\n",
              " 'smthng': 618,\n",
              " 'fr': 619,\n",
              " 'hug': 620,\n",
              " 'xoxo': 621,\n",
              " 'uu': 622,\n",
              " 'jaann': 623,\n",
              " 'topnewfollow': 624,\n",
              " 'connect': 625,\n",
              " 'wonder': 626,\n",
              " 'made': 627,\n",
              " 'fluffi': 628,\n",
              " 'insid': 629,\n",
              " 'pirouett': 630,\n",
              " 'moos': 631,\n",
              " 'trip': 632,\n",
              " 'philli': 633,\n",
              " 'decemb': 634,\n",
              " \"i'd\": 635,\n",
              " 'dude': 636,\n",
              " 'x41': 637,\n",
              " 'question': 638,\n",
              " 'flaw': 639,\n",
              " 'pain': 640,\n",
              " 'negat': 641,\n",
              " 'strength': 642,\n",
              " 'went': 643,\n",
              " 'solo': 644,\n",
              " 'move': 645,\n",
              " 'fav': 646,\n",
              " 'nirvana': 647,\n",
              " 'smell': 648,\n",
              " 'teen': 649,\n",
              " 'spirit': 650,\n",
              " 'rip': 651,\n",
              " 'ami': 652,\n",
              " 'winehous': 653,\n",
              " 'coupl': 654,\n",
              " 'tomhiddleston': 655,\n",
              " 'elizabetholsen': 656,\n",
              " 'yaytheylookgreat': 657,\n",
              " 'goodnight': 658,\n",
              " 'vid': 659,\n",
              " 'wake': 660,\n",
              " 'gonna': 661,\n",
              " 'shoot': 662,\n",
              " 'itti': 663,\n",
              " 'bitti': 664,\n",
              " 'teeni': 665,\n",
              " 'bikini': 666,\n",
              " 'much': 667,\n",
              " '4th': 668,\n",
              " 'togeth': 669,\n",
              " 'end': 670,\n",
              " 'xfile': 671,\n",
              " 'content': 672,\n",
              " 'rain': 673,\n",
              " 'fabul': 674,\n",
              " 'fantast': 675,\n",
              " '♡': 676,\n",
              " 'jb': 677,\n",
              " 'forev': 678,\n",
              " 'belieb': 679,\n",
              " 'nighti': 680,\n",
              " 'bug': 681,\n",
              " 'bite': 682,\n",
              " 'bracelet': 683,\n",
              " 'idea': 684,\n",
              " 'foundri': 685,\n",
              " 'game': 686,\n",
              " 'sens': 687,\n",
              " 'pic': 688,\n",
              " 'ef': 689,\n",
              " 'phone': 690,\n",
              " 'woot': 691,\n",
              " 'derek': 692,\n",
              " 'use': 693,\n",
              " 'parkshar': 694,\n",
              " 'gloucestershir': 695,\n",
              " 'aaaahhh': 696,\n",
              " 'man': 697,\n",
              " 'traffic': 698,\n",
              " 'stress': 699,\n",
              " 'reliev': 700,\n",
              " \"how'r\": 701,\n",
              " 'arbeloa': 702,\n",
              " 'turn': 703,\n",
              " '17': 704,\n",
              " 'omg': 705,\n",
              " 'say': 706,\n",
              " 'europ': 707,\n",
              " 'rise': 708,\n",
              " 'find': 709,\n",
              " 'hard': 710,\n",
              " 'believ': 711,\n",
              " 'uncount': 712,\n",
              " 'coz': 713,\n",
              " 'unlimit': 714,\n",
              " 'cours': 715,\n",
              " 'teamposit': 716,\n",
              " 'aldub': 717,\n",
              " '☕': 718,\n",
              " 'rita': 719,\n",
              " 'info': 720,\n",
              " \"we'd\": 721,\n",
              " 'way': 722,\n",
              " 'boy': 723,\n",
              " 'x40': 724,\n",
              " 'true': 725,\n",
              " 'sethi': 726,\n",
              " 'high': 727,\n",
              " 'exe': 728,\n",
              " 'skeem': 729,\n",
              " 'saam': 730,\n",
              " 'peopl': 731,\n",
              " 'polit': 732,\n",
              " 'izzat': 733,\n",
              " 'wese': 734,\n",
              " 'trust': 735,\n",
              " 'khawateen': 736,\n",
              " 'k': 737,\n",
              " 'sath': 738,\n",
              " 'mana': 739,\n",
              " 'kar': 740,\n",
              " 'deya': 741,\n",
              " 'sort': 742,\n",
              " 'smart': 743,\n",
              " 'hair': 744,\n",
              " 'tbh': 745,\n",
              " 'jacob': 746,\n",
              " 'g': 747,\n",
              " 'upgrad': 748,\n",
              " 'tee': 749,\n",
              " 'famili': 750,\n",
              " 'person': 751,\n",
              " 'two': 752,\n",
              " 'convers': 753,\n",
              " 'onlin': 754,\n",
              " 'mclaren': 755,\n",
              " 'fridayfeel': 756,\n",
              " 'tgif': 757,\n",
              " 'squar': 758,\n",
              " 'enix': 759,\n",
              " 'bissmillah': 760,\n",
              " 'ya': 761,\n",
              " 'allah': 762,\n",
              " \"we'r\": 763,\n",
              " 'socent': 764,\n",
              " 'startup': 765,\n",
              " 'drop': 766,\n",
              " 'your': 767,\n",
              " 'arnd': 768,\n",
              " 'town': 769,\n",
              " 'basic': 770,\n",
              " 'piss': 771,\n",
              " 'cup': 772,\n",
              " 'also': 773,\n",
              " 'terribl': 774,\n",
              " 'complic': 775,\n",
              " 'discuss': 776,\n",
              " 'snapchat': 777,\n",
              " 'lynettelow': 778,\n",
              " 'kikmenow': 779,\n",
              " 'snapm': 780,\n",
              " 'hot': 781,\n",
              " 'amazon': 782,\n",
              " 'kikmeguy': 783,\n",
              " 'defin': 784,\n",
              " 'grow': 785,\n",
              " 'sport': 786,\n",
              " 'rt': 787,\n",
              " 'rakyat': 788,\n",
              " 'write': 789,\n",
              " 'sinc': 790,\n",
              " 'mention': 791,\n",
              " 'fli': 792,\n",
              " 'fish': 793,\n",
              " 'promot': 794,\n",
              " 'post': 795,\n",
              " 'cyber': 796,\n",
              " 'ourdaughtersourprid': 797,\n",
              " 'mypapamyprid': 798,\n",
              " 'papa': 799,\n",
              " 'coach': 800,\n",
              " 'posit': 801,\n",
              " 'kha': 802,\n",
              " 'atleast': 803,\n",
              " 'x39': 804,\n",
              " 'mango': 805,\n",
              " \"lassi'\": 806,\n",
              " \"monty'\": 807,\n",
              " 'marvel': 808,\n",
              " 'though': 809,\n",
              " 'suspect': 810,\n",
              " 'meant': 811,\n",
              " '24': 812,\n",
              " 'hr': 813,\n",
              " 'touch': 814,\n",
              " 'kepler': 815,\n",
              " '452b': 816,\n",
              " 'chalna': 817,\n",
              " 'hai': 818,\n",
              " 'thankyou': 819,\n",
              " 'hazel': 820,\n",
              " 'food': 821,\n",
              " 'brooklyn': 822,\n",
              " 'pta': 823,\n",
              " 'awak': 824,\n",
              " 'okayi': 825,\n",
              " 'awww': 826,\n",
              " 'ha': 827,\n",
              " 'doc': 828,\n",
              " 'splendid': 829,\n",
              " 'spam': 830,\n",
              " 'folder': 831,\n",
              " 'amount': 832,\n",
              " 'nigeria': 833,\n",
              " 'claim': 834,\n",
              " 'rted': 835,\n",
              " 'leg': 836,\n",
              " 'hurt': 837,\n",
              " 'bad': 838,\n",
              " 'mine': 839,\n",
              " 'saturday': 840,\n",
              " 'thaaank': 841,\n",
              " 'puhon': 842,\n",
              " 'happinesss': 843,\n",
              " 'tnc': 844,\n",
              " 'prior': 845,\n",
              " 'notif': 846,\n",
              " 'fat': 847,\n",
              " 'co': 848,\n",
              " 'probabl': 849,\n",
              " 'ate': 850,\n",
              " 'yuna': 851,\n",
              " 'tamesid': 852,\n",
              " '´': 853,\n",
              " 'googl': 854,\n",
              " 'account': 855,\n",
              " 'scouser': 856,\n",
              " 'everyth': 857,\n",
              " 'zoe': 858,\n",
              " 'mate': 859,\n",
              " 'liter': 860,\n",
              " \"they'r\": 861,\n",
              " 'samee': 862,\n",
              " 'edgar': 863,\n",
              " 'updat': 864,\n",
              " 'log': 865,\n",
              " 'bring': 866,\n",
              " 'abe': 867,\n",
              " 'meet': 868,\n",
              " 'x38': 869,\n",
              " 'sigh': 870,\n",
              " 'dreamili': 871,\n",
              " 'pout': 872,\n",
              " 'eye': 873,\n",
              " 'quacketyquack': 874,\n",
              " 'funni': 875,\n",
              " 'happen': 876,\n",
              " 'phil': 877,\n",
              " 'em': 878,\n",
              " 'del': 879,\n",
              " 'rodder': 880,\n",
              " 'els': 881,\n",
              " 'play': 882,\n",
              " 'newest': 883,\n",
              " 'gamejam': 884,\n",
              " 'irish': 885,\n",
              " 'literatur': 886,\n",
              " 'inaccess': 887,\n",
              " \"kareena'\": 888,\n",
              " 'fan': 889,\n",
              " 'brain': 890,\n",
              " 'dot': 891,\n",
              " 'braindot': 892,\n",
              " 'fair': 893,\n",
              " 'rush': 894,\n",
              " 'either': 895,\n",
              " 'brandi': 896,\n",
              " '18': 897,\n",
              " 'carniv': 898,\n",
              " 'men': 899,\n",
              " 'put': 900,\n",
              " 'mask': 901,\n",
              " 'xavier': 902,\n",
              " 'forneret': 903,\n",
              " 'jennif': 904,\n",
              " 'site': 905,\n",
              " 'free': 906,\n",
              " '50.000': 907,\n",
              " '8': 908,\n",
              " 'ball': 909,\n",
              " 'pool': 910,\n",
              " 'coin': 911,\n",
              " 'edit': 912,\n",
              " 'trish': 913,\n",
              " '♥': 914,\n",
              " 'grate': 915,\n",
              " 'three': 916,\n",
              " 'comment': 917,\n",
              " 'wakeup': 918,\n",
              " 'besid': 919,\n",
              " 'dirti': 920,\n",
              " 'sex': 921,\n",
              " 'lmaooo': 922,\n",
              " '😤': 923,\n",
              " 'loui': 924,\n",
              " \"he'\": 925,\n",
              " 'throw': 926,\n",
              " 'caus': 927,\n",
              " 'inspir': 928,\n",
              " 'ff': 929,\n",
              " 'twoof': 930,\n",
              " 'gr8': 931,\n",
              " 'wkend': 932,\n",
              " 'kind': 933,\n",
              " 'exhaust': 934,\n",
              " 'word': 935,\n",
              " 'cheltenham': 936,\n",
              " 'area': 937,\n",
              " 'kale': 938,\n",
              " 'crisp': 939,\n",
              " 'ruin': 940,\n",
              " 'x37': 941,\n",
              " 'open': 942,\n",
              " 'worldwid': 943,\n",
              " 'outta': 944,\n",
              " 'sfvbeta': 945,\n",
              " 'vantast': 946,\n",
              " 'xcylin': 947,\n",
              " 'bundl': 948,\n",
              " 'show': 949,\n",
              " 'internet': 950,\n",
              " 'price': 951,\n",
              " 'realisticli': 952,\n",
              " 'pay': 953,\n",
              " 'net': 954,\n",
              " 'educ': 955,\n",
              " 'power': 956,\n",
              " 'weapon': 957,\n",
              " 'nelson': 958,\n",
              " 'mandela': 959,\n",
              " 'recent': 960,\n",
              " 'j': 961,\n",
              " 'chenab': 962,\n",
              " 'flow': 963,\n",
              " 'pakistan': 964,\n",
              " 'incredibleindia': 965,\n",
              " 'teenchoic': 966,\n",
              " 'choiceinternationalartist': 967,\n",
              " 'superjunior': 968,\n",
              " 'caught': 969,\n",
              " 'first': 970,\n",
              " 'salmon': 971,\n",
              " 'super-blend': 972,\n",
              " 'project': 973,\n",
              " 'youth@bipolaruk.org.uk': 974,\n",
              " 'awesom': 975,\n",
              " 'stream': 976,\n",
              " 'alma': 977,\n",
              " 'mater': 978,\n",
              " 'highschoolday': 979,\n",
              " 'clientvisit': 980,\n",
              " 'faith': 981,\n",
              " 'christian': 982,\n",
              " 'school': 983,\n",
              " 'lizaminnelli': 984,\n",
              " 'upcom': 985,\n",
              " 'uk': 986,\n",
              " '😄': 987,\n",
              " 'singl': 988,\n",
              " 'hill': 989,\n",
              " 'everi': 990,\n",
              " 'beat': 991,\n",
              " 'wrong': 992,\n",
              " 'readi': 993,\n",
              " 'natur': 994,\n",
              " 'pefumeri': 995,\n",
              " 'workshop': 996,\n",
              " 'neal': 997,\n",
              " 'yard': 998,\n",
              " 'covent': 999,\n",
              " ...}"
            ]
          },
          "metadata": {}
        }
      ],
      "source": [
        "# Build the vocabulary\n",
        "# Unit Test Note - There is no test set here only train/val\n",
        "def get_vocab(train_x):\n",
        "\n",
        "    # Include special tokens \n",
        "    # started with pad, end of line and unk tokens\n",
        "    Vocab = {'__PAD__': 0, '__</e>__': 1, '__UNK__': 2} \n",
        "\n",
        "    # Note that we build vocab using training data\n",
        "    for tweet in train_x: \n",
        "        processed_tweet = process_tweet(tweet)\n",
        "        for word in processed_tweet:\n",
        "            if word not in Vocab: \n",
        "                Vocab[word] = len(Vocab)\n",
        "    \n",
        "    return Vocab\n",
        "\n",
        "Vocab = get_vocab(train_x)\n",
        "\n",
        "print(\"Total words in vocab are\",len(Vocab))\n",
        "display(Vocab)"
      ],
      "id": "rQaHKs7kAVuc"
    },
    {
      "cell_type": "markdown",
      "metadata": {
        "id": "0x8pND8tAVuf"
      },
      "source": [
        "<a name=\"2-3\"></a>\n",
        "## 2.3 - Converting a Tweet to a Tensor\n",
        "\n",
        "Write a function that will convert each tweet to a tensor (a list of unique integer IDs representing the processed tweet).\n",
        "- Note, the returned data type will be a **regular Python `list()`**\n",
        "    - You won't use TensorFlow in this function\n",
        "    - You also won't use a numpy array\n",
        "    - You also won't use trax.fastmath.numpy array\n",
        "- For words in the tweet that are not in the vocabulary, set them to the unique ID for the token `__UNK__`.\n",
        "\n",
        "##### Example\n",
        "Input a tweet:\n",
        "```CPP\n",
        "'@happypuppy, is Maria happy?'\n",
        "```\n",
        "\n",
        "The tweet_to_tensor will first conver the tweet into a list of tokens (including only relevant words)\n",
        "```CPP\n",
        "['maria', 'happi']\n",
        "```\n",
        "\n",
        "Then it will convert each word into its unique integer\n",
        "\n",
        "```CPP\n",
        "[2, 56]\n",
        "```\n",
        "- Notice that the word \"maria\" is not in the vocabulary, so it is assigned the unique integer associated with the `__UNK__` token, because it is considered \"unknown.\"\n",
        "\n"
      ],
      "id": "0x8pND8tAVuf"
    },
    {
      "cell_type": "code",
      "execution_count": 27,
      "metadata": {
        "id": "Ft1zNGMaAVuf"
      },
      "outputs": [],
      "source": [
        "# CANDIDATE FOR TABLE TEST - If a student forgets to check for unk, there might be errors or just wrong values in the list.\n",
        "# We can add those errors to check in autograder through tabled test or here student facing user test.\n",
        "\n",
        "# UNQ_C1 (UNIQUE CELL IDENTIFIER, DO NOT EDIT) \n",
        "# GRADED FUNCTION: tweet_to_tensor\n",
        "def tweet_to_tensor(tweet, vocab_dict, unk_token='__UNK__', verbose=False):\n",
        "    '''\n",
        "    Input: \n",
        "        tweet - A string containing a tweet\n",
        "        vocab_dict - The words dictionary\n",
        "        unk_token - The special string for unknown tokens\n",
        "        verbose - Print info durign runtime\n",
        "    Output:\n",
        "        tensor_l - A python list with\n",
        "        \n",
        "    '''     \n",
        "    ### START CODE HERE (Replace instances of 'None' with your code) ###\n",
        "    # Process the tweet into a list of words\n",
        "    # where only important words are kept (stop words removed)\n",
        "    word_l = process_tweet(tweet)\n",
        "    \n",
        "    if verbose:\n",
        "        print(\"List of words from the processed tweet:\")\n",
        "        print(word_l)\n",
        "        \n",
        "    # Initialize the list that will contain the unique integer IDs of each word\n",
        "    tensor_l = [] \n",
        "    \n",
        "    # Get the unique integer ID of the __UNK__ token\n",
        "    unk_ID = unk_token\n",
        "    \n",
        "    if verbose:\n",
        "        print(f\"The unique integer ID for the unk_token is {unk_ID}\")\n",
        "        \n",
        "    # for each word in the list:\n",
        "    for word in word_l:\n",
        "        \n",
        "        # Get the unique integer ID.\n",
        "        # If the word doesn't exist in the vocab dictionary,\n",
        "        # use the unique ID for __UNK__ instead.        \n",
        "        word_ID = vocab_dict.get(word, vocab_dict[unk_ID])\n",
        "            \n",
        "        # Append the unique integer ID to the tensor list.\n",
        "        tensor_l.append(word_ID)\n",
        "    ### END CODE HERE ###\n",
        "    \n",
        "    return tensor_l"
      ],
      "id": "Ft1zNGMaAVuf"
    },
    {
      "cell_type": "code",
      "execution_count": 28,
      "metadata": {
        "id": "ze0Zx_5UjCWU",
        "colab": {
          "base_uri": "https://localhost:8080/"
        },
        "outputId": "478c5e29-2973-4c8a-ba61-5f80b5c9efc2"
      },
      "outputs": [
        {
          "output_type": "stream",
          "name": "stdout",
          "text": [
            "Actual tweet is\n",
            " Bro:U wan cut hair anot,ur hair long Liao bo\n",
            "Me:since ord liao,take it easy lor treat as save $ leave it longer :)\n",
            "Bro:LOL Sibei xialan\n",
            "\n",
            "Tensor of tweet:\n",
            " [1064, 136, 478, 2351, 744, 8149, 1122, 744, 53, 2, 2671, 790, 2, 2, 348, 600, 2, 3488, 1016, 596, 4558, 9, 1064, 157, 2, 2]\n"
          ]
        }
      ],
      "source": [
        "print(\"Actual tweet is\\n\", val_pos[0])\n",
        "print(\"\\nTensor of tweet:\\n\", tweet_to_tensor(val_pos[0], vocab_dict=Vocab))"
      ],
      "id": "ze0Zx_5UjCWU"
    },
    {
      "cell_type": "markdown",
      "metadata": {
        "id": "rwAZZIYYAVuj"
      },
      "source": [
        "<a name=\"2-4\"></a>\n",
        "### 2.4 - Creating a Batch Generator\n",
        "\n",
        "Most of the time in Natural Language Processing, and AI in general we use batches when training our data sets. \n",
        "- If instead of training with batches of examples, you were to train a model with one example at a time, it would take a very long time to train the model. \n",
        "- You will now build a data generator that takes in the positive/negative tweets and returns a batch of training examples. It returns the model inputs, the targets (positive or negative labels) and the weight for each target (ex: this allows us to can treat some examples as more important to get right than others, but commonly this will all be 1.0). \n",
        "\n",
        "Once you create the generator, you could include it in a for loop\n",
        "\n",
        "```CPP\n",
        "for batch_inputs, batch_targets, batch_example_weights in data_generator:\n",
        "    ...\n",
        "```\n",
        "\n",
        "You can also get a single batch like this:\n",
        "\n",
        "```CPP\n",
        "batch_inputs, batch_targets, batch_example_weights = next(data_generator)\n",
        "```\n",
        "The generator returns the next batch each time it's called. \n",
        "- This generator returns the data in a format (tensors) that you could directly use in your model.\n",
        "- It returns a triplet: the inputs, targets, and loss weights:\n",
        "    - Inputs is a tensor that contains the batch of tweets we put into the model.\n",
        "    - Targets is the corresponding batch of labels that we train to generate.\n",
        "    - Loss weights here are just 1s with same shape as targets. Next week, you will use it to mask input padding."
      ],
      "id": "rwAZZIYYAVuj"
    },
    {
      "cell_type": "code",
      "execution_count": 29,
      "metadata": {
        "id": "fPd9HNT7AVuk"
      },
      "outputs": [],
      "source": [
        "# UNQ_C2 (UNIQUE CELL IDENTIFIER, DO NOT EDIT)\n",
        "# GRADED: Data generator\n",
        "def data_generator(data_pos, data_neg, batch_size, loop, vocab_dict, shuffle=False):\n",
        "    '''\n",
        "    Input: \n",
        "        data_pos - Set of positive examples\n",
        "        data_neg - Set of negative examples\n",
        "        batch_size - number of samples per batch. Must be even\n",
        "        loop - True or False\n",
        "        vocab_dict - The words dictionary\n",
        "        shuffle - Shuffle the data order\n",
        "    Yield:\n",
        "        inputs - Subset of positive and negative examples\n",
        "        targets - The corresponding labels for the subset\n",
        "        example_weights - An array specifying the importance of each example\n",
        "        \n",
        "    '''     \n",
        "\n",
        "    # make sure the batch size is an even number\n",
        "    # to allow an equal number of positive and negative samples    \n",
        "    assert batch_size % 2 == 0\n",
        "    \n",
        "    # Number of positive examples in each batch is half of the batch size\n",
        "    # same with number of negative examples in each batch\n",
        "    n_to_take = batch_size // 2\n",
        "    \n",
        "    # Use pos_index to walk through the data_pos array\n",
        "    # same with neg_index and data_neg\n",
        "    pos_index = 0\n",
        "    neg_index = 0\n",
        "    \n",
        "    len_data_pos = len(data_pos)\n",
        "    len_data_neg = len(data_neg)\n",
        "    \n",
        "    # Get and array with the data indexes\n",
        "    pos_index_lines = list(range(len_data_pos))\n",
        "    neg_index_lines = list(range(len_data_neg))\n",
        "    \n",
        "    # shuffle lines if shuffle is set to True\n",
        "    if shuffle:\n",
        "        rnd.shuffle(pos_index_lines)\n",
        "        rnd.shuffle(neg_index_lines)\n",
        "        \n",
        "    stop = False\n",
        "    \n",
        "    # Loop indefinitely\n",
        "    while not stop:  \n",
        "        \n",
        "        # create a batch with positive and negative examples\n",
        "        batch = []\n",
        "        \n",
        "        # First part: Pack n_to_take positive examples\n",
        "        \n",
        "        # Start from 0 and increment i up to n_to_take\n",
        "        for i in range(n_to_take):\n",
        "                    \n",
        "            # If the positive index goes past the positive dataset,\n",
        "            if pos_index >= len_data_pos: \n",
        "                \n",
        "                # If loop is set to False, break once we reach the end of the dataset\n",
        "                if not loop:\n",
        "                    stop = True;\n",
        "                    break;\n",
        "                # If user wants to keep re-using the data, reset the index\n",
        "                pos_index = 0\n",
        "                if shuffle:\n",
        "                    # Shuffle the index of the positive sample\n",
        "                    rnd.shuffle(pos_index_lines)\n",
        "                    \n",
        "            # get the tweet as pos_index\n",
        "            tweet = data_pos[pos_index_lines[pos_index]]\n",
        "            \n",
        "            # convert the tweet into tensors of integers representing the processed words\n",
        "            tensor = tweet_to_tensor(tweet, vocab_dict)\n",
        "            \n",
        "            # append the tensor to the batch list\n",
        "            batch.append(tensor)\n",
        "            \n",
        "            # Increment pos_index by one\n",
        "            pos_index = pos_index + 1\n",
        "\n",
        "\n",
        "            \n",
        "        ### START CODE HERE (Replace instances of 'None' with your code) ###\n",
        "\n",
        "        # Second part: Pack n_to_take negative examples\n",
        "\n",
        "        # Using the same batch list, start from 0 and increment i up to n_to_take\n",
        "        for i in range(n_to_take):\n",
        "            \n",
        "            # If the negative index goes past the negative dataset,\n",
        "            if neg_index >= len_data_neg:\n",
        "                \n",
        "                # If loop is set to False, break once we reach the end of the dataset\n",
        "                if not loop:\n",
        "                    stop = True \n",
        "                    break \n",
        "                    \n",
        "                # If user wants to keep re-using the data, reset the index\n",
        "                neg_index = 0\n",
        "                \n",
        "                if shuffle:\n",
        "                    # Shuffle the index of the negative sample\n",
        "                    rnd.shuffle(neg_index_lines)\n",
        "                    \n",
        "            # get the tweet as neg_index\n",
        "            tweet = data_neg[neg_index_lines[neg_index]]\n",
        "            \n",
        "            # convert the tweet into tensors of integers representing the processed words\n",
        "            tensor = tweet_to_tensor(tweet, vocab_dict)\n",
        "            \n",
        "            # append the tensor to the batch list\n",
        "            batch.append(tensor)\n",
        "            \n",
        "            # Increment neg_index by one\n",
        "            neg_index = neg_index + 1\n",
        "\n",
        "        ### END CODE HERE ###        \n",
        "\n",
        "        if stop:\n",
        "            break;\n",
        "\n",
        "        # Get the max tweet length (the length of the longest tweet) \n",
        "        # (you will pad all shorter tweets to have this length)\n",
        "        max_len = max([len(t) for t in batch]) \n",
        "        \n",
        "        \n",
        "        # Initialize the input_l, which will \n",
        "        # store the padded versions of the tensors\n",
        "        tensor_pad_l = []\n",
        "        # Pad shorter tweets with zeros\n",
        "        for tensor in batch:\n",
        "\n",
        "\n",
        "        ### START CODE HERE (Replace instances of 'None' with your code) ###\n",
        "            # Get the number of positions to pad for this tensor so that it will be max_len long\n",
        "            n_pad = max_len - len(tensor)\n",
        "            \n",
        "            # Generate a list of zeros, with length n_pad\n",
        "            pad_l = [0] * n_pad\n",
        "            \n",
        "            # concatenate the tensor and the list of padded zeros\n",
        "            tensor_pad = tensor + pad_l\n",
        "            \n",
        "            # append the padded tensor to the list of padded tensors\n",
        "            tensor_pad_l.append(tensor_pad)\n",
        "\n",
        "        # convert the list of padded tensors to a numpy array\n",
        "        # and store this as the model inputs\n",
        "        inputs = np.array(tensor_pad_l)\n",
        "  \n",
        "        # Generate the list of targets for the positive examples (a list of ones)\n",
        "        # The length is the number of positive examples in the batch\n",
        "        target_pos = [1] * n_to_take\n",
        "        \n",
        "        # Generate the list of targets for the negative examples (a list of zeros)\n",
        "        # The length is the number of negative examples in the batch\n",
        "        target_neg = [0] * n_to_take\n",
        "        \n",
        "        # Concatenate the positve and negative targets\n",
        "        target_l = target_pos + target_neg\n",
        "        \n",
        "        # Convert the target list into a numpy array\n",
        "        targets = np.array(target_l)\n",
        "\n",
        "        # Example weights: Treat all examples equally importantly.\n",
        "        example_weights = np.ones(targets.shape, dtype=int)\n",
        "        \n",
        "\n",
        "        ### END CODE HERE ###\n",
        "\n",
        "        # note we use yield and not return\n",
        "        yield inputs, targets, example_weights"
      ],
      "id": "fPd9HNT7AVuk"
    },
    {
      "cell_type": "code",
      "execution_count": 30,
      "metadata": {
        "id": "iIwM4YHtAVum",
        "colab": {
          "base_uri": "https://localhost:8080/"
        },
        "outputId": "b9bf707a-fa6d-460b-db55-3955e040c8cf"
      },
      "outputs": [
        {
          "output_type": "stream",
          "name": "stdout",
          "text": [
            "Inputs: [[2005 4450 3200    9    0    0    0    0    0    0    0]\n",
            " [4953  566 2000 1453 5173 3498  141 3498  130  458    9]\n",
            " [3760  109  136  582 2929 3968    0    0    0    0    0]\n",
            " [ 249 3760    0    0    0    0    0    0    0    0    0]]\n",
            "Targets: [1 1 0 0]\n",
            "Example Weights: [1 1 1 1]\n"
          ]
        }
      ],
      "source": [
        "# Set the random number generator for the shuffle procedure\n",
        "rnd.seed(30) \n",
        "\n",
        "# Create the training data generator\n",
        "\n",
        "def train_generator(batch_size, train_pos\n",
        "                    , train_neg, vocab_dict, loop=True\n",
        "                    , shuffle = False):\n",
        "    return data_generator(train_pos, train_neg, batch_size, loop, vocab_dict, shuffle)\n",
        "\n",
        "# Create the validation data generator\n",
        "def val_generator(batch_size, val_pos\n",
        "                    , val_neg, vocab_dict, loop=True\n",
        "                    , shuffle = False):\n",
        "    return data_generator(val_pos, val_neg, batch_size, loop, vocab_dict, shuffle)\n",
        "\n",
        "# Create the validation data generator\n",
        "def test_generator(batch_size, val_pos\n",
        "                    , val_neg, vocab_dict, loop=False\n",
        "                    , shuffle = False):\n",
        "    return data_generator(val_pos, val_neg, batch_size, loop, vocab_dict, shuffle)\n",
        "\n",
        "# Get a batch from the train_generator and inspect.\n",
        "inputs, targets, example_weights = next(train_generator(4, train_pos, train_neg, Vocab, shuffle=True))\n",
        "\n",
        "# this will print a list of 4 tensors padded with zeros\n",
        "print(f'Inputs: {inputs}')\n",
        "print(f'Targets: {targets}')\n",
        "print(f'Example Weights: {example_weights}')"
      ],
      "id": "iIwM4YHtAVum"
    },
    {
      "cell_type": "code",
      "execution_count": 31,
      "metadata": {
        "id": "mcDOyrx9jCWh",
        "colab": {
          "base_uri": "https://localhost:8080/"
        },
        "outputId": "ca374f99-93ed-44b7-90c7-1c3a6160a6a0"
      },
      "outputs": [
        {
          "output_type": "stream",
          "name": "stdout",
          "text": [
            "The inputs shape is (4, 14)\n",
            "input tensor: [3 4 5 6 7 8 9 0 0 0 0 0 0 0]; target 1; example weights 1\n",
            "input tensor: [10 11 12 13 14 15 16 17 18 19 20  9 21 22]; target 1; example weights 1\n",
            "input tensor: [5737 2900 3760    0    0    0    0    0    0    0    0    0    0    0]; target 0; example weights 1\n",
            "input tensor: [ 857  255 3651 5738  306 4457  566 1229 2766  327 1201 3760    0    0]; target 0; example weights 1\n"
          ]
        }
      ],
      "source": [
        "# Test the train_generator\n",
        "\n",
        "# Create a data generator for training data,\n",
        "# which produces batches of size 4 (for tensors and their respective targets)\n",
        "tmp_data_gen = train_generator(batch_size = 4, train_pos=train_pos, train_neg=train_neg, vocab_dict=Vocab)\n",
        "\n",
        "# Call the data generator to get one batch and its targets\n",
        "tmp_inputs, tmp_targets, tmp_example_weights = next(tmp_data_gen)\n",
        "\n",
        "print(f\"The inputs shape is {tmp_inputs.shape}\")\n",
        "for i,t in enumerate(tmp_inputs):\n",
        "    print(f\"input tensor: {t}; target {tmp_targets[i]}; example weights {tmp_example_weights[i]}\")"
      ],
      "id": "mcDOyrx9jCWh"
    },
    {
      "cell_type": "markdown",
      "metadata": {
        "id": "TcWUXFaPzS-m"
      },
      "source": [
        "<a name=\"3-1\"></a>\n",
        "### 3.1 - ReLU Class\n",
        "You will now implement the ReLU activation function in a class below. The ReLU function looks as follows: \n",
        "<img src = \"images/relu.jpg\" style=\"width:300px;height:150px;\"/>\n",
        "\n",
        "$$ \\mathrm{ReLU}(x) = \\mathrm{max}(0,x) $$\n"
      ],
      "id": "TcWUXFaPzS-m"
    },
    {
      "cell_type": "code",
      "execution_count": 32,
      "metadata": {
        "id": "VGE5zZ5mzF9x"
      },
      "outputs": [],
      "source": [
        "# UNQ_C3 (UNIQUE CELL IDENTIFIER, DO NOT EDIT)\n",
        "# GRADED FUNCTION: Relu\n",
        "class Relu(Layer):\n",
        "    \"\"\"Relu activation function implementation\"\"\"\n",
        "    def forward(self, x):\n",
        "        '''\n",
        "        Input: \n",
        "            - x (a numpy array): the input\n",
        "        Output:\n",
        "            - activation (numpy array): all positive or 0 version of x\n",
        "        '''\n",
        "        ### START CODE HERE (Replace instances of 'None' with your code) ###\n",
        "        \n",
        "        activation = np.maximum(x, 0)\n",
        "\n",
        "        ### END CODE HERE ###\n",
        "        \n",
        "        return activation"
      ],
      "id": "VGE5zZ5mzF9x"
    },
    {
      "cell_type": "code",
      "execution_count": 33,
      "metadata": {
        "id": "hVQ3YtoZ1uYP",
        "colab": {
          "base_uri": "https://localhost:8080/"
        },
        "outputId": "fdff6b5f-8116-45ca-f7f9-8014efd23093"
      },
      "outputs": [
        {
          "output_type": "stream",
          "name": "stdout",
          "text": [
            "Test data is:\n",
            "[[-2. -1.  0.]\n",
            " [ 0.  1.  2.]]\n",
            "Output of Relu is:\n",
            "[[0. 0. 0.]\n",
            " [0. 1. 2.]]\n"
          ]
        }
      ],
      "source": [
        "# Test your relu function\n",
        "x = np.array([[-2.0, -1.0, 0.0], [0.0, 1.0, 2.0]], dtype=float)\n",
        "relu_layer = Relu()\n",
        "print(\"Test data is:\")\n",
        "print(x)\n",
        "print(\"Output of Relu is:\")\n",
        "print(relu_layer(x))"
      ],
      "id": "hVQ3YtoZ1uYP"
    },
    {
      "cell_type": "markdown",
      "metadata": {
        "id": "XepjDxCQ1G8p"
      },
      "source": [
        "<a name=\"3.2\"></a>\n",
        "### 3.2 - Dense Class \n",
        "\n",
        "Implement the forward function of the Dense class. \n",
        "- The forward function multiplies the input to the layer (`x`) by the weight matrix (`W`)\n",
        "\n",
        "$$\\mathrm{forward}(\\mathbf{x},\\mathbf{W}) = \\mathbf{xW} $$\n",
        "\n",
        "- You can use `numpy.dot` to perform the matrix multiplication.\n",
        "\n",
        "Note that for more efficient code execution, you will use the trax version of `math`, which includes a trax version of `numpy` and also `random`.\n",
        "\n",
        "Implement the weight initializer `new_weights` function\n",
        "- Weights are initialized with a random key.\n",
        "- The second parameter is a tuple for the desired shape of the weights (num_rows, num_cols)\n",
        "- The num of rows for weights should equal the number of columns in x, because for forward propagation, you will multiply x times weights.\n",
        "\n",
        "Please use `trax.fastmath.random.normal(key, shape, dtype=tf.float32)` to generate random values for the weight matrix. The key difference between this function\n",
        "and the standard `numpy` randomness is the explicit use of random keys, which\n",
        "need to be passed. While it can look tedious at the first sight to pass the random key everywhere, you will learn in Course 4 why this is very helpful when\n",
        "implementing some advanced models.\n",
        "- `key` can be generated by calling `random.get_prng(seed=)` and passing in a number for the `seed`.\n",
        "- `shape` is a tuple with the desired shape of the weight matrix.\n",
        "    - The number of rows in the weight matrix should equal the number of columns in the variable `x`.  Since `x` may have 2 dimensions if it represents a single training example (row, col), or three dimensions (batch_size, row, col), get the last dimension from the tuple that holds the dimensions of x.\n",
        "    - The number of columns in the weight matrix is the number of units chosen for that dense layer.  Look at the `__init__` function to see which variable stores the number of units.\n",
        "- `dtype` is the data type of the values in the generated matrix; keep the default of `tf.float32`. In this case, don't explicitly set the dtype (just let it use the default value).\n",
        "\n",
        "Set the standard deviation of the random values to 0.1\n",
        "- The values generated have a mean of 0 and standard deviation of 1.\n",
        "- Set the default standard deviation `stdev` to be 0.1 by multiplying the standard deviation to each of the values in the weight matrix."
      ],
      "id": "XepjDxCQ1G8p"
    },
    {
      "cell_type": "code",
      "execution_count": 34,
      "metadata": {
        "id": "6reTe6asjCWt",
        "colab": {
          "base_uri": "https://localhost:8080/",
          "height": 139
        },
        "outputId": "ea8b1fee-77fd-4786-918d-e7fd172009e5"
      },
      "outputs": [
        {
          "output_type": "stream",
          "name": "stdout",
          "text": [
            "The random seed generated by random.get_prng\n"
          ]
        },
        {
          "output_type": "display_data",
          "data": {
            "text/plain": [
              "DeviceArray([0, 1], dtype=uint32)"
            ]
          },
          "metadata": {}
        },
        {
          "output_type": "stream",
          "name": "stdout",
          "text": [
            "choose a matrix with 2 rows and 3 columns\n"
          ]
        },
        {
          "output_type": "display_data",
          "data": {
            "text/plain": [
              "(2, 3)"
            ]
          },
          "metadata": {}
        },
        {
          "output_type": "stream",
          "name": "stdout",
          "text": [
            "Weight matrix generated with a normal distribution with mean 0 and stdev of 1\n"
          ]
        },
        {
          "output_type": "display_data",
          "data": {
            "text/plain": [
              "DeviceArray([[ 0.95730704, -0.9699289 ,  1.0070665 ],\n",
              "             [ 0.3661903 ,  0.1729483 ,  0.29092234]], dtype=float32)"
            ]
          },
          "metadata": {}
        }
      ],
      "source": [
        "# See how the trax.fastmath.random.normal function works\n",
        "tmp_key = trax.fastmath.random.get_prng(seed=1)\n",
        "print(\"The random seed generated by random.get_prng\")\n",
        "display(tmp_key)\n",
        "\n",
        "print(\"choose a matrix with 2 rows and 3 columns\")\n",
        "tmp_shape=(2,3)\n",
        "display(tmp_shape)\n",
        "\n",
        "# Generate a weight matrix\n",
        "# Note that you'll get an error if you try to set dtype to tf.float32, where tf is tensorflow\n",
        "# Just avoid setting the dtype and allow it to use the default data type\n",
        "tmp_weight = trax.fastmath.random.normal(key=tmp_key, shape=tmp_shape)\n",
        "\n",
        "print(\"Weight matrix generated with a normal distribution with mean 0 and stdev of 1\")\n",
        "display(tmp_weight)"
      ],
      "id": "6reTe6asjCWt"
    },
    {
      "cell_type": "markdown",
      "metadata": {
        "id": "IpiJ87L9jCWw"
      },
      "source": [
        "<a name=\"ex-4\"></a>\n",
        "### - Dense\n",
        "\n",
        "Implement the `Dense` class."
      ],
      "id": "IpiJ87L9jCWw"
    },
    {
      "cell_type": "code",
      "execution_count": 35,
      "metadata": {
        "id": "783FfWt70660"
      },
      "outputs": [],
      "source": [
        "# UNQ_C4 (UNIQUE CELL IDENTIFIER, DO NOT EDIT)\n",
        "# GRADED FUNCTION: Dense\n",
        "class Dense(Layer):\n",
        "    \"\"\"\n",
        "    A dense (fully-connected) layer.\n",
        "    \"\"\"\n",
        "\n",
        "    # __init__ is implemented for you\n",
        "    def __init__(self, n_units, init_stdev=0.1):\n",
        "        \n",
        "        # Set the number of units in this layer\n",
        "        self._n_units = n_units\n",
        "        self._init_stdev = init_stdev\n",
        "\n",
        "    # Please implement 'forward()'\n",
        "    def forward(self, x):\n",
        "\n",
        "        ### START CODE HERE (Replace instances of 'None' with your code) ###\n",
        "\n",
        "        # Matrix multiply x and the weight matrix\n",
        "        dense = np.dot(x, self.weights)\n",
        "        \n",
        "        ### END CODE HERE ###\n",
        "        return dense\n",
        "\n",
        "    # init_weights\n",
        "    def init_weights_and_state(self, input_signature, random_key):\n",
        "        \n",
        "        ### START CODE HERE (Replace instances of 'None' with your code) ###\n",
        "        # The input_signature has a .shape attribute that gives the shape as a tuple\n",
        "        input_shape = input_signature.shape[-1]\n",
        "\n",
        "        # Generate the weight matrix from a normal distribution, \n",
        "        # and standard deviation of 'stdev'        \n",
        "        w = self._init_stdev * trax.fastmath.random.normal(key = random_key, shape = (input_shape, self._n_units))\n",
        "                \n",
        "        ### END CODE HERE ###     \n",
        "        self.weights = w\n",
        "        return self.weights"
      ],
      "id": "783FfWt70660"
    },
    {
      "cell_type": "code",
      "execution_count": 36,
      "metadata": {
        "id": "vw-z6n8SAVuy",
        "colab": {
          "base_uri": "https://localhost:8080/"
        },
        "outputId": "4f2b0ba3-a8f1-4c38-b4f9-1a2ed00d255e"
      },
      "outputs": [
        {
          "output_type": "stream",
          "name": "stdout",
          "text": [
            "Weights are\n",
            "  [[-0.02837107  0.09368163 -0.10050073  0.14165013  0.10543301  0.09108127\n",
            "  -0.04265671  0.0986188  -0.05575324  0.0015325 ]\n",
            " [-0.2078568   0.05548371  0.09142365  0.05744596  0.07227863  0.01210618\n",
            "  -0.03237354  0.16234998  0.02450039 -0.13809781]\n",
            " [-0.06111237  0.01403725  0.08410043 -0.10943579 -0.1077502  -0.11396457\n",
            "  -0.0593338  -0.01557651 -0.03832145 -0.11144515]]\n",
            "Foward function output is  [[-3.0395489   0.9266805   2.5414748  -2.0504727  -1.9769386  -2.5822086\n",
            "  -1.7952733   0.94427466 -0.89803994 -3.7497485 ]]\n"
          ]
        }
      ],
      "source": [
        "# Testing your Dense layer \n",
        "dense_layer = Dense(n_units=10)  #sets  number of units in dense layer\n",
        "random_key = trax.fastmath.random.get_prng(seed=0)  # sets random seed\n",
        "z = np.array([[2.0, 7.0, 25.0]]) # input array \n",
        "\n",
        "dense_layer.init(z, random_key)\n",
        "print(\"Weights are\\n \",dense_layer.weights) #Returns randomly generated weights\n",
        "print(\"Foward function output is \", dense_layer(z)) # Returns multiplied values of units and weights"
      ],
      "id": "vw-z6n8SAVuy"
    },
    {
      "cell_type": "code",
      "execution_count": 37,
      "metadata": {
        "id": "OCVwFVacsjfT",
        "colab": {
          "base_uri": "https://localhost:8080/"
        },
        "outputId": "40d451ac-5f3f-4e00-e35e-fe097a6cf4cc"
      },
      "outputs": [
        {
          "output_type": "stream",
          "name": "stdout",
          "text": [
            "Weights are\n",
            "  [[ 0.10545162 -0.09692886 -0.05946021 -0.00318857  0.24109332]\n",
            " [-0.18784492 -0.07847696 -0.03137084  0.03337089  0.17677036]\n",
            " [-0.10277646  0.14111719 -0.05084971 -0.05263775  0.05031504]\n",
            " [ 0.10549793 -0.00874073  0.07958167  0.26565617 -0.05822906]]\n",
            "Foward function output is  [[-1.4564111  -0.7315444   0.14366013  1.6651783   1.2354649 ]]\n"
          ]
        }
      ],
      "source": [
        "# Testing your Dense layer \n",
        "dense_layer = Dense(n_units=5)  #sets  number of units in dense layer\n",
        "random_key = trax.fastmath.random.get_prng(seed=0)  # sets random seed\n",
        "z = np.array([[-1.0, 10.0, 0.0, 5.0]]) # input array \n",
        "\n",
        "dense_layer.init(z, random_key)\n",
        "print(\"Weights are\\n \",dense_layer.weights) #Returns randomly generated weights\n",
        "print(\"Foward function output is \", dense_layer(z)) # Returns multiplied values of units and weights"
      ],
      "id": "OCVwFVacsjfT"
    },
    {
      "cell_type": "markdown",
      "metadata": {
        "id": "eZEY8vBCgrgy"
      },
      "source": [
        "<a name=\"3-3\"></a>\n",
        "### 3.3 - Model\n",
        "\n",
        "Now you will implement a classifier using neural networks. Here is the model architecture you will be implementing. \n",
        "\n",
        "<img src = \"images/nn.jpg\" style=\"width:400px;height:250px;\"/>\n",
        "\n",
        "For the model implementation, you will use the Trax `layers` module, imported as `tl`.\n",
        "Note that the second character of `tl` is the lowercase of letter `L`, not the number 1. Trax layers are very similar to the ones you implemented above,\n",
        "but in addition to trainable weights also have a non-trainable state.\n",
        "State is used in layers like batch normalization and for inference, you will learn more about it in course 4.\n",
        "\n",
        "First, look at the code of the Trax Dense layer and compare to your implementation above.\n",
        "- [tl.Dense](https://github.com/google/trax/blob/master/trax/layers/core.py#L29): Trax Dense layer implementation\n",
        "\n",
        "One other important layer that you will use a lot is one that allows to execute one layer after another in sequence.\n",
        "- [tl.Serial](https://github.com/google/trax/blob/master/trax/layers/combinators.py#L26): Combinator that applies layers serially.  \n",
        "    - You can pass in the layers as arguments to `Serial`, separated by commas. \n",
        "    - For example: `tl.Serial(tl.Embeddings(...), tl.Mean(...), tl.Dense(...), tl.LogSoftmax(...))`\n",
        "\n",
        "Please use the `help` function to view documentation for each layer."
      ],
      "id": "eZEY8vBCgrgy"
    },
    {
      "cell_type": "code",
      "execution_count": 38,
      "metadata": {
        "id": "RpbiDzN9jCW2",
        "colab": {
          "base_uri": "https://localhost:8080/"
        },
        "outputId": "04aaacb9-d456-452d-97f8-7883afd55780"
      },
      "outputs": [
        {
          "output_type": "stream",
          "name": "stdout",
          "text": [
            "Help on class Dense in module trax.layers.core:\n",
            "\n",
            "class Dense(trax.layers.base.Layer)\n",
            " |  Dense(n_units, kernel_initializer=<function ScaledInitializer.<locals>.Init at 0x7f611203e040>, bias_initializer=<function RandomNormalInitializer.<locals>.<lambda> at 0x7f611203e0d0>, use_bias=True, use_bfloat16=False)\n",
            " |  \n",
            " |  A dense (a.k.a. fully-connected, affine) layer.\n",
            " |  \n",
            " |  Dense layers are the prototypical example of a trainable layer, i.e., a layer\n",
            " |  with trainable weights. Each node in a dense layer computes a weighted sum of\n",
            " |  all node values from the preceding layer and adds to that sum a node-specific\n",
            " |  bias term. The full layer computation is expressed compactly in linear\n",
            " |  algebra as an affine map `y = Wx + b`, where `W` is a matrix and `y`, `x`,\n",
            " |  and `b` are vectors. The layer is trained, or \"learns\", by updating the\n",
            " |  values in `W` and `b`.\n",
            " |  \n",
            " |  Less commonly, a dense layer can omit the bias term and be a pure linear map:\n",
            " |  `y = Wx`.\n",
            " |  \n",
            " |  Method resolution order:\n",
            " |      Dense\n",
            " |      trax.layers.base.Layer\n",
            " |      builtins.object\n",
            " |  \n",
            " |  Methods defined here:\n",
            " |  \n",
            " |  __init__(self, n_units, kernel_initializer=<function ScaledInitializer.<locals>.Init at 0x7f611203e040>, bias_initializer=<function RandomNormalInitializer.<locals>.<lambda> at 0x7f611203e0d0>, use_bias=True, use_bfloat16=False)\n",
            " |      Returns a dense (fully connected) layer of width `n_units`.\n",
            " |      \n",
            " |      A dense layer maps collections of `R^m` vectors to `R^n`, where `n`\n",
            " |      (`= n_units`) is fixed at layer creation time, and `m` is set at layer\n",
            " |      initialization time.\n",
            " |      \n",
            " |      Args:\n",
            " |        n_units: Number of nodes in the layer, also known as the width of the\n",
            " |            layer.\n",
            " |        kernel_initializer: Function that creates a matrix of (random) initial\n",
            " |            connection weights `W` for the layer.\n",
            " |        bias_initializer: Function that creates a vector of (random) initial\n",
            " |            bias weights `b` for the layer.\n",
            " |        use_bias: If `True`, compute an affine map `y = Wx + b`; else compute\n",
            " |            a linear map `y = Wx`.\n",
            " |        use_bfloat16: If `True`, use bfloat16 weights instead of the default\n",
            " |          float32; this can save memory but may (rarely) lead to numerical issues.\n",
            " |  \n",
            " |  forward(self, x)\n",
            " |      Executes this layer as part of a forward pass through the model.\n",
            " |      \n",
            " |      Args:\n",
            " |        x: Tensor of same shape and dtype as the input signature used to\n",
            " |            initialize this layer.\n",
            " |      \n",
            " |      Returns:\n",
            " |        Tensor of same shape and dtype as the input, except the final dimension\n",
            " |        is the layer's `n_units` value.\n",
            " |  \n",
            " |  init_weights_and_state(self, input_signature)\n",
            " |      Randomly initializes this layer's weights.\n",
            " |      \n",
            " |      Weights are a `(w, b)` tuple for layers created with `use_bias=True` (the\n",
            " |      default case), or a `w` tensor for layers created with `use_bias=False`.\n",
            " |      \n",
            " |      Args:\n",
            " |        input_signature: `ShapeDtype` instance characterizing the input this layer\n",
            " |            should compute on.\n",
            " |  \n",
            " |  ----------------------------------------------------------------------\n",
            " |  Methods inherited from trax.layers.base.Layer:\n",
            " |  \n",
            " |  __call__(self, x, weights=None, state=None, rng=None)\n",
            " |      Makes layers callable; for use in tests or interactive settings.\n",
            " |      \n",
            " |      This convenience method helps library users play with, test, or otherwise\n",
            " |      probe the behavior of layers outside of a full training environment. It\n",
            " |      presents the layer as callable function from inputs to outputs, with the\n",
            " |      option of manually specifying weights and non-parameter state per individual\n",
            " |      call. For convenience, weights and non-parameter state are cached per layer\n",
            " |      instance, starting from default values of `EMPTY_WEIGHTS` and `EMPTY_STATE`,\n",
            " |      and acquiring non-empty values either by initialization or from values\n",
            " |      explicitly provided via the weights and state keyword arguments, in which\n",
            " |      case the old weights will be preserved, and the state will be updated.\n",
            " |      \n",
            " |      Args:\n",
            " |        x: Zero or more input tensors, packaged as described in the `Layer` class\n",
            " |            docstring.\n",
            " |        weights: Weights or `None`; if `None`, use self's cached weights value.\n",
            " |        state: State or `None`; if `None`, use self's cached state value.\n",
            " |        rng: Single-use random number generator (JAX PRNG key), or `None`;\n",
            " |            if `None`, use a default computed from an integer 0 seed.\n",
            " |      \n",
            " |      Returns:\n",
            " |        Zero or more output tensors, packaged as described in the `Layer` class\n",
            " |        docstring.\n",
            " |  \n",
            " |  __repr__(self)\n",
            " |      Renders this layer as a medium-detailed string, to help in debugging.\n",
            " |      \n",
            " |      Subclasses should aim for high-signal/low-noise when overriding this\n",
            " |      method.\n",
            " |      \n",
            " |      Returns:\n",
            " |        A high signal-to-noise string representing this layer.\n",
            " |  \n",
            " |  __setattr__(self, attr, value)\n",
            " |      Sets class attributes and protects from typos.\n",
            " |      \n",
            " |      In Trax layers, we only allow to set the following public attributes::\n",
            " |      \n",
            " |        - weights\n",
            " |        - state\n",
            " |        - rng\n",
            " |      \n",
            " |      This function prevents from setting other public attributes to avoid typos,\n",
            " |      for example, this is not possible and would be without this function::\n",
            " |      \n",
            " |        [typo]   layer.weighs = some_tensor\n",
            " |      \n",
            " |      If you need to set other public attributes in a derived class (which we\n",
            " |      do not recommend as in almost all cases it suffices to use a private\n",
            " |      attribute), override self._settable_attrs to include the attribute name.\n",
            " |      \n",
            " |      Args:\n",
            " |        attr: Name of the attribute to be set.\n",
            " |        value: Value to be assigned to the attribute.\n",
            " |  \n",
            " |  backward(self, inputs, output, grad, weights, state, new_state, rng)\n",
            " |      Custom backward pass to propagate gradients in a custom way.\n",
            " |      \n",
            " |      Args:\n",
            " |        inputs: Input tensors; can be a (possibly nested) tuple.\n",
            " |        output: The result of running this layer on inputs.\n",
            " |        grad: Gradient signal computed based on subsequent layers; its structure\n",
            " |            and shape must match output.\n",
            " |        weights: This layer's weights.\n",
            " |        state: This layer's state prior to the current forward pass.\n",
            " |        new_state: This layer's state after the current forward pass.\n",
            " |        rng: Single-use random number generator (JAX PRNG key).\n",
            " |      \n",
            " |      Returns:\n",
            " |        The custom gradient signal for the input. Note that we need to return\n",
            " |        a gradient for each argument of forward, so it will usually be a tuple\n",
            " |        of signals: the gradient for inputs and weights.\n",
            " |  \n",
            " |  init(self, input_signature, rng=None, use_cache=False)\n",
            " |      Initializes weights/state of this layer and its sublayers recursively.\n",
            " |      \n",
            " |      Initialization creates layer weights and state, for layers that use them.\n",
            " |      It derives the necessary array shapes and data types from the layer's input\n",
            " |      signature, which is itself just shape and data type information.\n",
            " |      \n",
            " |      For layers without weights or state, this method safely does nothing.\n",
            " |      \n",
            " |      This method is designed to create weights/state only once for each layer\n",
            " |      instance, even if the same layer instance occurs in multiple places in the\n",
            " |      network. This enables weight sharing to be implemented as layer sharing.\n",
            " |      \n",
            " |      Args:\n",
            " |        input_signature: `ShapeDtype` instance (if this layer takes one input)\n",
            " |            or list/tuple of `ShapeDtype` instances.\n",
            " |        rng: Single-use random number generator (JAX PRNG key), or `None`;\n",
            " |            if `None`, use a default computed from an integer 0 seed.\n",
            " |        use_cache: If `True`, and if this layer instance has already been\n",
            " |            initialized elsewhere in the network, then return special marker\n",
            " |            values -- tuple `(GET_WEIGHTS_FROM_CACHE, GET_STATE_FROM_CACHE)`.\n",
            " |            Else return this layer's newly initialized weights and state.\n",
            " |      \n",
            " |      Returns:\n",
            " |        A `(weights, state)` tuple.\n",
            " |  \n",
            " |  init_from_file(self, file_name, weights_only=False, input_signature=None)\n",
            " |      Initializes this layer and its sublayers from a pickled checkpoint.\n",
            " |      \n",
            " |      In the common case (`weights_only=False`), the file must be a gziped pickled\n",
            " |      dictionary containing items with keys `'flat_weights', `'flat_state'` and\n",
            " |      `'input_signature'`, which are used to initialize this layer.\n",
            " |      If `input_signature` is specified, it's used instead of the one in the file.\n",
            " |      If `weights_only` is `True`, the dictionary does not need to have the\n",
            " |      `'flat_state'` item and the state it not restored either.\n",
            " |      \n",
            " |      Args:\n",
            " |        file_name: Name/path of the pickled weights/state file.\n",
            " |        weights_only: If `True`, initialize only the layer's weights. Else\n",
            " |            initialize both weights and state.\n",
            " |        input_signature: Input signature to be used instead of the one from file.\n",
            " |      \n",
            " |      Returns:\n",
            " |        A `(weights, state)` tuple.\n",
            " |  \n",
            " |  output_signature(self, input_signature)\n",
            " |      Returns output signature this layer would give for `input_signature`.\n",
            " |  \n",
            " |  pure_fn(self, x, weights, state, rng, use_cache=False)\n",
            " |      Applies this layer as a pure function with no optional args.\n",
            " |      \n",
            " |      This method exposes the layer's computation as a pure function. This is\n",
            " |      especially useful for JIT compilation. Do not override, use `forward`\n",
            " |      instead.\n",
            " |      \n",
            " |      Args:\n",
            " |        x: Zero or more input tensors, packaged as described in the `Layer` class\n",
            " |            docstring.\n",
            " |        weights: A tuple or list of trainable weights, with one element for this\n",
            " |            layer if this layer has no sublayers, or one for each sublayer if\n",
            " |            this layer has sublayers. If a layer (or sublayer) has no trainable\n",
            " |            weights, the corresponding weights element is an empty tuple.\n",
            " |        state: Layer-specific non-parameter state that can update between batches.\n",
            " |        rng: Single-use random number generator (JAX PRNG key).\n",
            " |        use_cache: if `True`, cache weights and state in the layer object; used\n",
            " |          to implement layer sharing in combinators.\n",
            " |      \n",
            " |      Returns:\n",
            " |        A tuple of `(tensors, state)`. The tensors match the number (`n_out`)\n",
            " |        promised by this layer, and are packaged as described in the `Layer`\n",
            " |        class docstring.\n",
            " |  \n",
            " |  save_to_file(self, file_name, weights_only=False, input_signature=None)\n",
            " |      Saves this layer and its sublayers to a pickled checkpoint.\n",
            " |      \n",
            " |      Args:\n",
            " |        file_name: Name/path of the pickled weights/state file.\n",
            " |        weights_only: If `True`, save only the layer's weights. Else\n",
            " |            save both weights and state.\n",
            " |        input_signature: Input signature to be used.\n",
            " |  \n",
            " |  weights_and_state_signature(self, input_signature, unsafe=False)\n",
            " |      Return a pair containing the signatures of weights and state.\n",
            " |  \n",
            " |  ----------------------------------------------------------------------\n",
            " |  Readonly properties inherited from trax.layers.base.Layer:\n",
            " |  \n",
            " |  has_backward\n",
            " |      Returns `True` if this layer provides its own custom backward pass code.\n",
            " |      \n",
            " |      A layer subclass that provides custom backward pass code (for custom\n",
            " |      gradients) must override this method to return `True`.\n",
            " |  \n",
            " |  n_in\n",
            " |      Returns how many tensors this layer expects as input.\n",
            " |  \n",
            " |  n_out\n",
            " |      Returns how many tensors this layer promises as output.\n",
            " |  \n",
            " |  name\n",
            " |      Returns the name of this layer.\n",
            " |  \n",
            " |  sublayers\n",
            " |      Returns a tuple containing this layer's sublayers; may be empty.\n",
            " |  \n",
            " |  ----------------------------------------------------------------------\n",
            " |  Data descriptors inherited from trax.layers.base.Layer:\n",
            " |  \n",
            " |  __dict__\n",
            " |      dictionary for instance variables (if defined)\n",
            " |  \n",
            " |  __weakref__\n",
            " |      list of weak references to the object (if defined)\n",
            " |  \n",
            " |  rng\n",
            " |      Returns this layer's current single-use random number generator.\n",
            " |      \n",
            " |      Code that wants to base random samples on this generator must explicitly\n",
            " |      split off new generators from it. (See, for example, the `rng` setter code\n",
            " |      below.)\n",
            " |  \n",
            " |  state\n",
            " |      Returns a tuple containing this layer's state; may be empty.\n",
            " |      \n",
            " |      If the layer has sublayers, the state by convention will be\n",
            " |      a tuple of length `len(sublayers)` containing sublayer states.\n",
            " |      Note that in this case self._state only marks which ones are shared.\n",
            " |  \n",
            " |  weights\n",
            " |      Returns this layer's weights.\n",
            " |      \n",
            " |      Depending on the layer, the weights can be in the form of:\n",
            " |      \n",
            " |        - an empty tuple\n",
            " |        - a tensor (ndarray)\n",
            " |        - a nested structure of tuples and tensors\n",
            " |      \n",
            " |      If the layer has sublayers, the weights by convention will be\n",
            " |      a tuple of length `len(sublayers)` containing the weights of sublayers.\n",
            " |      Note that in this case self._weights only marks which ones are shared.\n",
            "\n"
          ]
        }
      ],
      "source": [
        "# View documentation on tl.Dense\n",
        "help(tl.Dense)"
      ],
      "id": "RpbiDzN9jCW2"
    },
    {
      "cell_type": "code",
      "execution_count": 39,
      "metadata": {
        "id": "Hrblw_uJ4zmF",
        "colab": {
          "base_uri": "https://localhost:8080/"
        },
        "outputId": "494bba3b-2b85-4936-aee2-c546e73832f0"
      },
      "outputs": [
        {
          "output_type": "stream",
          "name": "stdout",
          "text": [
            "Help on class Serial in module trax.layers.combinators:\n",
            "\n",
            "class Serial(trax.layers.base.Layer)\n",
            " |  Serial(*sublayers, name=None, sublayers_to_print=None)\n",
            " |  \n",
            " |  Combinator that applies layers serially (by function composition).\n",
            " |  \n",
            " |  This combinator is commonly used to construct deep networks, e.g., like this::\n",
            " |  \n",
            " |      mlp = tl.Serial(\n",
            " |        tl.Dense(128),\n",
            " |        tl.Relu(),\n",
            " |        tl.Dense(10),\n",
            " |      )\n",
            " |  \n",
            " |  A Serial combinator uses stack semantics to manage data for its sublayers.\n",
            " |  Each sublayer sees only the inputs it needs and returns only the outputs it\n",
            " |  has generated. The sublayers interact via the data stack. For instance, a\n",
            " |  sublayer k, following sublayer j, gets called with the data stack in the\n",
            " |  state left after layer j has applied. The Serial combinator then:\n",
            " |  \n",
            " |    - takes n_in items off the top of the stack (n_in = k.n_in) and calls\n",
            " |      layer k, passing those items as arguments; and\n",
            " |  \n",
            " |    - takes layer k's n_out return values (n_out = k.n_out) and pushes\n",
            " |      them onto the data stack.\n",
            " |  \n",
            " |  A Serial instance with no sublayers acts as a special-case (but useful)\n",
            " |  1-input 1-output no-op.\n",
            " |  \n",
            " |  Method resolution order:\n",
            " |      Serial\n",
            " |      trax.layers.base.Layer\n",
            " |      builtins.object\n",
            " |  \n",
            " |  Methods defined here:\n",
            " |  \n",
            " |  __init__(self, *sublayers, name=None, sublayers_to_print=None)\n",
            " |      Creates a partially initialized, unconnected layer instance.\n",
            " |      \n",
            " |      Args:\n",
            " |        n_in: Number of inputs expected by this layer.\n",
            " |        n_out: Number of outputs promised by this layer.\n",
            " |        name: Class-like name for this layer; for use when printing this layer.\n",
            " |        sublayers_to_print: Sublayers to display when printing out this layer;\n",
            " |          if None (the default), display all sublayers.\n",
            " |  \n",
            " |  forward(self, xs)\n",
            " |      Executes this layer as part of a forward pass through the model.\n",
            " |  \n",
            " |  init_weights_and_state(self, input_signature)\n",
            " |      Initializes weights and state for inputs with the given signature.\n",
            " |  \n",
            " |  ----------------------------------------------------------------------\n",
            " |  Methods inherited from trax.layers.base.Layer:\n",
            " |  \n",
            " |  __call__(self, x, weights=None, state=None, rng=None)\n",
            " |      Makes layers callable; for use in tests or interactive settings.\n",
            " |      \n",
            " |      This convenience method helps library users play with, test, or otherwise\n",
            " |      probe the behavior of layers outside of a full training environment. It\n",
            " |      presents the layer as callable function from inputs to outputs, with the\n",
            " |      option of manually specifying weights and non-parameter state per individual\n",
            " |      call. For convenience, weights and non-parameter state are cached per layer\n",
            " |      instance, starting from default values of `EMPTY_WEIGHTS` and `EMPTY_STATE`,\n",
            " |      and acquiring non-empty values either by initialization or from values\n",
            " |      explicitly provided via the weights and state keyword arguments, in which\n",
            " |      case the old weights will be preserved, and the state will be updated.\n",
            " |      \n",
            " |      Args:\n",
            " |        x: Zero or more input tensors, packaged as described in the `Layer` class\n",
            " |            docstring.\n",
            " |        weights: Weights or `None`; if `None`, use self's cached weights value.\n",
            " |        state: State or `None`; if `None`, use self's cached state value.\n",
            " |        rng: Single-use random number generator (JAX PRNG key), or `None`;\n",
            " |            if `None`, use a default computed from an integer 0 seed.\n",
            " |      \n",
            " |      Returns:\n",
            " |        Zero or more output tensors, packaged as described in the `Layer` class\n",
            " |        docstring.\n",
            " |  \n",
            " |  __repr__(self)\n",
            " |      Renders this layer as a medium-detailed string, to help in debugging.\n",
            " |      \n",
            " |      Subclasses should aim for high-signal/low-noise when overriding this\n",
            " |      method.\n",
            " |      \n",
            " |      Returns:\n",
            " |        A high signal-to-noise string representing this layer.\n",
            " |  \n",
            " |  __setattr__(self, attr, value)\n",
            " |      Sets class attributes and protects from typos.\n",
            " |      \n",
            " |      In Trax layers, we only allow to set the following public attributes::\n",
            " |      \n",
            " |        - weights\n",
            " |        - state\n",
            " |        - rng\n",
            " |      \n",
            " |      This function prevents from setting other public attributes to avoid typos,\n",
            " |      for example, this is not possible and would be without this function::\n",
            " |      \n",
            " |        [typo]   layer.weighs = some_tensor\n",
            " |      \n",
            " |      If you need to set other public attributes in a derived class (which we\n",
            " |      do not recommend as in almost all cases it suffices to use a private\n",
            " |      attribute), override self._settable_attrs to include the attribute name.\n",
            " |      \n",
            " |      Args:\n",
            " |        attr: Name of the attribute to be set.\n",
            " |        value: Value to be assigned to the attribute.\n",
            " |  \n",
            " |  backward(self, inputs, output, grad, weights, state, new_state, rng)\n",
            " |      Custom backward pass to propagate gradients in a custom way.\n",
            " |      \n",
            " |      Args:\n",
            " |        inputs: Input tensors; can be a (possibly nested) tuple.\n",
            " |        output: The result of running this layer on inputs.\n",
            " |        grad: Gradient signal computed based on subsequent layers; its structure\n",
            " |            and shape must match output.\n",
            " |        weights: This layer's weights.\n",
            " |        state: This layer's state prior to the current forward pass.\n",
            " |        new_state: This layer's state after the current forward pass.\n",
            " |        rng: Single-use random number generator (JAX PRNG key).\n",
            " |      \n",
            " |      Returns:\n",
            " |        The custom gradient signal for the input. Note that we need to return\n",
            " |        a gradient for each argument of forward, so it will usually be a tuple\n",
            " |        of signals: the gradient for inputs and weights.\n",
            " |  \n",
            " |  init(self, input_signature, rng=None, use_cache=False)\n",
            " |      Initializes weights/state of this layer and its sublayers recursively.\n",
            " |      \n",
            " |      Initialization creates layer weights and state, for layers that use them.\n",
            " |      It derives the necessary array shapes and data types from the layer's input\n",
            " |      signature, which is itself just shape and data type information.\n",
            " |      \n",
            " |      For layers without weights or state, this method safely does nothing.\n",
            " |      \n",
            " |      This method is designed to create weights/state only once for each layer\n",
            " |      instance, even if the same layer instance occurs in multiple places in the\n",
            " |      network. This enables weight sharing to be implemented as layer sharing.\n",
            " |      \n",
            " |      Args:\n",
            " |        input_signature: `ShapeDtype` instance (if this layer takes one input)\n",
            " |            or list/tuple of `ShapeDtype` instances.\n",
            " |        rng: Single-use random number generator (JAX PRNG key), or `None`;\n",
            " |            if `None`, use a default computed from an integer 0 seed.\n",
            " |        use_cache: If `True`, and if this layer instance has already been\n",
            " |            initialized elsewhere in the network, then return special marker\n",
            " |            values -- tuple `(GET_WEIGHTS_FROM_CACHE, GET_STATE_FROM_CACHE)`.\n",
            " |            Else return this layer's newly initialized weights and state.\n",
            " |      \n",
            " |      Returns:\n",
            " |        A `(weights, state)` tuple.\n",
            " |  \n",
            " |  init_from_file(self, file_name, weights_only=False, input_signature=None)\n",
            " |      Initializes this layer and its sublayers from a pickled checkpoint.\n",
            " |      \n",
            " |      In the common case (`weights_only=False`), the file must be a gziped pickled\n",
            " |      dictionary containing items with keys `'flat_weights', `'flat_state'` and\n",
            " |      `'input_signature'`, which are used to initialize this layer.\n",
            " |      If `input_signature` is specified, it's used instead of the one in the file.\n",
            " |      If `weights_only` is `True`, the dictionary does not need to have the\n",
            " |      `'flat_state'` item and the state it not restored either.\n",
            " |      \n",
            " |      Args:\n",
            " |        file_name: Name/path of the pickled weights/state file.\n",
            " |        weights_only: If `True`, initialize only the layer's weights. Else\n",
            " |            initialize both weights and state.\n",
            " |        input_signature: Input signature to be used instead of the one from file.\n",
            " |      \n",
            " |      Returns:\n",
            " |        A `(weights, state)` tuple.\n",
            " |  \n",
            " |  output_signature(self, input_signature)\n",
            " |      Returns output signature this layer would give for `input_signature`.\n",
            " |  \n",
            " |  pure_fn(self, x, weights, state, rng, use_cache=False)\n",
            " |      Applies this layer as a pure function with no optional args.\n",
            " |      \n",
            " |      This method exposes the layer's computation as a pure function. This is\n",
            " |      especially useful for JIT compilation. Do not override, use `forward`\n",
            " |      instead.\n",
            " |      \n",
            " |      Args:\n",
            " |        x: Zero or more input tensors, packaged as described in the `Layer` class\n",
            " |            docstring.\n",
            " |        weights: A tuple or list of trainable weights, with one element for this\n",
            " |            layer if this layer has no sublayers, or one for each sublayer if\n",
            " |            this layer has sublayers. If a layer (or sublayer) has no trainable\n",
            " |            weights, the corresponding weights element is an empty tuple.\n",
            " |        state: Layer-specific non-parameter state that can update between batches.\n",
            " |        rng: Single-use random number generator (JAX PRNG key).\n",
            " |        use_cache: if `True`, cache weights and state in the layer object; used\n",
            " |          to implement layer sharing in combinators.\n",
            " |      \n",
            " |      Returns:\n",
            " |        A tuple of `(tensors, state)`. The tensors match the number (`n_out`)\n",
            " |        promised by this layer, and are packaged as described in the `Layer`\n",
            " |        class docstring.\n",
            " |  \n",
            " |  save_to_file(self, file_name, weights_only=False, input_signature=None)\n",
            " |      Saves this layer and its sublayers to a pickled checkpoint.\n",
            " |      \n",
            " |      Args:\n",
            " |        file_name: Name/path of the pickled weights/state file.\n",
            " |        weights_only: If `True`, save only the layer's weights. Else\n",
            " |            save both weights and state.\n",
            " |        input_signature: Input signature to be used.\n",
            " |  \n",
            " |  weights_and_state_signature(self, input_signature, unsafe=False)\n",
            " |      Return a pair containing the signatures of weights and state.\n",
            " |  \n",
            " |  ----------------------------------------------------------------------\n",
            " |  Readonly properties inherited from trax.layers.base.Layer:\n",
            " |  \n",
            " |  has_backward\n",
            " |      Returns `True` if this layer provides its own custom backward pass code.\n",
            " |      \n",
            " |      A layer subclass that provides custom backward pass code (for custom\n",
            " |      gradients) must override this method to return `True`.\n",
            " |  \n",
            " |  n_in\n",
            " |      Returns how many tensors this layer expects as input.\n",
            " |  \n",
            " |  n_out\n",
            " |      Returns how many tensors this layer promises as output.\n",
            " |  \n",
            " |  name\n",
            " |      Returns the name of this layer.\n",
            " |  \n",
            " |  sublayers\n",
            " |      Returns a tuple containing this layer's sublayers; may be empty.\n",
            " |  \n",
            " |  ----------------------------------------------------------------------\n",
            " |  Data descriptors inherited from trax.layers.base.Layer:\n",
            " |  \n",
            " |  __dict__\n",
            " |      dictionary for instance variables (if defined)\n",
            " |  \n",
            " |  __weakref__\n",
            " |      list of weak references to the object (if defined)\n",
            " |  \n",
            " |  rng\n",
            " |      Returns this layer's current single-use random number generator.\n",
            " |      \n",
            " |      Code that wants to base random samples on this generator must explicitly\n",
            " |      split off new generators from it. (See, for example, the `rng` setter code\n",
            " |      below.)\n",
            " |  \n",
            " |  state\n",
            " |      Returns a tuple containing this layer's state; may be empty.\n",
            " |      \n",
            " |      If the layer has sublayers, the state by convention will be\n",
            " |      a tuple of length `len(sublayers)` containing sublayer states.\n",
            " |      Note that in this case self._state only marks which ones are shared.\n",
            " |  \n",
            " |  weights\n",
            " |      Returns this layer's weights.\n",
            " |      \n",
            " |      Depending on the layer, the weights can be in the form of:\n",
            " |      \n",
            " |        - an empty tuple\n",
            " |        - a tensor (ndarray)\n",
            " |        - a nested structure of tuples and tensors\n",
            " |      \n",
            " |      If the layer has sublayers, the weights by convention will be\n",
            " |      a tuple of length `len(sublayers)` containing the weights of sublayers.\n",
            " |      Note that in this case self._weights only marks which ones are shared.\n",
            "\n"
          ]
        }
      ],
      "source": [
        "# View documentation on tl.Serial\n",
        "help(tl.Serial)"
      ],
      "id": "Hrblw_uJ4zmF"
    },
    {
      "cell_type": "markdown",
      "metadata": {
        "id": "n6PptsvwjCW3"
      },
      "source": [
        "- [tl.Embedding](https://github.com/google/trax/blob/1372b903bb66b0daccee19fd0b1fdf44f659330b/trax/layers/core.py#L113): Layer constructor function for an embedding layer.  \n",
        "    - `tl.Embedding(vocab_size, d_feature)`.\n",
        "    - `vocab_size` is the number of unique words in the given vocabulary.\n",
        "    - `d_feature` is the number of elements in the word embedding (some choices for a word embedding size range from 150 to 300, for example).    "
      ],
      "id": "n6PptsvwjCW3"
    },
    {
      "cell_type": "code",
      "execution_count": 40,
      "metadata": {
        "id": "Y5FAphBWjCW4",
        "colab": {
          "base_uri": "https://localhost:8080/"
        },
        "outputId": "ce7a950e-0bc5-4dbd-8731-f73ba54c5ba9"
      },
      "outputs": [
        {
          "output_type": "stream",
          "name": "stdout",
          "text": [
            "Help on class Embedding in module trax.layers.core:\n",
            "\n",
            "class Embedding(trax.layers.base.Layer)\n",
            " |  Embedding(vocab_size, d_feature, use_bfloat16=False, kernel_initializer=<function ScaledInitializer.<locals>.Init at 0x7f611203e430>)\n",
            " |  \n",
            " |  Trainable layer that maps discrete tokens/IDs to vectors.\n",
            " |  \n",
            " |  Embedding layers are commonly used to map discrete data, like words in NLP,\n",
            " |  into vectors. Here is a canonical example::\n",
            " |  \n",
            " |      vocab_size = 5\n",
            " |      word_ids = np.array([1, 2, 3, 4], dtype=np.int32)  # word_ids < vocab_size\n",
            " |      embedding_layer = tl.Embedding(vocab_size, 32)\n",
            " |      embedding_layer.init(trax.shapes.signature(word_ids))\n",
            " |      embedded = embedding_layer(word_ids)  # embedded.shape = (4, 32)\n",
            " |  \n",
            " |  Method resolution order:\n",
            " |      Embedding\n",
            " |      trax.layers.base.Layer\n",
            " |      builtins.object\n",
            " |  \n",
            " |  Methods defined here:\n",
            " |  \n",
            " |  __init__(self, vocab_size, d_feature, use_bfloat16=False, kernel_initializer=<function ScaledInitializer.<locals>.Init at 0x7f611203e430>)\n",
            " |      Returns an embedding layer with given vocabulary size and vector size.\n",
            " |      \n",
            " |      The layer clips input values (token IDs) to the range `[0, vocab_size)`.\n",
            " |      That is, negative token IDs all clip to `0` before being mapped to a\n",
            " |      vector, and token IDs with value `vocab_size` or greater all clip to\n",
            " |      `vocab_size - 1` before being mapped to a vector.\n",
            " |      \n",
            " |      Args:\n",
            " |        vocab_size: Size of the input vocabulary. The layer will assign a unique\n",
            " |          vector to each id in `range(vocab_size)`.\n",
            " |        d_feature: Dimensionality/depth of the output vectors.\n",
            " |        use_bfloat16: If `True`, use bfloat16 weights instead of the default\n",
            " |          float32; this can save memory but may (rarely) lead to numerical issues.\n",
            " |        kernel_initializer: Function that creates (random) initial vectors for\n",
            " |          the embedding.\n",
            " |  \n",
            " |  forward(self, x)\n",
            " |      Returns embedding vectors corresponding to input token IDs.\n",
            " |      \n",
            " |      Args:\n",
            " |        x: Tensor of token IDs.\n",
            " |      \n",
            " |      Returns:\n",
            " |        Tensor of embedding vectors.\n",
            " |  \n",
            " |  init_weights_and_state(self, input_signature)\n",
            " |      Randomly initializes this layer's weights.\n",
            " |  \n",
            " |  ----------------------------------------------------------------------\n",
            " |  Methods inherited from trax.layers.base.Layer:\n",
            " |  \n",
            " |  __call__(self, x, weights=None, state=None, rng=None)\n",
            " |      Makes layers callable; for use in tests or interactive settings.\n",
            " |      \n",
            " |      This convenience method helps library users play with, test, or otherwise\n",
            " |      probe the behavior of layers outside of a full training environment. It\n",
            " |      presents the layer as callable function from inputs to outputs, with the\n",
            " |      option of manually specifying weights and non-parameter state per individual\n",
            " |      call. For convenience, weights and non-parameter state are cached per layer\n",
            " |      instance, starting from default values of `EMPTY_WEIGHTS` and `EMPTY_STATE`,\n",
            " |      and acquiring non-empty values either by initialization or from values\n",
            " |      explicitly provided via the weights and state keyword arguments, in which\n",
            " |      case the old weights will be preserved, and the state will be updated.\n",
            " |      \n",
            " |      Args:\n",
            " |        x: Zero or more input tensors, packaged as described in the `Layer` class\n",
            " |            docstring.\n",
            " |        weights: Weights or `None`; if `None`, use self's cached weights value.\n",
            " |        state: State or `None`; if `None`, use self's cached state value.\n",
            " |        rng: Single-use random number generator (JAX PRNG key), or `None`;\n",
            " |            if `None`, use a default computed from an integer 0 seed.\n",
            " |      \n",
            " |      Returns:\n",
            " |        Zero or more output tensors, packaged as described in the `Layer` class\n",
            " |        docstring.\n",
            " |  \n",
            " |  __repr__(self)\n",
            " |      Renders this layer as a medium-detailed string, to help in debugging.\n",
            " |      \n",
            " |      Subclasses should aim for high-signal/low-noise when overriding this\n",
            " |      method.\n",
            " |      \n",
            " |      Returns:\n",
            " |        A high signal-to-noise string representing this layer.\n",
            " |  \n",
            " |  __setattr__(self, attr, value)\n",
            " |      Sets class attributes and protects from typos.\n",
            " |      \n",
            " |      In Trax layers, we only allow to set the following public attributes::\n",
            " |      \n",
            " |        - weights\n",
            " |        - state\n",
            " |        - rng\n",
            " |      \n",
            " |      This function prevents from setting other public attributes to avoid typos,\n",
            " |      for example, this is not possible and would be without this function::\n",
            " |      \n",
            " |        [typo]   layer.weighs = some_tensor\n",
            " |      \n",
            " |      If you need to set other public attributes in a derived class (which we\n",
            " |      do not recommend as in almost all cases it suffices to use a private\n",
            " |      attribute), override self._settable_attrs to include the attribute name.\n",
            " |      \n",
            " |      Args:\n",
            " |        attr: Name of the attribute to be set.\n",
            " |        value: Value to be assigned to the attribute.\n",
            " |  \n",
            " |  backward(self, inputs, output, grad, weights, state, new_state, rng)\n",
            " |      Custom backward pass to propagate gradients in a custom way.\n",
            " |      \n",
            " |      Args:\n",
            " |        inputs: Input tensors; can be a (possibly nested) tuple.\n",
            " |        output: The result of running this layer on inputs.\n",
            " |        grad: Gradient signal computed based on subsequent layers; its structure\n",
            " |            and shape must match output.\n",
            " |        weights: This layer's weights.\n",
            " |        state: This layer's state prior to the current forward pass.\n",
            " |        new_state: This layer's state after the current forward pass.\n",
            " |        rng: Single-use random number generator (JAX PRNG key).\n",
            " |      \n",
            " |      Returns:\n",
            " |        The custom gradient signal for the input. Note that we need to return\n",
            " |        a gradient for each argument of forward, so it will usually be a tuple\n",
            " |        of signals: the gradient for inputs and weights.\n",
            " |  \n",
            " |  init(self, input_signature, rng=None, use_cache=False)\n",
            " |      Initializes weights/state of this layer and its sublayers recursively.\n",
            " |      \n",
            " |      Initialization creates layer weights and state, for layers that use them.\n",
            " |      It derives the necessary array shapes and data types from the layer's input\n",
            " |      signature, which is itself just shape and data type information.\n",
            " |      \n",
            " |      For layers without weights or state, this method safely does nothing.\n",
            " |      \n",
            " |      This method is designed to create weights/state only once for each layer\n",
            " |      instance, even if the same layer instance occurs in multiple places in the\n",
            " |      network. This enables weight sharing to be implemented as layer sharing.\n",
            " |      \n",
            " |      Args:\n",
            " |        input_signature: `ShapeDtype` instance (if this layer takes one input)\n",
            " |            or list/tuple of `ShapeDtype` instances.\n",
            " |        rng: Single-use random number generator (JAX PRNG key), or `None`;\n",
            " |            if `None`, use a default computed from an integer 0 seed.\n",
            " |        use_cache: If `True`, and if this layer instance has already been\n",
            " |            initialized elsewhere in the network, then return special marker\n",
            " |            values -- tuple `(GET_WEIGHTS_FROM_CACHE, GET_STATE_FROM_CACHE)`.\n",
            " |            Else return this layer's newly initialized weights and state.\n",
            " |      \n",
            " |      Returns:\n",
            " |        A `(weights, state)` tuple.\n",
            " |  \n",
            " |  init_from_file(self, file_name, weights_only=False, input_signature=None)\n",
            " |      Initializes this layer and its sublayers from a pickled checkpoint.\n",
            " |      \n",
            " |      In the common case (`weights_only=False`), the file must be a gziped pickled\n",
            " |      dictionary containing items with keys `'flat_weights', `'flat_state'` and\n",
            " |      `'input_signature'`, which are used to initialize this layer.\n",
            " |      If `input_signature` is specified, it's used instead of the one in the file.\n",
            " |      If `weights_only` is `True`, the dictionary does not need to have the\n",
            " |      `'flat_state'` item and the state it not restored either.\n",
            " |      \n",
            " |      Args:\n",
            " |        file_name: Name/path of the pickled weights/state file.\n",
            " |        weights_only: If `True`, initialize only the layer's weights. Else\n",
            " |            initialize both weights and state.\n",
            " |        input_signature: Input signature to be used instead of the one from file.\n",
            " |      \n",
            " |      Returns:\n",
            " |        A `(weights, state)` tuple.\n",
            " |  \n",
            " |  output_signature(self, input_signature)\n",
            " |      Returns output signature this layer would give for `input_signature`.\n",
            " |  \n",
            " |  pure_fn(self, x, weights, state, rng, use_cache=False)\n",
            " |      Applies this layer as a pure function with no optional args.\n",
            " |      \n",
            " |      This method exposes the layer's computation as a pure function. This is\n",
            " |      especially useful for JIT compilation. Do not override, use `forward`\n",
            " |      instead.\n",
            " |      \n",
            " |      Args:\n",
            " |        x: Zero or more input tensors, packaged as described in the `Layer` class\n",
            " |            docstring.\n",
            " |        weights: A tuple or list of trainable weights, with one element for this\n",
            " |            layer if this layer has no sublayers, or one for each sublayer if\n",
            " |            this layer has sublayers. If a layer (or sublayer) has no trainable\n",
            " |            weights, the corresponding weights element is an empty tuple.\n",
            " |        state: Layer-specific non-parameter state that can update between batches.\n",
            " |        rng: Single-use random number generator (JAX PRNG key).\n",
            " |        use_cache: if `True`, cache weights and state in the layer object; used\n",
            " |          to implement layer sharing in combinators.\n",
            " |      \n",
            " |      Returns:\n",
            " |        A tuple of `(tensors, state)`. The tensors match the number (`n_out`)\n",
            " |        promised by this layer, and are packaged as described in the `Layer`\n",
            " |        class docstring.\n",
            " |  \n",
            " |  save_to_file(self, file_name, weights_only=False, input_signature=None)\n",
            " |      Saves this layer and its sublayers to a pickled checkpoint.\n",
            " |      \n",
            " |      Args:\n",
            " |        file_name: Name/path of the pickled weights/state file.\n",
            " |        weights_only: If `True`, save only the layer's weights. Else\n",
            " |            save both weights and state.\n",
            " |        input_signature: Input signature to be used.\n",
            " |  \n",
            " |  weights_and_state_signature(self, input_signature, unsafe=False)\n",
            " |      Return a pair containing the signatures of weights and state.\n",
            " |  \n",
            " |  ----------------------------------------------------------------------\n",
            " |  Readonly properties inherited from trax.layers.base.Layer:\n",
            " |  \n",
            " |  has_backward\n",
            " |      Returns `True` if this layer provides its own custom backward pass code.\n",
            " |      \n",
            " |      A layer subclass that provides custom backward pass code (for custom\n",
            " |      gradients) must override this method to return `True`.\n",
            " |  \n",
            " |  n_in\n",
            " |      Returns how many tensors this layer expects as input.\n",
            " |  \n",
            " |  n_out\n",
            " |      Returns how many tensors this layer promises as output.\n",
            " |  \n",
            " |  name\n",
            " |      Returns the name of this layer.\n",
            " |  \n",
            " |  sublayers\n",
            " |      Returns a tuple containing this layer's sublayers; may be empty.\n",
            " |  \n",
            " |  ----------------------------------------------------------------------\n",
            " |  Data descriptors inherited from trax.layers.base.Layer:\n",
            " |  \n",
            " |  __dict__\n",
            " |      dictionary for instance variables (if defined)\n",
            " |  \n",
            " |  __weakref__\n",
            " |      list of weak references to the object (if defined)\n",
            " |  \n",
            " |  rng\n",
            " |      Returns this layer's current single-use random number generator.\n",
            " |      \n",
            " |      Code that wants to base random samples on this generator must explicitly\n",
            " |      split off new generators from it. (See, for example, the `rng` setter code\n",
            " |      below.)\n",
            " |  \n",
            " |  state\n",
            " |      Returns a tuple containing this layer's state; may be empty.\n",
            " |      \n",
            " |      If the layer has sublayers, the state by convention will be\n",
            " |      a tuple of length `len(sublayers)` containing sublayer states.\n",
            " |      Note that in this case self._state only marks which ones are shared.\n",
            " |  \n",
            " |  weights\n",
            " |      Returns this layer's weights.\n",
            " |      \n",
            " |      Depending on the layer, the weights can be in the form of:\n",
            " |      \n",
            " |        - an empty tuple\n",
            " |        - a tensor (ndarray)\n",
            " |        - a nested structure of tuples and tensors\n",
            " |      \n",
            " |      If the layer has sublayers, the weights by convention will be\n",
            " |      a tuple of length `len(sublayers)` containing the weights of sublayers.\n",
            " |      Note that in this case self._weights only marks which ones are shared.\n",
            "\n"
          ]
        }
      ],
      "source": [
        "# View documentation for tl.Embedding\n",
        "help(tl.Embedding)"
      ],
      "id": "Y5FAphBWjCW4"
    },
    {
      "cell_type": "code",
      "execution_count": 41,
      "metadata": {
        "id": "Bi4OhkZbjCW6",
        "colab": {
          "base_uri": "https://localhost:8080/",
          "height": 34
        },
        "outputId": "4ef0e36b-efc6-4c17-d44e-773fdaaec967"
      },
      "outputs": [
        {
          "output_type": "display_data",
          "data": {
            "text/plain": [
              "Embedding_3_2"
            ]
          },
          "metadata": {}
        }
      ],
      "source": [
        "# An example of and embedding layer\n",
        "rnd.seed(31)\n",
        "tmp_embed = tl.Embedding(d_feature=2, vocab_size=3)\n",
        "display(tmp_embed)"
      ],
      "id": "Bi4OhkZbjCW6"
    },
    {
      "cell_type": "code",
      "execution_count": 42,
      "metadata": {
        "id": "l8-wXwWvsjfV",
        "colab": {
          "base_uri": "https://localhost:8080/",
          "height": 156
        },
        "outputId": "1dc1507c-3df4-45ce-b214-198d4e6982b3"
      },
      "outputs": [
        {
          "output_type": "stream",
          "name": "stdout",
          "text": [
            "Shape of returned array is (2, 3, 2)\n"
          ]
        },
        {
          "output_type": "display_data",
          "data": {
            "text/plain": [
              "DeviceArray([[[-0.09254155,  1.1765094 ],\n",
              "              [ 1.0511576 ,  0.7154667 ],\n",
              "              [ 0.7439485 , -0.81590366]],\n",
              "\n",
              "             [[ 0.7439485 , -0.81590366],\n",
              "              [ 0.7439485 , -0.81590366],\n",
              "              [-0.09254155,  1.1765094 ]]], dtype=float32)"
            ]
          },
          "metadata": {}
        }
      ],
      "source": [
        "# Let's assume as an example, a batch of two lists\n",
        "# each list represents a set of tokenized words.\n",
        "tmp_in_arr = np.array([[0,1,2],\n",
        "                    [3,2,0]\n",
        "                   ])\n",
        "\n",
        "# In order to use the layer, we need to initialize its signature\n",
        "tmp_embed.init(trax.shapes.signature(tmp_in_arr))\n",
        "\n",
        "# Embedding layer will return an array of shape (batch size, vocab size, d_feature)\n",
        "tmp_embedded_arr = tmp_embed(tmp_in_arr)\n",
        "\n",
        "print(f\"Shape of returned array is {tmp_embedded_arr.shape}\")\n",
        "display(tmp_embedded_arr)"
      ],
      "id": "l8-wXwWvsjfV"
    },
    {
      "cell_type": "markdown",
      "metadata": {
        "id": "OD0XVH5jjCW8"
      },
      "source": [
        "- [tl.Mean](https://github.com/google/trax/blob/1372b903bb66b0daccee19fd0b1fdf44f659330b/trax/layers/core.py#L276): Calculates means across an axis.  In this case, please choose axis = 1 to get an average embedding vector (an embedding vector that is an average of all words in the vocabulary).  \n",
        "- For example, if the embedding matrix is 300 elements and vocab size is 10,000 words, taking the mean of the embedding matrix along axis=1 will yield a vector of 300 elements."
      ],
      "id": "OD0XVH5jjCW8"
    },
    {
      "cell_type": "code",
      "execution_count": 43,
      "metadata": {
        "id": "CO0uMOOmjCW8",
        "colab": {
          "base_uri": "https://localhost:8080/"
        },
        "outputId": "fce8128a-b477-4bfd-8e31-beef0ce5f26c"
      },
      "outputs": [
        {
          "output_type": "stream",
          "name": "stdout",
          "text": [
            "Help on function Mean in module trax.layers.core:\n",
            "\n",
            "Mean(axis=-1, keepdims=False)\n",
            "    Returns a layer that computes mean values using one tensor axis.\n",
            "    \n",
            "    `Mean` uses one tensor axis to form groups of values and replaces each group\n",
            "    with the mean value of that group. The resulting values can either remain\n",
            "    in their own size 1 axis (`keepdims=True`), or that axis can be removed from\n",
            "    the overall tensor (default `keepdims=False`), lowering the rank of the\n",
            "    tensor by one.\n",
            "    \n",
            "    Args:\n",
            "      axis: Axis along which values are grouped for computing a mean.\n",
            "      keepdims: If `True`, keep the resulting size 1 axis as a separate tensor\n",
            "          axis; else, remove that axis.\n",
            "\n"
          ]
        }
      ],
      "source": [
        "# view the documentation for tl.mean\n",
        "help(tl.Mean)"
      ],
      "id": "CO0uMOOmjCW8"
    },
    {
      "cell_type": "code",
      "execution_count": 44,
      "metadata": {
        "id": "eSS-_d38jCW-",
        "colab": {
          "base_uri": "https://localhost:8080/",
          "height": 86
        },
        "outputId": "234c1e18-bc07-4ede-8613-9810764f7b37"
      },
      "outputs": [
        {
          "output_type": "stream",
          "name": "stdout",
          "text": [
            "The mean along axis 0 creates a vector whose length equals the vocabulary size\n"
          ]
        },
        {
          "output_type": "display_data",
          "data": {
            "text/plain": [
              "DeviceArray([2.5, 3.5, 4.5], dtype=float32)"
            ]
          },
          "metadata": {}
        },
        {
          "output_type": "stream",
          "name": "stdout",
          "text": [
            "The mean along axis 1 creates a vector whose length equals the number of elements in a word embedding\n"
          ]
        },
        {
          "output_type": "display_data",
          "data": {
            "text/plain": [
              "DeviceArray([2., 5.], dtype=float32)"
            ]
          },
          "metadata": {}
        }
      ],
      "source": [
        "# Pretend the embedding matrix uses \n",
        "# 2 elements for embedding the meaning of a word\n",
        "# and has a vocabulary size of 3\n",
        "# So it has shape (2,3)\n",
        "tmp_embed = np.array([[1,2,3,],\n",
        "                    [4,5,6]\n",
        "                   ])\n",
        "\n",
        "# take the mean along axis 0\n",
        "print(\"The mean along axis 0 creates a vector whose length equals the vocabulary size\")\n",
        "display(np.mean(tmp_embed,axis=0))\n",
        "\n",
        "print(\"The mean along axis 1 creates a vector whose length equals the number of elements in a word embedding\")\n",
        "display(np.mean(tmp_embed,axis=1))"
      ],
      "id": "eSS-_d38jCW-"
    },
    {
      "cell_type": "code",
      "execution_count": 45,
      "metadata": {
        "id": "0UsQjFrAjCXF",
        "colab": {
          "base_uri": "https://localhost:8080/"
        },
        "outputId": "7e33a42a-f544-40a1-e3ee-ede15c6e79f9"
      },
      "outputs": [
        {
          "output_type": "stream",
          "name": "stdout",
          "text": [
            "Help on function LogSoftmax in module trax.layers.core:\n",
            "\n",
            "LogSoftmax(axis=-1)\n",
            "    Returns a layer that applies log softmax along one tensor axis.\n",
            "    \n",
            "    Note that the implementation actually computes x - LogSumExp(x),\n",
            "    which is mathematically equal to LogSoftmax(x).\n",
            "    \n",
            "    `LogSoftmax` acts on a group of values and normalizes them to look like a set\n",
            "    of log probability values. (Probability values must be non-negative, and as\n",
            "    a set must sum to 1. A group of log probability values can be seen as the\n",
            "    natural logarithm function applied to a set of probability values.)\n",
            "    \n",
            "    Args:\n",
            "      axis: Axis along which values are grouped for computing log softmax.\n",
            "\n"
          ]
        }
      ],
      "source": [
        "help(tl.LogSoftmax)"
      ],
      "id": "0UsQjFrAjCXF"
    },
    {
      "cell_type": "markdown",
      "metadata": {
        "id": "IGgTfJ-csjfX"
      },
      "source": [
        "**Online documentation**\n",
        "\n",
        "- [tl.Dense](https://trax-ml.readthedocs.io/en/latest/trax.layers.html#trax.layers.core.Dense)\n",
        "\n",
        "- [tl.Serial](https://trax-ml.readthedocs.io/en/latest/trax.layers.html#module-trax.layers.combinators)\n",
        "\n",
        "- [tl.Embedding](https://trax-ml.readthedocs.io/en/latest/trax.layers.html#trax.layers.core.Embedding)\n",
        "\n",
        "- [tl.Mean](https://trax-ml.readthedocs.io/en/latest/trax.layers.html#trax.layers.core.Mean)\n",
        "\n",
        "- [tl.LogSoftmax](https://trax-ml.readthedocs.io/en/latest/trax.layers.html#trax.layers.core.LogSoftmax)"
      ],
      "id": "IGgTfJ-csjfX"
    },
    {
      "cell_type": "markdown",
      "metadata": {
        "id": "W8ONXnJsjCXH"
      },
      "source": [
        "<a name=\"ex-5\"></a>\n",
        "### Exercise 5 - classifier\n",
        "Implement the classifier function. "
      ],
      "id": "W8ONXnJsjCXH"
    },
    {
      "cell_type": "code",
      "execution_count": 46,
      "metadata": {
        "id": "Wh33Hk8lgrgz"
      },
      "outputs": [],
      "source": [
        "# UNQ_C5 (UNIQUE CELL IDENTIFIER, DO NOT EDIT)\n",
        "# GRADED FUNCTION: classifier\n",
        "def classifier(vocab_size=9088, embedding_dim=256, output_dim=2, mode='train'):\n",
        "    \n",
        "    ### START CODE HERE (Replace instances of 'None' with your code) ###\n",
        "        \n",
        "    # create embedding layer\n",
        "    embed_layer = tl.Embedding( \n",
        "        vocab_size=vocab_size, # Size of the vocabulary\n",
        "        d_feature=embedding_dim # Embedding dimension\n",
        "    ) \n",
        "    \n",
        "    # Create a mean layer, to create an \"average\" word embedding\n",
        "    mean_layer = tl.Mean(axis=1)\n",
        "    \n",
        "    # Create a dense layer, one unit for each output\n",
        "    dense_output_layer = tl.Dense(n_units = output_dim)\n",
        "    \n",
        "    # Create the log softmax layer (no parameters needed)\n",
        "    log_softmax_layer = tl.LogSoftmax()\n",
        "    \n",
        "    # Use tl.Serial to combine all layers\n",
        "    # and create the classifier\n",
        "    # of type trax.layers.combinators.Serial\n",
        "    model = tl.Serial( \n",
        "      embed_layer, # embedding layer\n",
        "      mean_layer, # mean layer\n",
        "      dense_output_layer, # dense output layer\n",
        "      log_softmax_layer # log softmax layer\n",
        "    ) \n",
        "    ### END CODE HERE ###\n",
        "    \n",
        "    # return the model of type\n",
        "    return model"
      ],
      "id": "Wh33Hk8lgrgz"
    },
    {
      "cell_type": "code",
      "execution_count": 47,
      "metadata": {
        "id": "OwJCu3e9jCXK"
      },
      "outputs": [],
      "source": [
        "tmp_model = classifier(vocab_size=len(Vocab))"
      ],
      "id": "OwJCu3e9jCXK"
    },
    {
      "cell_type": "code",
      "execution_count": 48,
      "metadata": {
        "id": "ZsMzvK8YjCXM",
        "colab": {
          "base_uri": "https://localhost:8080/",
          "height": 139
        },
        "outputId": "81a92f21-f083-4341-c1dc-c0f7f31f4186"
      },
      "outputs": [
        {
          "output_type": "stream",
          "name": "stdout",
          "text": [
            "<class 'trax.layers.combinators.Serial'>\n"
          ]
        },
        {
          "output_type": "display_data",
          "data": {
            "text/plain": [
              "Serial[\n",
              "  Embedding_9089_256\n",
              "  Mean\n",
              "  Dense_2\n",
              "  LogSoftmax\n",
              "]"
            ]
          },
          "metadata": {}
        }
      ],
      "source": [
        "print(type(tmp_model))\n",
        "display(tmp_model)"
      ],
      "id": "ZsMzvK8YjCXM"
    },
    {
      "cell_type": "markdown",
      "metadata": {
        "id": "1FaugA_7grg6"
      },
      "source": [
        "<a name=\"4\"></a>\n",
        "## 4 - Training\n",
        "\n",
        "To train a model on a task, Trax defines an abstraction [`trax.supervised.training.TrainTask`](https://trax-ml.readthedocs.io/en/latest/trax.supervised.html#trax.supervised.training.TrainTask) which packages the train data, loss and optimizer (among other things) together into an object.\n",
        "\n",
        "Similarly to evaluate a model, Trax defines an abstraction [`trax.supervised.training.EvalTask`](https://trax-ml.readthedocs.io/en/latest/trax.supervised.html#trax.supervised.training.EvalTask) which packages the eval data and metrics (among other things) into another object.\n",
        "\n",
        "The final piece tying things together is the [`trax.supervised.training.Loop`](https://trax-ml.readthedocs.io/en/latest/trax.supervised.html#trax.supervised.training.Loop) abstraction that is a very simple and flexible way to put everything together and train the model, all the while evaluating it and saving checkpoints.\n",
        "Using `Loop` will save you a lot of code compared to always writing the training loop by hand, like you did in courses 1 and 2. More importantly, you are less likely to have a bug in that code that would ruin your training."
      ],
      "id": "1FaugA_7grg6"
    },
    {
      "cell_type": "code",
      "execution_count": null,
      "metadata": {
        "id": "UGgKw03jjCXP"
      },
      "outputs": [],
      "source": [
        "# View documentation for trax.supervised.training.TrainTask\n",
        "#help(trax.supervised.training.TrainTask)"
      ],
      "id": "UGgKw03jjCXP"
    },
    {
      "cell_type": "code",
      "execution_count": null,
      "metadata": {
        "id": "Tr2MmdWDn6hV"
      },
      "outputs": [],
      "source": [
        "# View documentation for trax.supervised.training.EvalTask\n",
        "#help(trax.supervised.training.EvalTask)"
      ],
      "id": "Tr2MmdWDn6hV"
    },
    {
      "cell_type": "code",
      "execution_count": null,
      "metadata": {
        "id": "XkUVMzVXn_8f"
      },
      "outputs": [],
      "source": [
        "# View documentation for trax.supervised.training.Loop\n",
        "#help(trax.supervised.training.Loop)"
      ],
      "id": "XkUVMzVXn_8f"
    },
    {
      "cell_type": "code",
      "execution_count": null,
      "metadata": {
        "id": "Ooekq1F305bt"
      },
      "outputs": [],
      "source": [
        "# View optimizers that you could choose from\n",
        "#help(trax.optimizers)"
      ],
      "id": "Ooekq1F305bt"
    },
    {
      "cell_type": "markdown",
      "metadata": {
        "id": "OmR3BhV41Cxs"
      },
      "source": [
        "Notice some available optimizers include:\n",
        "```CPP\n",
        "    adafactor\n",
        "    adam\n",
        "    momentum\n",
        "    rms_prop\n",
        "    sm3\n",
        "```"
      ],
      "id": "OmR3BhV41Cxs"
    },
    {
      "cell_type": "markdown",
      "metadata": {
        "id": "HA01H6K7grg_"
      },
      "source": [
        "<a name=\"4-1\"></a>\n",
        "### 4.1  Training the Model\n",
        "\n",
        "Now you are going to train your model. \n",
        "\n",
        "Let's define the `TrainTask`, `EvalTask` and `Loop` in preparation to train the model."
      ],
      "id": "HA01H6K7grg_"
    },
    {
      "cell_type": "code",
      "execution_count": 53,
      "metadata": {
        "deletable": false,
        "editable": false,
        "id": "ogMtJgHSoiZj"
      },
      "outputs": [],
      "source": [
        "# PLEASE, DO NOT MODIFY OR DELETE THIS CELL\n",
        "from trax.supervised import training\n",
        "\n",
        "def get_train_eval_tasks(train_pos, train_neg, val_pos, val_neg, vocab_dict, loop, batch_size = 16):\n",
        "    \n",
        "    rnd.seed(271)\n",
        "\n",
        "    train_task = training.TrainTask(\n",
        "        labeled_data=train_generator(batch_size, train_pos\n",
        "                    , train_neg, vocab_dict, loop\n",
        "                    , shuffle = True),\n",
        "        loss_layer=tl.WeightedCategoryCrossEntropy(),\n",
        "        optimizer=trax.optimizers.Adam(0.01),\n",
        "        n_steps_per_checkpoint=10,\n",
        "    )\n",
        "\n",
        "    eval_task = training.EvalTask(\n",
        "        labeled_data=val_generator(batch_size, val_pos\n",
        "                    , val_neg, vocab_dict, loop\n",
        "                    , shuffle = True),        \n",
        "        metrics=[tl.WeightedCategoryCrossEntropy(), tl.WeightedCategoryAccuracy()],\n",
        "    )\n",
        "    \n",
        "    return train_task, eval_task\n",
        "    \n",
        "\n",
        "train_task, eval_task = get_train_eval_tasks(train_pos, train_neg, val_pos, val_neg, Vocab, True, batch_size = 16)\n",
        "model = classifier()"
      ],
      "id": "ogMtJgHSoiZj"
    },
    {
      "cell_type": "code",
      "execution_count": 54,
      "metadata": {
        "id": "y-SS2AwZsjfb",
        "colab": {
          "base_uri": "https://localhost:8080/"
        },
        "outputId": "be9a5a8c-6c06-4f76-fc1f-c4a09214f2ab"
      },
      "outputs": [
        {
          "output_type": "execute_result",
          "data": {
            "text/plain": [
              "Serial[\n",
              "  Embedding_9088_256\n",
              "  Mean\n",
              "  Dense_2\n",
              "  LogSoftmax\n",
              "]"
            ]
          },
          "metadata": {},
          "execution_count": 54
        }
      ],
      "source": [
        "model"
      ],
      "id": "y-SS2AwZsjfb"
    },
    {
      "cell_type": "markdown",
      "metadata": {
        "id": "R_sw8EGd0Sjk"
      },
      "source": [
        "This defines a model trained using [`tl.WeightedCategoryCrossEntropy`](https://trax-ml.readthedocs.io/en/latest/trax.layers.html#trax.layers.metrics.WeightedCategoryCrossEntropy) optimized with the [`trax.optimizers.Adam`](https://trax-ml.readthedocs.io/en/latest/trax.optimizers.html#trax.optimizers.adam.Adam) optimizer, all the while tracking the accuracy using [`tl.WeightedCategoryAccuracy`](https://trax-ml.readthedocs.io/en/latest/trax.layers.html#trax.layers.metrics.WeightedCategoryAccuracy) metric. We also track `tl.WeightedCategoryCrossEntropy` on the validation set."
      ],
      "id": "R_sw8EGd0Sjk"
    },
    {
      "cell_type": "markdown",
      "metadata": {
        "id": "yB78IIUerIVG"
      },
      "source": [
        "Now let's make an output directory and train the model."
      ],
      "id": "yB78IIUerIVG"
    },
    {
      "cell_type": "code",
      "execution_count": 55,
      "metadata": {
        "id": "CNx4LnP9rMsO",
        "colab": {
          "base_uri": "https://localhost:8080/"
        },
        "outputId": "662b003e-e6e2-46aa-eedd-2446b262e46b"
      },
      "outputs": [
        {
          "output_type": "stream",
          "name": "stdout",
          "text": [
            "./model/\n"
          ]
        }
      ],
      "source": [
        "dir_path = './model/'\n",
        "\n",
        "try:\n",
        "    shutil.rmtree(dir_path)\n",
        "except OSError as e:\n",
        "    pass\n",
        "\n",
        "\n",
        "output_dir = './model/'\n",
        "output_dir_expand = os.path.expanduser(output_dir)\n",
        "print(output_dir_expand)"
      ],
      "id": "CNx4LnP9rMsO"
    },
    {
      "cell_type": "markdown",
      "metadata": {
        "id": "e4R4EHUcrwqe"
      },
      "source": [
        "<a name=\"ex-6\"></a>\n",
        "### Exercise 6 - train_model\n",
        "**Instructions:** Implement `train_model` to train the model (`classifier` that you wrote earlier) for the given number of training steps (`n_steps`) using `TrainTask`, `EvalTask` and `Loop`. For the `EvalTask`, take a look to the cell next to the function definition: the `eval_task` is passed as a list explicitly, so take that into account in the implementation of your `train_model` function."
      ],
      "id": "e4R4EHUcrwqe"
    },
    {
      "cell_type": "code",
      "execution_count": 56,
      "metadata": {
        "id": "tolygrj7rpFX"
      },
      "outputs": [],
      "source": [
        "# UNQ_C6 (UNIQUE CELL IDENTIFIER, DO NOT EDIT)\n",
        "# GRADED FUNCTION: train_model\n",
        "def train_model(classifier, train_task, eval_task, n_steps, output_dir):\n",
        "    '''\n",
        "    Input: \n",
        "        classifier - the model you are building\n",
        "        train_task - Training task\n",
        "        eval_task - Evaluation task. Received as a list.\n",
        "        n_steps - the evaluation steps\n",
        "        output_dir - folder to save your files\n",
        "    Output:\n",
        "        trainer -  trax trainer\n",
        "    '''\n",
        "    rnd.seed(31) # Do NOT modify this random seed. This makes the notebook easier to replicate\n",
        "    \n",
        "    ### START CODE HERE (Replace instances of 'None' with your code) ###          \n",
        "    training_loop = training.Loop( \n",
        "                                classifier, # The learning model\n",
        "                                train_task, # The training task\n",
        "                                eval_tasks=eval_task, # The evaluation task\n",
        "                                output_dir=output_dir, # The output directory\n",
        "                                random_seed=31 # Do not modify this random seed in order to ensure reproducibility and for grading purposes.\n",
        "    ) \n",
        "\n",
        "    training_loop.run(n_steps = n_steps)\n",
        "    ### END CODE HERE ###\n",
        "    \n",
        "    # Return the training_loop, since it has the model.\n",
        "    return training_loop"
      ],
      "id": "tolygrj7rpFX"
    },
    {
      "cell_type": "code",
      "execution_count": 57,
      "metadata": {
        "deletable": false,
        "editable": false,
        "id": "d-AtiqAYs_rH",
        "colab": {
          "base_uri": "https://localhost:8080/"
        },
        "outputId": "4f34f727-abd5-4280-a51a-d383be3122dd"
      },
      "outputs": [
        {
          "output_type": "stream",
          "name": "stderr",
          "text": [
            "/usr/local/lib/python3.8/dist-packages/jax/_src/lib/xla_bridge.py:553: UserWarning: jax.host_count has been renamed to jax.process_count. This alias will eventually be removed; please update your code.\n",
            "  warnings.warn(\n"
          ]
        },
        {
          "output_type": "stream",
          "name": "stdout",
          "text": [
            "\n",
            "Step      1: Total number of trainable weights: 2327042\n",
            "Step      1: Ran 1 train steps in 2.31 secs\n",
            "Step      1: train WeightedCategoryCrossEntropy |  0.68989831\n",
            "Step      1: eval  WeightedCategoryCrossEntropy |  0.69806957\n",
            "Step      1: eval      WeightedCategoryAccuracy |  0.43750000\n",
            "\n",
            "Step     10: Ran 9 train steps in 13.59 secs\n",
            "Step     10: train WeightedCategoryCrossEntropy |  0.64247584\n",
            "Step     10: eval  WeightedCategoryCrossEntropy |  0.53418100\n",
            "Step     10: eval      WeightedCategoryAccuracy |  0.93750000\n",
            "\n",
            "Step     20: Ran 10 train steps in 7.59 secs\n",
            "Step     20: train WeightedCategoryCrossEntropy |  0.45600957\n",
            "Step     20: eval  WeightedCategoryCrossEntropy |  0.33223987\n",
            "Step     20: eval      WeightedCategoryAccuracy |  1.00000000\n",
            "\n",
            "Step     30: Ran 10 train steps in 2.68 secs\n",
            "Step     30: train WeightedCategoryCrossEntropy |  0.24014239\n",
            "Step     30: eval  WeightedCategoryCrossEntropy |  0.15884452\n",
            "Step     30: eval      WeightedCategoryAccuracy |  1.00000000\n",
            "\n",
            "Step     40: Ran 10 train steps in 1.97 secs\n",
            "Step     40: train WeightedCategoryCrossEntropy |  0.13276727\n",
            "Step     40: eval  WeightedCategoryCrossEntropy |  0.06164266\n",
            "Step     40: eval      WeightedCategoryAccuracy |  1.00000000\n",
            "\n",
            "Step     50: Ran 10 train steps in 3.56 secs\n",
            "Step     50: train WeightedCategoryCrossEntropy |  0.08444289\n",
            "Step     50: eval  WeightedCategoryCrossEntropy |  0.06003656\n",
            "Step     50: eval      WeightedCategoryAccuracy |  1.00000000\n",
            "\n",
            "Step     60: Ran 10 train steps in 3.19 secs\n",
            "Step     60: train WeightedCategoryCrossEntropy |  0.04531727\n",
            "Step     60: eval  WeightedCategoryCrossEntropy |  0.02509754\n",
            "Step     60: eval      WeightedCategoryAccuracy |  1.00000000\n",
            "\n",
            "Step     70: Ran 10 train steps in 1.13 secs\n",
            "Step     70: train WeightedCategoryCrossEntropy |  0.03989114\n",
            "Step     70: eval  WeightedCategoryCrossEntropy |  0.00249659\n",
            "Step     70: eval      WeightedCategoryAccuracy |  1.00000000\n",
            "\n",
            "Step     80: Ran 10 train steps in 1.20 secs\n",
            "Step     80: train WeightedCategoryCrossEntropy |  0.01885000\n",
            "Step     80: eval  WeightedCategoryCrossEntropy |  0.00504305\n",
            "Step     80: eval      WeightedCategoryAccuracy |  1.00000000\n",
            "\n",
            "Step     90: Ran 10 train steps in 1.19 secs\n",
            "Step     90: train WeightedCategoryCrossEntropy |  0.04065781\n",
            "Step     90: eval  WeightedCategoryCrossEntropy |  0.00822989\n",
            "Step     90: eval      WeightedCategoryAccuracy |  1.00000000\n",
            "\n",
            "Step    100: Ran 10 train steps in 1.71 secs\n",
            "Step    100: train WeightedCategoryCrossEntropy |  0.01506269\n",
            "Step    100: eval  WeightedCategoryCrossEntropy |  0.09649467\n",
            "Step    100: eval      WeightedCategoryAccuracy |  0.93750000\n"
          ]
        }
      ],
      "source": [
        "# Do not modify this cell.\n",
        "# Take a look on how the eval_task is inside square brackets and \n",
        "# take that into account for you train_model implementation\n",
        "training_loop = train_model(model, train_task, [eval_task], 100, output_dir_expand)"
      ],
      "id": "d-AtiqAYs_rH"
    },
    {
      "cell_type": "markdown",
      "metadata": {
        "id": "KVMcsw2kjCX9"
      },
      "source": [
        "<a name=\"4-2\"></a>\n",
        "### 4.2 - Practice Making a Prediction\n",
        "\n",
        "Now that you have trained a model, you can access it as `training_loop.model` object. We will actually use `training_loop.eval_model` and in the next weeks you will learn why we sometimes use a different model for evaluation, e.g., one without dropout. For now, make predictions with your model.\n",
        "\n",
        "Use the training data just to see how the prediction process works.  \n",
        "- Later, you will use validation data to evaluate your model's performance.\n"
      ],
      "id": "KVMcsw2kjCX9"
    },
    {
      "cell_type": "code",
      "execution_count": 62,
      "metadata": {
        "id": "WAMgXWY4jCX-",
        "colab": {
          "base_uri": "https://localhost:8080/"
        },
        "outputId": "a148696d-bc27-4403-d6f3-3d497bea8b49"
      },
      "outputs": [
        {
          "output_type": "stream",
          "name": "stdout",
          "text": [
            "The batch is a tuple of length 3 because position 0 contains the tweets, and position 1 contains the targets.\n",
            "The shape of the tweet tensors is (16, 15) (num of examples, length of tweet tensors)\n",
            "The shape of the labels is (16,), which is the batch size.\n",
            "The shape of the example_weights is (16,), which is the same as inputs/targets size.\n"
          ]
        }
      ],
      "source": [
        "# Create a generator object\n",
        "tmp_train_generator = train_generator(16, train_pos\n",
        "                    , train_neg, Vocab, loop=True\n",
        "                    , shuffle = False)\n",
        "\n",
        "\n",
        "\n",
        "# get one batch\n",
        "tmp_batch = next(tmp_train_generator)\n",
        "\n",
        "# Position 0 has the model inputs (tweets as tensors)\n",
        "# position 1 has the targets (the actual labels)\n",
        "tmp_inputs, tmp_targets, tmp_example_weights = tmp_batch\n",
        "\n",
        "print(f\"The batch is a tuple of length {len(tmp_batch)} because position 0 contains the tweets, and position 1 contains the targets.\") \n",
        "print(f\"The shape of the tweet tensors is {tmp_inputs.shape} (num of examples, length of tweet tensors)\")\n",
        "print(f\"The shape of the labels is {tmp_targets.shape}, which is the batch size.\")\n",
        "print(f\"The shape of the example_weights is {tmp_example_weights.shape}, which is the same as inputs/targets size.\")"
      ],
      "id": "WAMgXWY4jCX-"
    },
    {
      "cell_type": "code",
      "execution_count": 63,
      "metadata": {
        "id": "5XoxD6u5jCX_",
        "colab": {
          "base_uri": "https://localhost:8080/"
        },
        "outputId": "7b6aea2c-fa9a-4147-d5f8-1f7a25e65325"
      },
      "outputs": [
        {
          "output_type": "stream",
          "name": "stdout",
          "text": [
            "The prediction shape is (16, 2), num of tensor_tweets as rows\n",
            "Column 0 is the probability of a negative sentiment (class 0)\n",
            "Column 1 is the probability of a positive sentiment (class 1)\n",
            "\n",
            "View the prediction array\n"
          ]
        },
        {
          "output_type": "execute_result",
          "data": {
            "text/plain": [
              "DeviceArray([[-9.5181179e+00, -7.3432922e-05],\n",
              "             [-7.9278035e+00, -3.6072731e-04],\n",
              "             [-1.0872704e+01, -1.9073486e-05],\n",
              "             [-7.3449020e+00, -6.4611435e-04],\n",
              "             [-5.5219049e+00, -4.0061474e-03],\n",
              "             [-8.2074986e+00, -2.7275085e-04],\n",
              "             [-9.1085110e+00, -1.1062622e-04],\n",
              "             [-7.3503180e+00, -6.4253807e-04],\n",
              "             [-2.3729801e-03, -6.0448227e+00],\n",
              "             [-3.0136108e-04, -8.1069403e+00],\n",
              "             [-1.1029243e-03, -6.8103848e+00],\n",
              "             [-1.9073486e-06, -1.3039824e+01],\n",
              "             [-2.3144841e-02, -3.7775359e+00],\n",
              "             [-5.7449341e-03, -5.1623096e+00],\n",
              "             [-2.2547245e-03, -6.0958147e+00],\n",
              "             [-1.5783310e-04, -8.7545261e+00]], dtype=float32)"
            ]
          },
          "metadata": {},
          "execution_count": 63
        }
      ],
      "source": [
        "# feed the tweet tensors into the model to get a prediction\n",
        "tmp_pred = training_loop.eval_model(tmp_inputs)\n",
        "print(f\"The prediction shape is {tmp_pred.shape}, num of tensor_tweets as rows\")\n",
        "print(\"Column 0 is the probability of a negative sentiment (class 0)\")\n",
        "print(\"Column 1 is the probability of a positive sentiment (class 1)\")\n",
        "print()\n",
        "print(\"View the prediction array\")\n",
        "tmp_pred"
      ],
      "id": "5XoxD6u5jCX_"
    },
    {
      "cell_type": "markdown",
      "metadata": {
        "id": "0aJpFcyljCYB"
      },
      "source": [
        "To turn these probabilities into categories (negative or positive sentiment prediction), for each row:\n",
        "- Compare the probabilities in each column.\n",
        "- If column 1 has a value greater than column 0, classify that as a positive tweet.\n",
        "- Otherwise if column 1 is less than or equal to column 0, classify that example as a negative tweet."
      ],
      "id": "0aJpFcyljCYB"
    },
    {
      "cell_type": "code",
      "execution_count": 64,
      "metadata": {
        "id": "6wJHv0TNjCYC",
        "colab": {
          "base_uri": "https://localhost:8080/"
        },
        "outputId": "ca0dfe83-4037-4ebd-c588-c142b4251d24"
      },
      "outputs": [
        {
          "output_type": "stream",
          "name": "stdout",
          "text": [
            "Neg log prob -9.5181\tPos log prob -0.0001\t is positive? True\t actual 1\n",
            "Neg log prob -7.9278\tPos log prob -0.0004\t is positive? True\t actual 1\n",
            "Neg log prob -10.8727\tPos log prob -0.0000\t is positive? True\t actual 1\n",
            "Neg log prob -7.3449\tPos log prob -0.0006\t is positive? True\t actual 1\n",
            "Neg log prob -5.5219\tPos log prob -0.0040\t is positive? True\t actual 1\n",
            "Neg log prob -8.2075\tPos log prob -0.0003\t is positive? True\t actual 1\n",
            "Neg log prob -9.1085\tPos log prob -0.0001\t is positive? True\t actual 1\n",
            "Neg log prob -7.3503\tPos log prob -0.0006\t is positive? True\t actual 1\n",
            "Neg log prob -0.0024\tPos log prob -6.0448\t is positive? False\t actual 0\n",
            "Neg log prob -0.0003\tPos log prob -8.1069\t is positive? False\t actual 0\n",
            "Neg log prob -0.0011\tPos log prob -6.8104\t is positive? False\t actual 0\n",
            "Neg log prob -0.0000\tPos log prob -13.0398\t is positive? False\t actual 0\n",
            "Neg log prob -0.0231\tPos log prob -3.7775\t is positive? False\t actual 0\n",
            "Neg log prob -0.0057\tPos log prob -5.1623\t is positive? False\t actual 0\n",
            "Neg log prob -0.0023\tPos log prob -6.0958\t is positive? False\t actual 0\n",
            "Neg log prob -0.0002\tPos log prob -8.7545\t is positive? False\t actual 0\n"
          ]
        }
      ],
      "source": [
        "# turn probabilites into category predictions\n",
        "tmp_is_positive = tmp_pred[:,1] > tmp_pred[:,0]\n",
        "for i, p in enumerate(tmp_is_positive):\n",
        "    print(f\"Neg log prob {tmp_pred[i,0]:.4f}\\tPos log prob {tmp_pred[i,1]:.4f}\\t is positive? {p}\\t actual {tmp_targets[i]}\")"
      ],
      "id": "6wJHv0TNjCYC"
    },
    {
      "cell_type": "markdown",
      "metadata": {
        "id": "TywSi02cjCYF"
      },
      "source": [
        "Notice that since you are making a prediction using a training batch, it's more likely that the model's predictions match the actual targets (labels).  \n",
        "- Every prediction that the tweet is positive is also matching the actual target of 1 (positive sentiment).\n",
        "- Similarly, all predictions that the sentiment is not positive matches the actual target of 0 (negative sentiment)"
      ],
      "id": "TywSi02cjCYF"
    },
    {
      "cell_type": "markdown",
      "metadata": {
        "id": "N6X_0K_EjCYF"
      },
      "source": [
        "One more useful thing to know is how to compare if the prediction is matching the actual target (label).  \n",
        "- The result of calculation `is_positive` is a boolean.\n",
        "- The target is a type trax.fastmath.numpy.int32\n",
        "- If you expect to be doing division, you may prefer to work with decimal numbers with the data type type trax.fastmath.numpy.int32"
      ],
      "id": "N6X_0K_EjCYF"
    },
    {
      "cell_type": "code",
      "execution_count": 65,
      "metadata": {
        "id": "CQgx_ar9jCYG",
        "colab": {
          "base_uri": "https://localhost:8080/",
          "height": 1000
        },
        "outputId": "aa4c85bb-1e7e-4646-c8c2-68313231529b"
      },
      "outputs": [
        {
          "output_type": "stream",
          "name": "stdout",
          "text": [
            "Array of booleans\n"
          ]
        },
        {
          "output_type": "display_data",
          "data": {
            "text/plain": [
              "DeviceArray([ True,  True,  True,  True,  True,  True,  True,  True,\n",
              "             False, False, False, False, False, False, False, False],            dtype=bool)"
            ]
          },
          "metadata": {}
        },
        {
          "output_type": "stream",
          "name": "stdout",
          "text": [
            "Array of integers\n"
          ]
        },
        {
          "output_type": "display_data",
          "data": {
            "text/plain": [
              "DeviceArray([1, 1, 1, 1, 1, 1, 1, 1, 0, 0, 0, 0, 0, 0, 0, 0], dtype=int32)"
            ]
          },
          "metadata": {}
        },
        {
          "output_type": "stream",
          "name": "stdout",
          "text": [
            "Array of floats\n"
          ]
        },
        {
          "output_type": "display_data",
          "data": {
            "text/plain": [
              "DeviceArray([1., 1., 1., 1., 1., 1., 1., 1., 0., 0., 0., 0., 0., 0., 0.,\n",
              "             0.], dtype=float32)"
            ]
          },
          "metadata": {}
        }
      ],
      "source": [
        "# View the array of booleans\n",
        "print(\"Array of booleans\")\n",
        "display(tmp_is_positive)\n",
        "\n",
        "# convert boolean to type int32\n",
        "# True is converted to 1\n",
        "# False is converted to 0\n",
        "tmp_is_positive_int = tmp_is_positive.astype(np.int32)\n",
        "\n",
        "\n",
        "# View the array of integers\n",
        "print(\"Array of integers\")\n",
        "display(tmp_is_positive_int)\n",
        "\n",
        "# convert boolean to type float32\n",
        "tmp_is_positive_float = tmp_is_positive.astype(np.float32)\n",
        "\n",
        "# View the array of floats\n",
        "print(\"Array of floats\")\n",
        "display(tmp_is_positive_float)"
      ],
      "id": "CQgx_ar9jCYG"
    },
    {
      "cell_type": "markdown",
      "metadata": {
        "id": "8gJ3n4UljCYJ"
      },
      "source": [
        "Note that Python usually does type conversion for you when you compare a boolean to an integer\n",
        "- True compared to 1 is True, otherwise any other integer is False.\n",
        "- False compared to 0 is True, otherwise any ohter integer is False."
      ],
      "id": "8gJ3n4UljCYJ"
    },
    {
      "cell_type": "code",
      "execution_count": 66,
      "metadata": {
        "colab": {
          "base_uri": "https://localhost:8080/"
        },
        "id": "GbKFCf0njCYJ",
        "outputId": "d48e9e75-5116-4a06-ec0b-c430cd16bf51"
      },
      "outputs": [
        {
          "output_type": "stream",
          "name": "stdout",
          "text": [
            "True == 1: True\n",
            "True == 2: False\n",
            "False == 0: True\n",
            "False == 2: False\n"
          ]
        }
      ],
      "source": [
        "print(f\"True == 1: {True == 1}\")\n",
        "print(f\"True == 2: {True == 2}\")\n",
        "print(f\"False == 0: {False == 0}\")\n",
        "print(f\"False == 2: {False == 2}\")"
      ],
      "id": "GbKFCf0njCYJ"
    },
    {
      "cell_type": "markdown",
      "source": [
        "#Ignore"
      ],
      "metadata": {
        "id": "je8824VTty4f"
      },
      "id": "je8824VTty4f"
    },
    {
      "cell_type": "markdown",
      "metadata": {
        "id": "fRRrgOHJgrhI"
      },
      "source": [
        "<a name=\"5\"></a>\n",
        "## 5 - Evaluation  \n",
        "\n",
        "<a name=\"5-1\"></a>\n",
        "### 5.1 - Computing the Accuracy on a Batch\n",
        "\n",
        "You will now write a function that evaluates your model on the validation set and returns the accuracy. \n",
        "- `preds` contains the predictions.\n",
        "    - Its dimensions are `(batch_size, output_dim)`.  `output_dim` is two in this case.  Column 0 contains the probability that the tweet belongs to class 0 (negative sentiment). Column 1 contains probability that it belongs to class 1 (positive sentiment).\n",
        "    - If the probability in column 1 is greater than the probability in column 0, then interpret this as the model's prediction that the example has label 1 (positive sentiment).  \n",
        "    - Otherwise, if the probabilities are equal or the probability in column 0 is higher, the model's prediction is 0 (negative sentiment).\n",
        "- `y` contains the actual labels.\n",
        "- `y_weights` contains the weights to give to predictions."
      ],
      "id": "fRRrgOHJgrhI"
    },
    {
      "cell_type": "markdown",
      "metadata": {
        "id": "2hdfk3LEjCYL"
      },
      "source": [
        "<a name=\"ex-7\"></a>\n",
        "### Exercise 7 - compute_accuracy\n",
        "Implement `compute_accuracy`."
      ],
      "id": "2hdfk3LEjCYL"
    },
    {
      "cell_type": "code",
      "execution_count": null,
      "metadata": {
        "id": "WBqaN5f9grhJ"
      },
      "outputs": [],
      "source": [
        "# UNQ_C7 (UNIQUE CELL IDENTIFIER, DO NOT EDIT)\n",
        "# GRADED FUNCTION: compute_accuracy\n",
        "def compute_accuracy(preds, y, y_weights):\n",
        "    \"\"\"\n",
        "    Input: \n",
        "        preds: a tensor of shape (dim_batch, output_dim) \n",
        "        y: a tensor of shape (dim_batch,) with the true labels\n",
        "        y_weights: a n.ndarray with the a weight for each example\n",
        "    Output: \n",
        "        accuracy: a float between 0-1 \n",
        "        weighted_num_correct (np.float32): Sum of the weighted correct predictions\n",
        "        sum_weights (np.float32): Sum of the weights\n",
        "    \"\"\"\n",
        "    ### START CODE HERE (Replace instances of 'None' with your code) ###\n",
        "    # Create an array of booleans, \n",
        "    # True if the probability of positive sentiment is greater than\n",
        "    # the probability of negative sentiment\n",
        "    # else False\n",
        "    is_pos = None\n",
        "\n",
        "    # convert the array of booleans into an array of np.int32\n",
        "    is_pos_int = None\n",
        "    \n",
        "    # compare the array of predictions (as int32) with the target (labels) of type int32\n",
        "    correct = None\n",
        "\n",
        "    # Count the sum of the weights.\n",
        "    sum_weights = None\n",
        "    \n",
        "    # convert the array of correct predictions (boolean) into an arrayof np.float32\n",
        "    correct_float = None\n",
        "    \n",
        "    # Multiply each prediction with its corresponding weight.\n",
        "    weighted_correct_float = None\n",
        "\n",
        "    # Sum up the weighted correct predictions (of type np.float32), to go in the\n",
        "    # denominator.\n",
        "    weighted_num_correct = None\n",
        "\n",
        "    # Divide the number of weighted correct predictions by the sum of the\n",
        "    # weights.\n",
        "    accuracy = None\n",
        "\n",
        "    ### END CODE HERE ###\n",
        "    return accuracy, weighted_num_correct, sum_weights"
      ],
      "id": "WBqaN5f9grhJ"
    },
    {
      "cell_type": "code",
      "execution_count": null,
      "metadata": {
        "id": "1c7ZOeO0jCYN"
      },
      "outputs": [],
      "source": [
        "# test your function\n",
        "tmp_val_generator = val_generator(64, val_pos\n",
        "                    , val_neg, Vocab, loop=True\n",
        "                    , shuffle = False)\n",
        "\n",
        "# get one batch\n",
        "tmp_batch = next(tmp_val_generator)\n",
        "\n",
        "# Position 0 has the model inputs (tweets as tensors)\n",
        "# position 1 has the targets (the actual labels)\n",
        "tmp_inputs, tmp_targets, tmp_example_weights = tmp_batch\n",
        "\n",
        "# feed the tweet tensors into the model to get a prediction\n",
        "tmp_pred = training_loop.eval_model(tmp_inputs)\n",
        "tmp_acc, tmp_num_correct, tmp_num_predictions = compute_accuracy(preds=tmp_pred, y=tmp_targets, y_weights=tmp_example_weights)\n",
        "\n",
        "print(f\"Model's prediction accuracy on a single training batch is: {100 * tmp_acc}%\")\n",
        "print(f\"Weighted number of correct predictions {tmp_num_correct}; weighted number of total observations predicted {tmp_num_predictions}\")"
      ],
      "id": "1c7ZOeO0jCYN"
    },
    {
      "cell_type": "markdown",
      "metadata": {
        "id": "dqle69F1grhM"
      },
      "source": [
        "<a name=\"5-2\"></a>\n",
        "### 5.2 - Testing your Model on Validation Data\n",
        "\n",
        "Now you will write test your model's prediction accuracy on validation data. \n",
        "\n",
        "This program will take in a data generator and your model. \n",
        "- The generator allows you to get batches of data. You can use it with a `for` loop:\n",
        "\n",
        "```\n",
        "for batch in iterator: \n",
        "   # do something with that batch\n",
        "```\n",
        "\n",
        "`batch` has `3` elements:\n",
        "- the first element contains the inputs\n",
        "- the second element contains the targets\n",
        "- the third element contains the weights"
      ],
      "id": "dqle69F1grhM"
    },
    {
      "cell_type": "markdown",
      "metadata": {
        "id": "1zwYl_f9jCYP"
      },
      "source": [
        "<a name=\"ex-8\"></a>\n",
        "### Exercise 8 - test_model\n",
        "\n",
        "**Instructions:** \n",
        "- Compute the accuracy over all the batches in the validation iterator. \n",
        "- Make use of `compute_accuracy`, which you recently implemented, and return the overall accuracy."
      ],
      "id": "1zwYl_f9jCYP"
    },
    {
      "cell_type": "code",
      "execution_count": null,
      "metadata": {
        "id": "HKoTad4ggrhN"
      },
      "outputs": [],
      "source": [
        "# UNQ_C8 (UNIQUE CELL IDENTIFIER, DO NOT EDIT)\n",
        "# GRADED FUNCTION: test_model\n",
        "def test_model(generator, model, compute_accuracy=compute_accuracy):\n",
        "    '''\n",
        "    Input: \n",
        "        generator: an iterator instance that provides batches of inputs and targets\n",
        "        model: a model instance \n",
        "    Output: \n",
        "        accuracy: float corresponding to the accuracy\n",
        "    '''\n",
        "    \n",
        "    accuracy = 0.\n",
        "    total_num_correct = 0\n",
        "    total_num_pred = 0\n",
        "        \n",
        "    ### START CODE HERE (Replace instances of 'None' with your code) ###\n",
        "    for batch in generator: \n",
        "        \n",
        "        # Retrieve the inputs from the batch\n",
        "        inputs = None\n",
        "        \n",
        "        # Retrieve the targets (actual labels) from the batch\n",
        "        targets = None\n",
        "        \n",
        "        # Retrieve the example weight.\n",
        "        example_weight = None\n",
        "\n",
        "        # Make predictions using the inputs            \n",
        "        pred = None\n",
        "        \n",
        "        # Calculate accuracy for the batch by comparing its predictions and targets\n",
        "        batch_accuracy, batch_num_correct, batch_num_pred = None\n",
        "                \n",
        "        # Update the total number of correct predictions\n",
        "        # by adding the number of correct predictions from this batch\n",
        "        total_num_correct += None\n",
        "        \n",
        "        # Update the total number of predictions \n",
        "        # by adding the number of predictions made for the batch\n",
        "        total_num_pred += None\n",
        "\n",
        "    # Calculate accuracy over all examples\n",
        "    accuracy = None\n",
        "    \n",
        "    ### END CODE HERE ###\n",
        "    return accuracy"
      ],
      "id": "HKoTad4ggrhN"
    },
    {
      "cell_type": "code",
      "execution_count": null,
      "metadata": {
        "deletable": false,
        "editable": false,
        "id": "1Rm_k21XgrhQ"
      },
      "outputs": [],
      "source": [
        "# DO NOT EDIT THIS CELL\n",
        "# testing the accuracy of your model: this takes around 20 seconds\n",
        "model = training_loop.eval_model\n",
        "accuracy = test_model(test_generator(16, val_pos\n",
        "                    , val_neg, Vocab, loop=False\n",
        "                    , shuffle = False), model)\n",
        "\n",
        "print(f'The accuracy of your model on the validation set is {accuracy:.4f}', )"
      ],
      "id": "1Rm_k21XgrhQ"
    },
    {
      "cell_type": "markdown",
      "source": [
        "#Good Ahead"
      ],
      "metadata": {
        "id": "iaTwG4vYt89x"
      },
      "id": "iaTwG4vYt89x"
    },
    {
      "cell_type": "markdown",
      "metadata": {
        "id": "Mct4P9QZgrhT"
      },
      "source": [
        "<a name=\"6\"></a>\n",
        "## 6 - Testing with your Own Input\n",
        "\n",
        "Finally you will test with your own input. You will see that deepnets are more powerful than the older methods you have used before. Although you go close to 100% accuracy on the first two assignments, the task was way easier. "
      ],
      "id": "Mct4P9QZgrhT"
    },
    {
      "cell_type": "code",
      "execution_count": 67,
      "metadata": {
        "id": "SUq5cw-xgrhU"
      },
      "outputs": [],
      "source": [
        "# this is used to predict on your own sentnece\n",
        "def predict(sentence):\n",
        "    inputs = np.array(tweet_to_tensor(sentence, vocab_dict=Vocab))\n",
        "    \n",
        "    # Batch size 1, add dimension for batch, to work with the model\n",
        "    inputs = inputs[None, :]  \n",
        "    \n",
        "    # predict with the model\n",
        "    preds_probs = model(inputs)\n",
        "    \n",
        "    # Turn probabilities into categories\n",
        "    preds = int(preds_probs[0, 1] > preds_probs[0, 0])\n",
        "    \n",
        "    sentiment = \"negative\"\n",
        "    if preds == 1:\n",
        "        sentiment = 'positive'\n",
        "\n",
        "    return preds, sentiment\n"
      ],
      "id": "SUq5cw-xgrhU"
    },
    {
      "cell_type": "code",
      "execution_count": 68,
      "metadata": {
        "colab": {
          "base_uri": "https://localhost:8080/"
        },
        "id": "3RJntC57grhX",
        "outputId": "29d71b93-ee76-4779-8afa-4d88f631f619"
      },
      "outputs": [
        {
          "output_type": "stream",
          "name": "stdout",
          "text": [
            "The sentiment of the sentence \n",
            "***\n",
            "\"It's such a nice day, I think I'll be taking Sid to Ramsgate for lunch and then to the beach maybe.\"\n",
            "***\n",
            "is positive.\n",
            "\n",
            "The sentiment of the sentence \n",
            "***\n",
            "\"This movie was almost good.\"\n",
            "***\n",
            "is negative.\n"
          ]
        }
      ],
      "source": [
        "# try a positive sentence\n",
        "sentence = \"It's such a nice day, I think I'll be taking Sid to Ramsgate for lunch and then to the beach maybe.\"\n",
        "tmp_pred, tmp_sentiment = predict(sentence)\n",
        "print(f\"The sentiment of the sentence \\n***\\n\\\"{sentence}\\\"\\n***\\nis {tmp_sentiment}.\")\n",
        "\n",
        "print()\n",
        "# try a negative sentence\n",
        "sentence = \"This movie was almost good.\"\n",
        "tmp_pred, tmp_sentiment = predict(sentence)\n",
        "print(f\"The sentiment of the sentence \\n***\\n\\\"{sentence}\\\"\\n***\\nis {tmp_sentiment}.\")"
      ],
      "id": "3RJntC57grhX"
    },
    {
      "cell_type": "markdown",
      "metadata": {
        "id": "nZmGCheXjCYX"
      },
      "source": [
        "Notice that the model works well even for complex sentences."
      ],
      "id": "nZmGCheXjCYX"
    },
    {
      "cell_type": "markdown",
      "metadata": {
        "id": "a1q9H_6nsjfq"
      },
      "source": [
        "<a name=\"7\"></a>\n",
        "## 7 - Word Embeddings"
      ],
      "id": "a1q9H_6nsjfq"
    },
    {
      "cell_type": "markdown",
      "metadata": {
        "id": "oNSCA-Hesjfr"
      },
      "source": [
        "In this section, you will visualize the word embeddings that were constructed for this sentiment analysis task. You can retrieve them by looking at the `model.weights` tuple (recall that the first layer of the model is the embedding layer)."
      ],
      "id": "oNSCA-Hesjfr"
    },
    {
      "cell_type": "code",
      "execution_count": 69,
      "metadata": {
        "id": "MVRKzUdlsjfr"
      },
      "outputs": [],
      "source": [
        "embeddings = model.weights[0]"
      ],
      "id": "MVRKzUdlsjfr"
    },
    {
      "cell_type": "markdown",
      "metadata": {
        "id": "DgTV9gPJsjfr"
      },
      "source": [
        "Let's take a look at the size of the embeddings. "
      ],
      "id": "DgTV9gPJsjfr"
    },
    {
      "cell_type": "code",
      "execution_count": 70,
      "metadata": {
        "id": "TSiauBfXsjfr",
        "colab": {
          "base_uri": "https://localhost:8080/"
        },
        "outputId": "10c18bab-07c3-4355-c030-189e06d2a1c1"
      },
      "outputs": [
        {
          "output_type": "execute_result",
          "data": {
            "text/plain": [
              "(9088, 256)"
            ]
          },
          "metadata": {},
          "execution_count": 70
        }
      ],
      "source": [
        "embeddings.shape"
      ],
      "id": "TSiauBfXsjfr"
    },
    {
      "cell_type": "markdown",
      "metadata": {
        "id": "lxzJVdaasjfs"
      },
      "source": [
        "To visualize the word embeddings, it is necessary to choose 2 directions to use as axes for the plot. You could use random directions or the first two eigenvectors from PCA. Here, you'll use scikit-learn to perform dimensionality reduction of the word embeddings using PCA. "
      ],
      "id": "lxzJVdaasjfs"
    },
    {
      "cell_type": "code",
      "execution_count": 71,
      "metadata": {
        "id": "X0jusVc0sjfs"
      },
      "outputs": [],
      "source": [
        "from sklearn.decomposition import PCA #Import PCA from scikit-learn\n",
        "pca = PCA(n_components=2) #PCA with two dimensions\n",
        "\n",
        "emb_2dim = pca.fit_transform(embeddings) #Dimensionality reduction of the word embeddings"
      ],
      "id": "X0jusVc0sjfs"
    },
    {
      "cell_type": "markdown",
      "metadata": {
        "id": "3K8MVqz_sjfs"
      },
      "source": [
        "Now, everything is ready to plot a selection of words in 2d. "
      ],
      "id": "3K8MVqz_sjfs"
    },
    {
      "cell_type": "code",
      "execution_count": 72,
      "metadata": {
        "id": "8Vz7DxRKsjfs",
        "colab": {
          "base_uri": "https://localhost:8080/",
          "height": 281
        },
        "outputId": "c9259a2e-4dd9-419b-cddc-40a8bb2dfbb8"
      },
      "outputs": [
        {
          "output_type": "display_data",
          "data": {
            "text/plain": [
              "<Figure size 432x288 with 1 Axes>"
            ],
            "image/png": "[encoded data removed]"
          },
          "metadata": {
            "needs_background": "light"
          }
        }
      ],
      "source": [
        "%matplotlib inline\n",
        "import matplotlib.pyplot as plt\n",
        "\n",
        "#Selection of negative and positive words\n",
        "neg_words = ['worst', 'bad', 'hurt', 'sad', 'hate']\n",
        "pos_words = ['best', 'good', 'nice', 'better', 'love']\n",
        "\n",
        "#Index of each selected word\n",
        "neg_n = [Vocab[w] for w in neg_words]\n",
        "pos_n = [Vocab[w] for w in pos_words]\n",
        "\n",
        "plt.figure()\n",
        "\n",
        "#Scatter plot for negative words\n",
        "plt.scatter(emb_2dim[neg_n][:,0],emb_2dim[neg_n][:,1], color = 'r')\n",
        "for i, txt in enumerate(neg_words): \n",
        "    plt.annotate(txt, (emb_2dim[neg_n][i,0],emb_2dim[neg_n][i,1]))\n",
        "\n",
        "#Scatter plot for positive words\n",
        "plt.scatter(emb_2dim[pos_n][:,0],emb_2dim[pos_n][:,1], color = 'g')\n",
        "for i, txt in enumerate(pos_words): \n",
        "    plt.annotate(txt,(emb_2dim[pos_n][i,0],emb_2dim[pos_n][i,1]))\n",
        "\n",
        "plt.title('Word embeddings in 2d')\n",
        "\n",
        "plt.show()"
      ],
      "id": "8Vz7DxRKsjfs"
    },
    {
      "cell_type": "markdown",
      "metadata": {
        "id": "-i6sId-Psjft"
      },
      "source": [
        "As you can see, the word embeddings for this task seem to distinguish negative and positive meanings very well. However, clusters don't necessarily have similar words since you only trained the model to analyze overall sentiment. "
      ],
      "id": "-i6sId-Psjft"
    },
    {
      "cell_type": "markdown",
      "metadata": {
        "id": "mNg0fAYIgrhd"
      },
      "source": [
        "### On Deep Nets\n",
        "\n",
        "Deep nets allow you to understand and capture dependencies that you would have not been able to capture with a simple linear regression, or logistic regression. \n",
        "- It also allows you to better use pre-trained embeddings for classification and tends to generalize better."
      ],
      "id": "mNg0fAYIgrhd"
    }
  ],
  "metadata": {
    "jupytext": {
      "encoding": "# -*- coding: utf-8 -*-"
    },
    "kernelspec": {
      "display_name": "Python 3",
      "language": "python",
      "name": "python3"
    },
    "language_info": {
      "codemirror_mode": {
        "name": "ipython",
        "version": 3
      },
      "file_extension": ".py",
      "mimetype": "text/x-python",
      "name": "python",
      "nbconvert_exporter": "python",
      "pygments_lexer": "ipython3",
      "version": "3.7.6"
    },
    "colab": {
      "provenance": [],
      "include_colab_link": true
    }
  },
  "nbformat": 4,
  "nbformat_minor": 5
}