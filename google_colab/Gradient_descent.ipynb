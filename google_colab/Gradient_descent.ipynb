{
  "nbformat": 4,
  "nbformat_minor": 0,
  "metadata": {
    "colab": {
      "provenance": [],
      "authorship_tag": "ABX9TyNG9d91EGtJWqA93Uqpevgp",
      "include_colab_link": true
    },
    "kernelspec": {
      "name": "python3",
      "display_name": "Python 3"
    },
    "language_info": {
      "name": "python"
    }
  },
  "cells": [
    {
      "cell_type": "markdown",
      "metadata": {
        "id": "view-in-github",
        "colab_type": "text"
      },
      "source": [
        "<a href=\"https://colab.research.google.com/github/Sukhman723/my_projects/blob/main/google_colab/Gradient_descent.ipynb\" target=\"_parent\"><img src=\"https://colab.research.google.com/assets/colab-badge.svg\" alt=\"Open In Colab\"/></a>"
      ]
    },
    {
      "cell_type": "markdown",
      "source": [
        "# Import libraries and load data"
      ],
      "metadata": {
        "id": "pn3fkK48UgI7"
      }
    },
    {
      "cell_type": "code",
      "metadata": {
        "id": "4XM2YOzVdInS"
      },
      "source": [
        "import pandas as pd\n",
        "my_data = {'Diabetes': [1,3,3,4,5,1],\n",
        "           #'Cancer': [1,3,2,2,5,4],\n",
        "           'recovered':[0,1,1,0,1,0]}\n",
        "my_data = pd.DataFrame(my_data)\n",
        "#split data\n",
        "y = my_data['recovered']\n",
        "X = my_data.drop('recovered',axis=1)"
      ],
      "execution_count": 1,
      "outputs": []
    },
    {
      "cell_type": "code",
      "metadata": {
        "colab": {
          "base_uri": "https://localhost:8080/"
        },
        "id": "BDjiwrdneq3k",
        "outputId": "89182a17-495f-4ecc-a290-b63861ef9468"
      },
      "source": [
        "# convert to one-dimensional array (vector)\n",
        "X = X.values.ravel()\n",
        "X"
      ],
      "execution_count": 5,
      "outputs": [
        {
          "output_type": "execute_result",
          "data": {
            "text/plain": [
              "array([1, 3, 3, 4, 5, 1])"
            ]
          },
          "metadata": {},
          "execution_count": 5
        }
      ]
    },
    {
      "cell_type": "markdown",
      "source": [
        "# Gradient descent for single feature"
      ],
      "metadata": {
        "id": "WUeHEt8GIwkC"
      }
    },
    {
      "cell_type": "code",
      "metadata": {
        "id": "JdVi4xQjdjiq"
      },
      "source": [
        "import numpy as np\n",
        "from sklearn.metrics import mean_squared_error\n",
        "def gradient_descent(X, y, lr=0.05, epoch=10):\n",
        "    \n",
        "    '''\n",
        "    Gradient Descent for a single feature\n",
        "    '''\n",
        "    \n",
        "    m, b = 0.33, 0.48 # parameters\n",
        "    log, mse = [], [] # lists to store learning process\n",
        "    N = len(X) # number of samples\n",
        "    \n",
        "    for _ in range(epoch):\n",
        "                \n",
        "        f = y - (m*X + b)\n",
        "        print(\"f is:\\n\", f)\n",
        "    \n",
        "        # Updating m and b\n",
        "        m -= lr * (-2 * X.dot(f).sum() / N)\n",
        "        b -= lr * (-2 * f.sum() / N)\n",
        "        \n",
        "        log.append((m, b))\n",
        "        mse.append(mean_squared_error(y, (m*X + b)))        \n",
        "    \n",
        "    return m, b, log, mse"
      ],
      "execution_count": 16,
      "outputs": []
    },
    {
      "cell_type": "markdown",
      "source": [
        "# Stochastic Gradient Descent for a single feature"
      ],
      "metadata": {
        "id": "VGK2_6aXIzzl"
      }
    },
    {
      "cell_type": "code",
      "metadata": {
        "id": "mfi-h4A4jPQT"
      },
      "source": [
        "def SGD(X, y, lr=0.05, epoch=10, batch_size=1):\n",
        "        \n",
        "    '''\n",
        "    Stochastic Gradient Descent for a single feature\n",
        "    '''\n",
        "    \n",
        "    m, b = 0.33, 0.48 # initial parameters\n",
        "    log, mse = [], [] # lists to store learning process\n",
        "    \n",
        "    for _ in range(epoch):\n",
        "        \n",
        "        indexes = np.random.randint(0, len(X), batch_size) # random sample\n",
        "        \n",
        "        Xs = np.take(X, indexes)\n",
        "        ys = np.take(y, indexes)\n",
        "        N = len(Xs)\n",
        "        #print('N is: ', N)\n",
        "        \n",
        "        # define loss (cost function)\n",
        "        f = ys - (m*Xs + b)\n",
        "        print(f)\n",
        "        \n",
        "        # Updating parameters m and b\n",
        "      #  m -= lr * (-2 * Xs.dot(f).sum() / N)\n",
        "        print('Xs.dot(f): ',Xs.dot(f))\n",
        "        print('Xs*f: ',Xs*f)\n",
        "        print('Xs.dot(f).sum(): ',Xs.dot(f).sum())\n",
        "      #  b -= lr * (-2 * f.sum() / N)\n",
        "\n",
        "        \n",
        "        m -= lr * (-2 * Xs.dot(f))\n",
        "        b -= lr * (-2 * f)\n",
        "        print('m is: ',m)\n",
        "        log.append((m, b))\n",
        "        mse.append(mean_squared_error(y, m*X+b))        \n",
        "    \n",
        "    return m, b, log, mse"
      ],
      "execution_count": 8,
      "outputs": []
    },
    {
      "cell_type": "code",
      "metadata": {
        "colab": {
          "base_uri": "https://localhost:8080/"
        },
        "id": "K8pZyKO9eGYj",
        "outputId": "124c3e7d-9329-4625-8e3b-6459666a4154"
      },
      "source": [
        "gradient_descent(X,y)"
      ],
      "execution_count": 17,
      "outputs": [
        {
          "output_type": "stream",
          "name": "stdout",
          "text": [
            "f is:\n",
            " 0   -0.81\n",
            "1   -0.47\n",
            "2   -0.47\n",
            "3   -1.80\n",
            "4   -1.13\n",
            "5   -0.81\n",
            "Name: recovered, dtype: float64\n",
            "f is:\n",
            " 0   -0.430333\n",
            "1    0.486000\n",
            "2    0.486000\n",
            "3   -0.555833\n",
            "4    0.402333\n",
            "5   -0.430333\n",
            "Name: recovered, dtype: float64\n",
            "f is:\n",
            " 0   -0.460358\n",
            "1    0.394519\n",
            "2    0.394519\n",
            "3   -0.678042\n",
            "4    0.249397\n",
            "5   -0.460358\n",
            "Name: recovered, dtype: float64\n",
            "f is:\n",
            " 0   -0.450707\n",
            "1    0.404797\n",
            "2    0.404797\n",
            "3   -0.667451\n",
            "4    0.260301\n",
            "5   -0.450707\n",
            "Name: recovered, dtype: float64\n",
            "f is:\n",
            " 0   -0.445042\n",
            "1    0.405160\n",
            "2    0.405160\n",
            "3   -0.669740\n",
            "4    0.255361\n",
            "5   -0.445042\n",
            "Name: recovered, dtype: float64\n",
            "f is:\n",
            " 0   -0.439118\n",
            "1    0.406459\n",
            "2    0.406459\n",
            "3   -0.670752\n",
            "4    0.252037\n",
            "5   -0.439118\n",
            "Name: recovered, dtype: float64\n",
            "f is:\n",
            " 0   -0.433346\n",
            "1    0.407642\n",
            "2    0.407642\n",
            "3   -0.671864\n",
            "4    0.248629\n",
            "5   -0.433346\n",
            "Name: recovered, dtype: float64\n",
            "f is:\n",
            " 0   -0.427682\n",
            "1    0.408810\n",
            "2    0.408810\n",
            "3   -0.672944\n",
            "4    0.245303\n",
            "5   -0.427682\n",
            "Name: recovered, dtype: float64\n",
            "f is:\n",
            " 0   -0.422130\n",
            "1    0.409955\n",
            "2    0.409955\n",
            "3   -0.674003\n",
            "4    0.242040\n",
            "5   -0.422130\n",
            "Name: recovered, dtype: float64\n",
            "f is:\n",
            " 0   -0.416686\n",
            "1    0.411077\n",
            "2    0.411077\n",
            "3   -0.675041\n",
            "4    0.238840\n",
            "5   -0.416686\n",
            "Name: recovered, dtype: float64\n"
          ]
        },
        {
          "output_type": "execute_result",
          "data": {
            "text/plain": [
              "(0.08823734977476985,\n",
              " 0.32311012127225364,\n",
              " [(0.04183333333333339, 0.38849999999999996),\n",
              "  (0.07256111111111112, 0.3877972222222222),\n",
              "  (0.07224810185185186, 0.37845851851851847),\n",
              "  (0.07489928472222224, 0.37014237114197523),\n",
              "  (0.07721134009773664, 0.3619066700231481),\n",
              "  (0.07950625449181242, 0.35383945665980787),\n",
              "  (0.08175371637152423, 0.34592873888781356),\n",
              "  (0.08395762870892742, 0.33817231202710035),\n",
              "  (0.08611855111383945, 0.3305670860235276),\n",
              "  (0.08823734977476985, 0.32311012127225364)],\n",
              " [0.2189313935185185,\n",
              "  0.20951504173611105,\n",
              "  0.20787362620429703,\n",
              "  0.20636556556768929,\n",
              "  0.20491639056507385,\n",
              "  0.20352317312239868,\n",
              "  0.20218374658892202,\n",
              "  0.2008960340885139,\n",
              "  0.19965803898913903,\n",
              "  0.1984678417474435])"
            ]
          },
          "metadata": {},
          "execution_count": 17
        }
      ]
    },
    {
      "cell_type": "code",
      "metadata": {
        "colab": {
          "base_uri": "https://localhost:8080/"
        },
        "id": "ICfTKwOslX1b",
        "outputId": "0bb0b745-1eb7-4488-a62c-99f090d478d4"
      },
      "source": [
        "\"\"\"\n",
        "ys = 0\n",
        "m = 0.43\n",
        "Xs = 3\n",
        "b = 0.8\n",
        "f = ys - (m*Xs + b)\n",
        "lr = 0.03\n",
        "m = lr * (-2 * Xs * f  )\n",
        "m\n",
        "\"\"\""
      ],
      "execution_count": 13,
      "outputs": [
        {
          "output_type": "execute_result",
          "data": {
            "text/plain": [
              "0.3762"
            ]
          },
          "metadata": {},
          "execution_count": 13
        }
      ]
    }
  ]
}